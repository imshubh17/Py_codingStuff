{
  "nbformat": 4,
  "nbformat_minor": 0,
  "metadata": {
    "colab": {
      "name": "pandas-practice.ipynb",
      "provenance": [],
      "collapsed_sections": []
    },
    "kernelspec": {
      "name": "python3",
      "display_name": "Python 3"
    }
  },
  "cells": [
    {
      "cell_type": "code",
      "metadata": {
        "id": "cSlxYmC1owpC",
        "colab_type": "code",
        "colab": {
          "base_uri": "https://localhost:8080/",
          "height": 102
        },
        "outputId": "fa9c4edf-97c9-445e-bbfd-6bbeae2fb035"
      },
      "source": [
        "# We import Pandas as pd into Python\n",
        "import pandas as pd\n",
        "\n",
        "# We create a Pandas Series that stores a grocery list\n",
        "groceries = pd.Series(data = [30, 6, 'Yes', 'No'], index = ['eggs', 'apples', 'milk', 'bread'])\n",
        "\n",
        "# We display the Groceries Pandas Series\n",
        "groceries"
      ],
      "execution_count": 2,
      "outputs": [
        {
          "output_type": "execute_result",
          "data": {
            "text/plain": [
              "eggs       30\n",
              "apples      6\n",
              "milk      Yes\n",
              "bread      No\n",
              "dtype: object"
            ]
          },
          "metadata": {
            "tags": []
          },
          "execution_count": 2
        }
      ]
    },
    {
      "cell_type": "code",
      "metadata": {
        "id": "LgZ-82w9pAs-",
        "colab_type": "code",
        "colab": {
          "base_uri": "https://localhost:8080/",
          "height": 68
        },
        "outputId": "b24db5b4-e449-408f-dfbb-b5987a029792"
      },
      "source": [
        "# We print some information about Groceries\n",
        "print('Groceries has shape:', groceries.shape)\n",
        "print('Groceries has dimension:', groceries.ndim)\n",
        "print('Groceries has a total of', groceries.size, 'elements')"
      ],
      "execution_count": 3,
      "outputs": [
        {
          "output_type": "stream",
          "text": [
            "Groceries has shape: (4,)\n",
            "Groceries has dimension: 1\n",
            "Groceries has a total of 4 elements\n"
          ],
          "name": "stdout"
        }
      ]
    },
    {
      "cell_type": "code",
      "metadata": {
        "id": "HmcVAIJ3pIsF",
        "colab_type": "code",
        "colab": {
          "base_uri": "https://localhost:8080/",
          "height": 51
        },
        "outputId": "b546f5a7-c21d-4dd4-ff62-c9564968357b"
      },
      "source": [
        "# We print the index and data of Groceries\n",
        "print('The data in Groceries is:', groceries.values)\n",
        "print('The index of Groceries is:', groceries.index)"
      ],
      "execution_count": 4,
      "outputs": [
        {
          "output_type": "stream",
          "text": [
            "The data in Groceries is: [30 6 'Yes' 'No']\n",
            "The index of Groceries is: Index(['eggs', 'apples', 'milk', 'bread'], dtype='object')\n"
          ],
          "name": "stdout"
        }
      ]
    },
    {
      "cell_type": "code",
      "metadata": {
        "id": "KwlONvtmpO5r",
        "colab_type": "code",
        "colab": {
          "base_uri": "https://localhost:8080/",
          "height": 51
        },
        "outputId": "81e5cc7d-1183-4adb-e9d9-e7c9fee29081"
      },
      "source": [
        "# We check whether bananas is a food item (an index) in Groceries\n",
        "x = 'bananas' in groceries\n",
        "\n",
        "# We check whether bread is a food item (an index) in Groceries\n",
        "y = 'bread' in groceries\n",
        "\n",
        "# We print the results\n",
        "print('Is bananas an index label in Groceries:', x)\n",
        "print('Is bread an index label in Groceries:', y)"
      ],
      "execution_count": 5,
      "outputs": [
        {
          "output_type": "stream",
          "text": [
            "Is bananas an index label in Groceries: False\n",
            "Is bread an index label in Groceries: True\n"
          ],
          "name": "stdout"
        }
      ]
    },
    {
      "cell_type": "code",
      "metadata": {
        "id": "TFr6xVpcpUyN",
        "colab_type": "code",
        "colab": {
          "base_uri": "https://localhost:8080/",
          "height": 476
        },
        "outputId": "ca0dbe3d-a22a-4209-b9d3-6064571ebd75"
      },
      "source": [
        "# We access elements in Groceries using index labels:\n",
        "\n",
        "# We use a single index label\n",
        "print('How many eggs do we need to buy:', groceries['eggs'])\n",
        "print()\n",
        "\n",
        "# we can access multiple index labels\n",
        "print('Do we need milk and bread:\\n', groceries[['milk', 'bread']]) \n",
        "print()\n",
        "\n",
        "# we use loc to access multiple index labels\n",
        "print('How many eggs and apples do we need to buy:\\n', groceries.loc[['eggs', 'apples']]) \n",
        "print()\n",
        "\n",
        "# We access elements in Groceries using numerical indices:\n",
        "\n",
        "# we use multiple numerical indices\n",
        "print('How many eggs and apples do we need to buy:\\n',  groceries[[0, 1]]) \n",
        "print()\n",
        "\n",
        "# We use a negative numerical index\n",
        "print('Do we need bread:\\n', groceries[[-1]]) \n",
        "print()\n",
        "\n",
        "# We use a single numerical index\n",
        "print('How many eggs do we need to buy:', groceries[0]) \n",
        "print()\n",
        "# we use iloc to access multiple numerical indices\n",
        "print('Do we need milk and bread:\\n', groceries.iloc[[2, 3]]) "
      ],
      "execution_count": 6,
      "outputs": [
        {
          "output_type": "stream",
          "text": [
            "How many eggs do we need to buy: 30\n",
            "\n",
            "Do we need milk and bread:\n",
            " milk     Yes\n",
            "bread     No\n",
            "dtype: object\n",
            "\n",
            "How many eggs and apples do we need to buy:\n",
            " eggs      30\n",
            "apples     6\n",
            "dtype: object\n",
            "\n",
            "How many eggs and apples do we need to buy:\n",
            " eggs      30\n",
            "apples     6\n",
            "dtype: object\n",
            "\n",
            "Do we need bread:\n",
            " bread    No\n",
            "dtype: object\n",
            "\n",
            "How many eggs do we need to buy: 30\n",
            "\n",
            "Do we need milk and bread:\n",
            " milk     Yes\n",
            "bread     No\n",
            "dtype: object\n"
          ],
          "name": "stdout"
        }
      ]
    },
    {
      "cell_type": "code",
      "metadata": {
        "id": "zK06u9jXpkfq",
        "colab_type": "code",
        "colab": {
          "base_uri": "https://localhost:8080/",
          "height": 238
        },
        "outputId": "63e6efad-256b-4829-8430-aae1223ffad1"
      },
      "source": [
        "# We display the original grocery list\n",
        "print('Original Grocery List:\\n', groceries)\n",
        "\n",
        "# We change the number of eggs to 2\n",
        "groceries['eggs'] = 2\n",
        "\n",
        "# We display the changed grocery list\n",
        "print()\n",
        "print('Modified Grocery List:\\n', groceries)"
      ],
      "execution_count": 7,
      "outputs": [
        {
          "output_type": "stream",
          "text": [
            "Original Grocery List:\n",
            " eggs       30\n",
            "apples      6\n",
            "milk      Yes\n",
            "bread      No\n",
            "dtype: object\n",
            "\n",
            "Modified Grocery List:\n",
            " eggs        2\n",
            "apples      6\n",
            "milk      Yes\n",
            "bread      No\n",
            "dtype: object\n"
          ],
          "name": "stdout"
        }
      ]
    },
    {
      "cell_type": "code",
      "metadata": {
        "id": "WNeyr3sDpppQ",
        "colab_type": "code",
        "colab": {
          "base_uri": "https://localhost:8080/",
          "height": 340
        },
        "outputId": "e3d53d8b-6f99-484d-873c-14b770c5d104"
      },
      "source": [
        "# We display the original grocery list\n",
        "print('Original Grocery List:\\n', groceries)\n",
        "\n",
        "# We remove apples from our grocery list. The drop function removes elements out of place\n",
        "print()\n",
        "print('We remove apples (out of place):\\n', groceries.drop('apples'))\n",
        "\n",
        "# When we remove elements out of place the original Series remains intact. To see this\n",
        "# we display our grocery list again\n",
        "print()\n",
        "print('Grocery List after removing apples out of place:\\n', groceries)"
      ],
      "execution_count": 8,
      "outputs": [
        {
          "output_type": "stream",
          "text": [
            "Original Grocery List:\n",
            " eggs        2\n",
            "apples      6\n",
            "milk      Yes\n",
            "bread      No\n",
            "dtype: object\n",
            "\n",
            "We remove apples (out of place):\n",
            " eggs       2\n",
            "milk     Yes\n",
            "bread     No\n",
            "dtype: object\n",
            "\n",
            "Grocery List after removing apples out of place:\n",
            " eggs        2\n",
            "apples      6\n",
            "milk      Yes\n",
            "bread      No\n",
            "dtype: object\n"
          ],
          "name": "stdout"
        }
      ]
    },
    {
      "cell_type": "code",
      "metadata": {
        "id": "_T9rpd4ZpuP5",
        "colab_type": "code",
        "colab": {
          "base_uri": "https://localhost:8080/",
          "height": 221
        },
        "outputId": "73e1ba4b-3d75-4fae-a588-74a588dc23da"
      },
      "source": [
        "# We display the original grocery list\n",
        "print('Original Grocery List:\\n', groceries)\n",
        "\n",
        "# We remove apples from our grocery list in place by setting the inplace keyword to True\n",
        "groceries.drop('apples', inplace = True)\n",
        "\n",
        "# When we remove elements in place the original Series its modified. To see this\n",
        "# we display our grocery list again\n",
        "print()\n",
        "print('Grocery List after removing apples in place:\\n', groceries)"
      ],
      "execution_count": 9,
      "outputs": [
        {
          "output_type": "stream",
          "text": [
            "Original Grocery List:\n",
            " eggs        2\n",
            "apples      6\n",
            "milk      Yes\n",
            "bread      No\n",
            "dtype: object\n",
            "\n",
            "Grocery List after removing apples in place:\n",
            " eggs       2\n",
            "milk     Yes\n",
            "bread     No\n",
            "dtype: object\n"
          ],
          "name": "stdout"
        }
      ]
    },
    {
      "cell_type": "code",
      "metadata": {
        "id": "rwLoCNVapz93",
        "colab_type": "code",
        "colab": {
          "base_uri": "https://localhost:8080/",
          "height": 85
        },
        "outputId": "10325254-e010-4bef-97a0-1c0f68920c7f"
      },
      "source": [
        "# We create a Pandas Series that stores a grocery list of just fruits\n",
        "fruits= pd.Series(data = [10, 6, 3,], index = ['apples', 'oranges', 'bananas'])\n",
        "\n",
        "# We display the fruits Pandas Series\n",
        "fruits"
      ],
      "execution_count": 10,
      "outputs": [
        {
          "output_type": "execute_result",
          "data": {
            "text/plain": [
              "apples     10\n",
              "oranges     6\n",
              "bananas     3\n",
              "dtype: int64"
            ]
          },
          "metadata": {
            "tags": []
          },
          "execution_count": 10
        }
      ]
    },
    {
      "cell_type": "code",
      "metadata": {
        "id": "rweIJrs7p4v3",
        "colab_type": "code",
        "colab": {
          "base_uri": "https://localhost:8080/",
          "height": 527
        },
        "outputId": "b2d18b0c-cdd7-4715-ea5b-c256fe0c3bba"
      },
      "source": [
        "# We print fruits for reference\n",
        "print('Original grocery list of fruits:\\n ', fruits)\n",
        "\n",
        "# We perform basic element-wise operations using arithmetic symbols\n",
        "print()\n",
        "print('fruits + 2:\\n', fruits + 2) # We add 2 to each item in fruits\n",
        "print()\n",
        "print('fruits - 2:\\n', fruits - 2) # We subtract 2 to each item in fruits\n",
        "print()\n",
        "print('fruits * 2:\\n', fruits * 2) # We multiply each item in fruits by 2 \n",
        "print()\n",
        "print('fruits / 2:\\n', fruits / 2) # We divide each item in fruits by 2\n",
        "print()"
      ],
      "execution_count": 11,
      "outputs": [
        {
          "output_type": "stream",
          "text": [
            "Original grocery list of fruits:\n",
            "  apples     10\n",
            "oranges     6\n",
            "bananas     3\n",
            "dtype: int64\n",
            "\n",
            "fruits + 2:\n",
            " apples     12\n",
            "oranges     8\n",
            "bananas     5\n",
            "dtype: int64\n",
            "\n",
            "fruits - 2:\n",
            " apples     8\n",
            "oranges    4\n",
            "bananas    1\n",
            "dtype: int64\n",
            "\n",
            "fruits * 2:\n",
            " apples     20\n",
            "oranges    12\n",
            "bananas     6\n",
            "dtype: int64\n",
            "\n",
            "fruits / 2:\n",
            " apples     5.0\n",
            "oranges    3.0\n",
            "bananas    1.5\n",
            "dtype: float64\n",
            "\n"
          ],
          "name": "stdout"
        }
      ]
    },
    {
      "cell_type": "code",
      "metadata": {
        "id": "W0heMCq-p9eS",
        "colab_type": "code",
        "colab": {
          "base_uri": "https://localhost:8080/",
          "height": 408
        },
        "outputId": "333c8cde-b9e5-4217-a1ad-c9b6c1a87914"
      },
      "source": [
        "# We import NumPy as np to be able to use the mathematical functions\n",
        "import numpy as np\n",
        "\n",
        "# We print fruits for reference\n",
        "print('Original grocery list of fruits:\\n', fruits)\n",
        "\n",
        "# We apply different mathematical functions to all elements of fruits\n",
        "print()\n",
        "print('EXP(X) = \\n', np.exp(fruits))\n",
        "print() \n",
        "print('SQRT(X) =\\n', np.sqrt(fruits))\n",
        "print()\n",
        "print('POW(X,2) =\\n',np.power(fruits,2)) # We raise all elements of fruits to the power of 2"
      ],
      "execution_count": 12,
      "outputs": [
        {
          "output_type": "stream",
          "text": [
            "Original grocery list of fruits:\n",
            " apples     10\n",
            "oranges     6\n",
            "bananas     3\n",
            "dtype: int64\n",
            "\n",
            "EXP(X) = \n",
            " apples     22026.465795\n",
            "oranges      403.428793\n",
            "bananas       20.085537\n",
            "dtype: float64\n",
            "\n",
            "SQRT(X) =\n",
            " apples     3.162278\n",
            "oranges    2.449490\n",
            "bananas    1.732051\n",
            "dtype: float64\n",
            "\n",
            "POW(X,2) =\n",
            " apples     100\n",
            "oranges     36\n",
            "bananas      9\n",
            "dtype: int64\n"
          ],
          "name": "stdout"
        }
      ]
    },
    {
      "cell_type": "code",
      "metadata": {
        "id": "4uBPVRRiqF5x",
        "colab_type": "code",
        "colab": {
          "base_uri": "https://localhost:8080/",
          "height": 340
        },
        "outputId": "8a3e8ddb-093c-4699-af4e-36e683aa1a7e"
      },
      "source": [
        "# We print fruits for reference\n",
        "print('Original grocery list of fruits:\\n ', fruits)\n",
        "print()\n",
        "\n",
        "# We add 2 only to the bananas\n",
        "print('Amount of bananas + 2 = ', fruits['bananas'] + 2)\n",
        "print()\n",
        "\n",
        "# We subtract 2 from apples\n",
        "print('Amount of apples - 2 = ', fruits.iloc[0] - 2)\n",
        "print()\n",
        "\n",
        "# We multiply apples and oranges by 2\n",
        "print('We double the amount of apples and oranges:\\n', fruits[['apples', 'oranges']] * 2)\n",
        "print()\n",
        "# We divide apples and oranges by 2\n",
        "print('We half the amount of apples and oranges:\\n', fruits.loc[['apples', 'oranges']] / 2)"
      ],
      "execution_count": 13,
      "outputs": [
        {
          "output_type": "stream",
          "text": [
            "Original grocery list of fruits:\n",
            "  apples     10\n",
            "oranges     6\n",
            "bananas     3\n",
            "dtype: int64\n",
            "\n",
            "Amount of bananas + 2 =  5\n",
            "\n",
            "Amount of apples - 2 =  8\n",
            "\n",
            "We double the amount of apples and oranges:\n",
            " apples     20\n",
            "oranges    12\n",
            "dtype: int64\n",
            "\n",
            "We half the amount of apples and oranges:\n",
            " apples     5.0\n",
            "oranges    3.0\n",
            "dtype: float64\n"
          ],
          "name": "stdout"
        }
      ]
    },
    {
      "cell_type": "code",
      "metadata": {
        "id": "VlvYWzCWqVGm",
        "colab_type": "code",
        "colab": {
          "base_uri": "https://localhost:8080/",
          "height": 34
        },
        "outputId": "67f81e24-151e-4ab7-8a6c-c9d12f194565"
      },
      "source": [
        "# We import Pandas as pd into Python\n",
        "import pandas as pd\n",
        "\n",
        "# We create a dictionary of Pandas Series \n",
        "items = {'Bob' : pd.Series(data = [245, 25, 55], index = ['bike', 'pants', 'watch']),\n",
        "         'Alice' : pd.Series(data = [40, 110, 500, 45], index = ['book', 'glasses', 'bike', 'pants'])}\n",
        "\n",
        "# We print the type of items to see that it is a dictionary\n",
        "print(type(items))"
      ],
      "execution_count": 14,
      "outputs": [
        {
          "output_type": "stream",
          "text": [
            "<class 'dict'>\n"
          ],
          "name": "stdout"
        }
      ]
    },
    {
      "cell_type": "code",
      "metadata": {
        "id": "pcA8q71sqbS3",
        "colab_type": "code",
        "colab": {
          "base_uri": "https://localhost:8080/",
          "height": 204
        },
        "outputId": "ad0b9c2e-8408-4529-af66-52b8c22abfa1"
      },
      "source": [
        "# We create a Pandas DataFrame by passing it a dictionary of Pandas Series\n",
        "shopping_carts = pd.DataFrame(items)\n",
        "\n",
        "# We display the DataFrame\n",
        "shopping_carts"
      ],
      "execution_count": 15,
      "outputs": [
        {
          "output_type": "execute_result",
          "data": {
            "text/html": [
              "<div>\n",
              "<style scoped>\n",
              "    .dataframe tbody tr th:only-of-type {\n",
              "        vertical-align: middle;\n",
              "    }\n",
              "\n",
              "    .dataframe tbody tr th {\n",
              "        vertical-align: top;\n",
              "    }\n",
              "\n",
              "    .dataframe thead th {\n",
              "        text-align: right;\n",
              "    }\n",
              "</style>\n",
              "<table border=\"1\" class=\"dataframe\">\n",
              "  <thead>\n",
              "    <tr style=\"text-align: right;\">\n",
              "      <th></th>\n",
              "      <th>Bob</th>\n",
              "      <th>Alice</th>\n",
              "    </tr>\n",
              "  </thead>\n",
              "  <tbody>\n",
              "    <tr>\n",
              "      <th>bike</th>\n",
              "      <td>245.0</td>\n",
              "      <td>500.0</td>\n",
              "    </tr>\n",
              "    <tr>\n",
              "      <th>book</th>\n",
              "      <td>NaN</td>\n",
              "      <td>40.0</td>\n",
              "    </tr>\n",
              "    <tr>\n",
              "      <th>glasses</th>\n",
              "      <td>NaN</td>\n",
              "      <td>110.0</td>\n",
              "    </tr>\n",
              "    <tr>\n",
              "      <th>pants</th>\n",
              "      <td>25.0</td>\n",
              "      <td>45.0</td>\n",
              "    </tr>\n",
              "    <tr>\n",
              "      <th>watch</th>\n",
              "      <td>55.0</td>\n",
              "      <td>NaN</td>\n",
              "    </tr>\n",
              "  </tbody>\n",
              "</table>\n",
              "</div>"
            ],
            "text/plain": [
              "           Bob  Alice\n",
              "bike     245.0  500.0\n",
              "book       NaN   40.0\n",
              "glasses    NaN  110.0\n",
              "pants     25.0   45.0\n",
              "watch     55.0    NaN"
            ]
          },
          "metadata": {
            "tags": []
          },
          "execution_count": 15
        }
      ]
    },
    {
      "cell_type": "code",
      "metadata": {
        "id": "3Hu2lXiCqfQG",
        "colab_type": "code",
        "colab": {
          "base_uri": "https://localhost:8080/",
          "height": 173
        },
        "outputId": "0efe2684-32b6-4ede-d912-4c501002c985"
      },
      "source": [
        "# We create a dictionary of Pandas Series without indexes\n",
        "data = {'Bob' : pd.Series([245, 25, 55]),\n",
        "        'Alice' : pd.Series([40, 110, 500, 45])}\n",
        "\n",
        "# We create a DataFrame\n",
        "df = pd.DataFrame(data)\n",
        "\n",
        "# We display the DataFrame\n",
        "df"
      ],
      "execution_count": 16,
      "outputs": [
        {
          "output_type": "execute_result",
          "data": {
            "text/html": [
              "<div>\n",
              "<style scoped>\n",
              "    .dataframe tbody tr th:only-of-type {\n",
              "        vertical-align: middle;\n",
              "    }\n",
              "\n",
              "    .dataframe tbody tr th {\n",
              "        vertical-align: top;\n",
              "    }\n",
              "\n",
              "    .dataframe thead th {\n",
              "        text-align: right;\n",
              "    }\n",
              "</style>\n",
              "<table border=\"1\" class=\"dataframe\">\n",
              "  <thead>\n",
              "    <tr style=\"text-align: right;\">\n",
              "      <th></th>\n",
              "      <th>Bob</th>\n",
              "      <th>Alice</th>\n",
              "    </tr>\n",
              "  </thead>\n",
              "  <tbody>\n",
              "    <tr>\n",
              "      <th>0</th>\n",
              "      <td>245.0</td>\n",
              "      <td>40</td>\n",
              "    </tr>\n",
              "    <tr>\n",
              "      <th>1</th>\n",
              "      <td>25.0</td>\n",
              "      <td>110</td>\n",
              "    </tr>\n",
              "    <tr>\n",
              "      <th>2</th>\n",
              "      <td>55.0</td>\n",
              "      <td>500</td>\n",
              "    </tr>\n",
              "    <tr>\n",
              "      <th>3</th>\n",
              "      <td>NaN</td>\n",
              "      <td>45</td>\n",
              "    </tr>\n",
              "  </tbody>\n",
              "</table>\n",
              "</div>"
            ],
            "text/plain": [
              "     Bob  Alice\n",
              "0  245.0     40\n",
              "1   25.0    110\n",
              "2   55.0    500\n",
              "3    NaN     45"
            ]
          },
          "metadata": {
            "tags": []
          },
          "execution_count": 16
        }
      ]
    },
    {
      "cell_type": "code",
      "metadata": {
        "id": "ZivF95kNqlxR",
        "colab_type": "code",
        "colab": {
          "base_uri": "https://localhost:8080/",
          "height": 255
        },
        "outputId": "50f2b4ec-a47e-4b43-97fb-5e7960ea808e"
      },
      "source": [
        "# We print some information about shopping_carts\n",
        "print('shopping_carts has shape:', shopping_carts.shape)\n",
        "print('shopping_carts has dimension:', shopping_carts.ndim)\n",
        "print('shopping_carts has a total of:', shopping_carts.size, 'elements')\n",
        "print()\n",
        "print('The data in shopping_carts is:\\n', shopping_carts.values)\n",
        "print()\n",
        "print('The row index in shopping_carts is:', shopping_carts.index)\n",
        "print()\n",
        "print('The column index in shopping_carts is:', shopping_carts.columns)"
      ],
      "execution_count": 17,
      "outputs": [
        {
          "output_type": "stream",
          "text": [
            "shopping_carts has shape: (5, 2)\n",
            "shopping_carts has dimension: 2\n",
            "shopping_carts has a total of: 10 elements\n",
            "\n",
            "The data in shopping_carts is:\n",
            " [[245. 500.]\n",
            " [ nan  40.]\n",
            " [ nan 110.]\n",
            " [ 25.  45.]\n",
            " [ 55.  nan]]\n",
            "\n",
            "The row index in shopping_carts is: Index(['bike', 'book', 'glasses', 'pants', 'watch'], dtype='object')\n",
            "\n",
            "The column index in shopping_carts is: Index(['Bob', 'Alice'], dtype='object')\n"
          ],
          "name": "stdout"
        }
      ]
    },
    {
      "cell_type": "code",
      "metadata": {
        "id": "q1M54A1ZqrqW",
        "colab_type": "code",
        "colab": {
          "base_uri": "https://localhost:8080/",
          "height": 142
        },
        "outputId": "fac172a3-47d4-4c64-956d-61323aa1b4db"
      },
      "source": [
        "# We Create a DataFrame that only has Bob's data\n",
        "bob_shopping_cart = pd.DataFrame(items, columns=['Bob'])\n",
        "\n",
        "# We display bob_shopping_cart\n",
        "bob_shopping_cart"
      ],
      "execution_count": 18,
      "outputs": [
        {
          "output_type": "execute_result",
          "data": {
            "text/html": [
              "<div>\n",
              "<style scoped>\n",
              "    .dataframe tbody tr th:only-of-type {\n",
              "        vertical-align: middle;\n",
              "    }\n",
              "\n",
              "    .dataframe tbody tr th {\n",
              "        vertical-align: top;\n",
              "    }\n",
              "\n",
              "    .dataframe thead th {\n",
              "        text-align: right;\n",
              "    }\n",
              "</style>\n",
              "<table border=\"1\" class=\"dataframe\">\n",
              "  <thead>\n",
              "    <tr style=\"text-align: right;\">\n",
              "      <th></th>\n",
              "      <th>Bob</th>\n",
              "    </tr>\n",
              "  </thead>\n",
              "  <tbody>\n",
              "    <tr>\n",
              "      <th>bike</th>\n",
              "      <td>245</td>\n",
              "    </tr>\n",
              "    <tr>\n",
              "      <th>pants</th>\n",
              "      <td>25</td>\n",
              "    </tr>\n",
              "    <tr>\n",
              "      <th>watch</th>\n",
              "      <td>55</td>\n",
              "    </tr>\n",
              "  </tbody>\n",
              "</table>\n",
              "</div>"
            ],
            "text/plain": [
              "       Bob\n",
              "bike   245\n",
              "pants   25\n",
              "watch   55"
            ]
          },
          "metadata": {
            "tags": []
          },
          "execution_count": 18
        }
      ]
    },
    {
      "cell_type": "code",
      "metadata": {
        "id": "8rBKEyL4qwgg",
        "colab_type": "code",
        "colab": {
          "base_uri": "https://localhost:8080/",
          "height": 111
        },
        "outputId": "2b56f8a5-c168-4b32-878e-718c2e85a3ab"
      },
      "source": [
        "# We Create a DataFrame that only has selected items for both Alice and Bob\n",
        "sel_shopping_cart = pd.DataFrame(items, index = ['pants', 'book'])\n",
        "\n",
        "# We display sel_shopping_cart\n",
        "sel_shopping_cart"
      ],
      "execution_count": 19,
      "outputs": [
        {
          "output_type": "execute_result",
          "data": {
            "text/html": [
              "<div>\n",
              "<style scoped>\n",
              "    .dataframe tbody tr th:only-of-type {\n",
              "        vertical-align: middle;\n",
              "    }\n",
              "\n",
              "    .dataframe tbody tr th {\n",
              "        vertical-align: top;\n",
              "    }\n",
              "\n",
              "    .dataframe thead th {\n",
              "        text-align: right;\n",
              "    }\n",
              "</style>\n",
              "<table border=\"1\" class=\"dataframe\">\n",
              "  <thead>\n",
              "    <tr style=\"text-align: right;\">\n",
              "      <th></th>\n",
              "      <th>Bob</th>\n",
              "      <th>Alice</th>\n",
              "    </tr>\n",
              "  </thead>\n",
              "  <tbody>\n",
              "    <tr>\n",
              "      <th>pants</th>\n",
              "      <td>25.0</td>\n",
              "      <td>45</td>\n",
              "    </tr>\n",
              "    <tr>\n",
              "      <th>book</th>\n",
              "      <td>NaN</td>\n",
              "      <td>40</td>\n",
              "    </tr>\n",
              "  </tbody>\n",
              "</table>\n",
              "</div>"
            ],
            "text/plain": [
              "        Bob  Alice\n",
              "pants  25.0     45\n",
              "book    NaN     40"
            ]
          },
          "metadata": {
            "tags": []
          },
          "execution_count": 19
        }
      ]
    },
    {
      "cell_type": "code",
      "metadata": {
        "id": "Ho32xf9Xq0F-",
        "colab_type": "code",
        "colab": {
          "base_uri": "https://localhost:8080/",
          "height": 111
        },
        "outputId": "f3c92045-6b85-4255-98f4-61b8221dbd58"
      },
      "source": [
        "# We Create a DataFrame that only has selected items for Alice\n",
        "alice_sel_shopping_cart = pd.DataFrame(items, index = ['glasses', 'bike'], columns = ['Alice'])\n",
        "\n",
        "# We display alice_sel_shopping_cart\n",
        "alice_sel_shopping_cart"
      ],
      "execution_count": 20,
      "outputs": [
        {
          "output_type": "execute_result",
          "data": {
            "text/html": [
              "<div>\n",
              "<style scoped>\n",
              "    .dataframe tbody tr th:only-of-type {\n",
              "        vertical-align: middle;\n",
              "    }\n",
              "\n",
              "    .dataframe tbody tr th {\n",
              "        vertical-align: top;\n",
              "    }\n",
              "\n",
              "    .dataframe thead th {\n",
              "        text-align: right;\n",
              "    }\n",
              "</style>\n",
              "<table border=\"1\" class=\"dataframe\">\n",
              "  <thead>\n",
              "    <tr style=\"text-align: right;\">\n",
              "      <th></th>\n",
              "      <th>Alice</th>\n",
              "    </tr>\n",
              "  </thead>\n",
              "  <tbody>\n",
              "    <tr>\n",
              "      <th>glasses</th>\n",
              "      <td>110</td>\n",
              "    </tr>\n",
              "    <tr>\n",
              "      <th>bike</th>\n",
              "      <td>500</td>\n",
              "    </tr>\n",
              "  </tbody>\n",
              "</table>\n",
              "</div>"
            ],
            "text/plain": [
              "         Alice\n",
              "glasses    110\n",
              "bike       500"
            ]
          },
          "metadata": {
            "tags": []
          },
          "execution_count": 20
        }
      ]
    },
    {
      "cell_type": "code",
      "metadata": {
        "id": "equsabuvq32c",
        "colab_type": "code",
        "colab": {
          "base_uri": "https://localhost:8080/",
          "height": 142
        },
        "outputId": "91b5f1b2-806a-49af-bb63-855b000a8396"
      },
      "source": [
        "# We create a dictionary of lists (arrays)\n",
        "data = {'Integers' : [1,2,3],\n",
        "        'Floats' : [4.5, 8.2, 9.6]}\n",
        "\n",
        "# We create a DataFrame \n",
        "df = pd.DataFrame(data)\n",
        "\n",
        "# We display the DataFrame\n",
        "df"
      ],
      "execution_count": 21,
      "outputs": [
        {
          "output_type": "execute_result",
          "data": {
            "text/html": [
              "<div>\n",
              "<style scoped>\n",
              "    .dataframe tbody tr th:only-of-type {\n",
              "        vertical-align: middle;\n",
              "    }\n",
              "\n",
              "    .dataframe tbody tr th {\n",
              "        vertical-align: top;\n",
              "    }\n",
              "\n",
              "    .dataframe thead th {\n",
              "        text-align: right;\n",
              "    }\n",
              "</style>\n",
              "<table border=\"1\" class=\"dataframe\">\n",
              "  <thead>\n",
              "    <tr style=\"text-align: right;\">\n",
              "      <th></th>\n",
              "      <th>Integers</th>\n",
              "      <th>Floats</th>\n",
              "    </tr>\n",
              "  </thead>\n",
              "  <tbody>\n",
              "    <tr>\n",
              "      <th>0</th>\n",
              "      <td>1</td>\n",
              "      <td>4.5</td>\n",
              "    </tr>\n",
              "    <tr>\n",
              "      <th>1</th>\n",
              "      <td>2</td>\n",
              "      <td>8.2</td>\n",
              "    </tr>\n",
              "    <tr>\n",
              "      <th>2</th>\n",
              "      <td>3</td>\n",
              "      <td>9.6</td>\n",
              "    </tr>\n",
              "  </tbody>\n",
              "</table>\n",
              "</div>"
            ],
            "text/plain": [
              "   Integers  Floats\n",
              "0         1     4.5\n",
              "1         2     8.2\n",
              "2         3     9.6"
            ]
          },
          "metadata": {
            "tags": []
          },
          "execution_count": 21
        }
      ]
    },
    {
      "cell_type": "code",
      "metadata": {
        "id": "QsDi_dtxq74w",
        "colab_type": "code",
        "colab": {
          "base_uri": "https://localhost:8080/",
          "height": 142
        },
        "outputId": "be60d7ca-dd97-4143-bcf4-c342a5d2b126"
      },
      "source": [
        "# We create a dictionary of lists (arrays)\n",
        "data = {'Integers' : [1,2,3],\n",
        "        'Floats' : [4.5, 8.2, 9.6]}\n",
        "\n",
        "# We create a DataFrame and provide the row index\n",
        "df = pd.DataFrame(data, index = ['label 1', 'label 2', 'label 3'])\n",
        "\n",
        "# We display the DataFrame\n",
        "df"
      ],
      "execution_count": 22,
      "outputs": [
        {
          "output_type": "execute_result",
          "data": {
            "text/html": [
              "<div>\n",
              "<style scoped>\n",
              "    .dataframe tbody tr th:only-of-type {\n",
              "        vertical-align: middle;\n",
              "    }\n",
              "\n",
              "    .dataframe tbody tr th {\n",
              "        vertical-align: top;\n",
              "    }\n",
              "\n",
              "    .dataframe thead th {\n",
              "        text-align: right;\n",
              "    }\n",
              "</style>\n",
              "<table border=\"1\" class=\"dataframe\">\n",
              "  <thead>\n",
              "    <tr style=\"text-align: right;\">\n",
              "      <th></th>\n",
              "      <th>Integers</th>\n",
              "      <th>Floats</th>\n",
              "    </tr>\n",
              "  </thead>\n",
              "  <tbody>\n",
              "    <tr>\n",
              "      <th>label 1</th>\n",
              "      <td>1</td>\n",
              "      <td>4.5</td>\n",
              "    </tr>\n",
              "    <tr>\n",
              "      <th>label 2</th>\n",
              "      <td>2</td>\n",
              "      <td>8.2</td>\n",
              "    </tr>\n",
              "    <tr>\n",
              "      <th>label 3</th>\n",
              "      <td>3</td>\n",
              "      <td>9.6</td>\n",
              "    </tr>\n",
              "  </tbody>\n",
              "</table>\n",
              "</div>"
            ],
            "text/plain": [
              "         Integers  Floats\n",
              "label 1         1     4.5\n",
              "label 2         2     8.2\n",
              "label 3         3     9.6"
            ]
          },
          "metadata": {
            "tags": []
          },
          "execution_count": 22
        }
      ]
    },
    {
      "cell_type": "code",
      "metadata": {
        "id": "8qm_d2Hvq_h7",
        "colab_type": "code",
        "colab": {
          "base_uri": "https://localhost:8080/",
          "height": 111
        },
        "outputId": "0caaea50-3d08-412b-bbd3-8d4ea13fbc08"
      },
      "source": [
        "# We create a list of Python dictionaries\n",
        "items2 = [{'bikes': 20, 'pants': 30, 'watches': 35}, \n",
        "          {'watches': 10, 'glasses': 50, 'bikes': 15, 'pants':5}]\n",
        "\n",
        "# We create a DataFrame \n",
        "store_items = pd.DataFrame(items2)\n",
        "\n",
        "# We display the DataFrame\n",
        "store_items"
      ],
      "execution_count": 23,
      "outputs": [
        {
          "output_type": "execute_result",
          "data": {
            "text/html": [
              "<div>\n",
              "<style scoped>\n",
              "    .dataframe tbody tr th:only-of-type {\n",
              "        vertical-align: middle;\n",
              "    }\n",
              "\n",
              "    .dataframe tbody tr th {\n",
              "        vertical-align: top;\n",
              "    }\n",
              "\n",
              "    .dataframe thead th {\n",
              "        text-align: right;\n",
              "    }\n",
              "</style>\n",
              "<table border=\"1\" class=\"dataframe\">\n",
              "  <thead>\n",
              "    <tr style=\"text-align: right;\">\n",
              "      <th></th>\n",
              "      <th>bikes</th>\n",
              "      <th>pants</th>\n",
              "      <th>watches</th>\n",
              "      <th>glasses</th>\n",
              "    </tr>\n",
              "  </thead>\n",
              "  <tbody>\n",
              "    <tr>\n",
              "      <th>0</th>\n",
              "      <td>20</td>\n",
              "      <td>30</td>\n",
              "      <td>35</td>\n",
              "      <td>NaN</td>\n",
              "    </tr>\n",
              "    <tr>\n",
              "      <th>1</th>\n",
              "      <td>15</td>\n",
              "      <td>5</td>\n",
              "      <td>10</td>\n",
              "      <td>50.0</td>\n",
              "    </tr>\n",
              "  </tbody>\n",
              "</table>\n",
              "</div>"
            ],
            "text/plain": [
              "   bikes  pants  watches  glasses\n",
              "0     20     30       35      NaN\n",
              "1     15      5       10     50.0"
            ]
          },
          "metadata": {
            "tags": []
          },
          "execution_count": 23
        }
      ]
    },
    {
      "cell_type": "code",
      "metadata": {
        "id": "h-xybU8yrDWR",
        "colab_type": "code",
        "colab": {
          "base_uri": "https://localhost:8080/",
          "height": 111
        },
        "outputId": "c4acabaa-aed2-4882-f946-4ac3f76a6d83"
      },
      "source": [
        "# We create a list of Python dictionaries\n",
        "items2 = [{'bikes': 20, 'pants': 30, 'watches': 35}, \n",
        "          {'watches': 10, 'glasses': 50, 'bikes': 15, 'pants':5}]\n",
        "\n",
        "# We create a DataFrame  and provide the row index\n",
        "store_items = pd.DataFrame(items2, index = ['store 1', 'store 2'])\n",
        "\n",
        "# We display the DataFrame\n",
        "store_items"
      ],
      "execution_count": 24,
      "outputs": [
        {
          "output_type": "execute_result",
          "data": {
            "text/html": [
              "<div>\n",
              "<style scoped>\n",
              "    .dataframe tbody tr th:only-of-type {\n",
              "        vertical-align: middle;\n",
              "    }\n",
              "\n",
              "    .dataframe tbody tr th {\n",
              "        vertical-align: top;\n",
              "    }\n",
              "\n",
              "    .dataframe thead th {\n",
              "        text-align: right;\n",
              "    }\n",
              "</style>\n",
              "<table border=\"1\" class=\"dataframe\">\n",
              "  <thead>\n",
              "    <tr style=\"text-align: right;\">\n",
              "      <th></th>\n",
              "      <th>bikes</th>\n",
              "      <th>pants</th>\n",
              "      <th>watches</th>\n",
              "      <th>glasses</th>\n",
              "    </tr>\n",
              "  </thead>\n",
              "  <tbody>\n",
              "    <tr>\n",
              "      <th>store 1</th>\n",
              "      <td>20</td>\n",
              "      <td>30</td>\n",
              "      <td>35</td>\n",
              "      <td>NaN</td>\n",
              "    </tr>\n",
              "    <tr>\n",
              "      <th>store 2</th>\n",
              "      <td>15</td>\n",
              "      <td>5</td>\n",
              "      <td>10</td>\n",
              "      <td>50.0</td>\n",
              "    </tr>\n",
              "  </tbody>\n",
              "</table>\n",
              "</div>"
            ],
            "text/plain": [
              "         bikes  pants  watches  glasses\n",
              "store 1     20     30       35      NaN\n",
              "store 2     15      5       10     50.0"
            ]
          },
          "metadata": {
            "tags": []
          },
          "execution_count": 24
        }
      ]
    },
    {
      "cell_type": "code",
      "metadata": {
        "id": "eGPl3_d0rGeW",
        "colab_type": "code",
        "colab": {
          "base_uri": "https://localhost:8080/",
          "height": 340
        },
        "outputId": "79ab34e7-9b52-4752-bc16-e596839f311c"
      },
      "source": [
        "# We print the store_items DataFrame\n",
        "print(store_items)\n",
        "\n",
        "# We access rows, columns and elements using labels\n",
        "print()\n",
        "print('How many bikes are in each store:\\n', store_items[['bikes']])\n",
        "print()\n",
        "print('How many bikes and pants are in each store:\\n', store_items[['bikes', 'pants']])\n",
        "print()\n",
        "print('What items are in Store 1:\\n', store_items.loc[['store 1']])\n",
        "print()\n",
        "print('How many bikes are in Store 2:', store_items['bikes']['store 2'])"
      ],
      "execution_count": 25,
      "outputs": [
        {
          "output_type": "stream",
          "text": [
            "         bikes  pants  watches  glasses\n",
            "store 1     20     30       35      NaN\n",
            "store 2     15      5       10     50.0\n",
            "\n",
            "How many bikes are in each store:\n",
            "          bikes\n",
            "store 1     20\n",
            "store 2     15\n",
            "\n",
            "How many bikes and pants are in each store:\n",
            "          bikes  pants\n",
            "store 1     20     30\n",
            "store 2     15      5\n",
            "\n",
            "What items are in Store 1:\n",
            "          bikes  pants  watches  glasses\n",
            "store 1     20     30       35      NaN\n",
            "\n",
            "How many bikes are in Store 2: 15\n"
          ],
          "name": "stdout"
        }
      ]
    },
    {
      "cell_type": "code",
      "metadata": {
        "id": "7iK3j_lA0o3C",
        "colab_type": "code",
        "colab": {
          "base_uri": "https://localhost:8080/",
          "height": 111
        },
        "outputId": "db2f7896-422b-4593-b439-0670b2bf82ca"
      },
      "source": [
        "# We add a new column named shirts to our store_items DataFrame indicating the number of\n",
        "# shirts in stock at each store. We will put 15 shirts in store 1 and 2 shirts in store 2\n",
        "store_items['shirts'] = [15,2]\n",
        "\n",
        "# We display the modified DataFrame\n",
        "store_items"
      ],
      "execution_count": 26,
      "outputs": [
        {
          "output_type": "execute_result",
          "data": {
            "text/html": [
              "<div>\n",
              "<style scoped>\n",
              "    .dataframe tbody tr th:only-of-type {\n",
              "        vertical-align: middle;\n",
              "    }\n",
              "\n",
              "    .dataframe tbody tr th {\n",
              "        vertical-align: top;\n",
              "    }\n",
              "\n",
              "    .dataframe thead th {\n",
              "        text-align: right;\n",
              "    }\n",
              "</style>\n",
              "<table border=\"1\" class=\"dataframe\">\n",
              "  <thead>\n",
              "    <tr style=\"text-align: right;\">\n",
              "      <th></th>\n",
              "      <th>bikes</th>\n",
              "      <th>pants</th>\n",
              "      <th>watches</th>\n",
              "      <th>glasses</th>\n",
              "      <th>shirts</th>\n",
              "    </tr>\n",
              "  </thead>\n",
              "  <tbody>\n",
              "    <tr>\n",
              "      <th>store 1</th>\n",
              "      <td>20</td>\n",
              "      <td>30</td>\n",
              "      <td>35</td>\n",
              "      <td>NaN</td>\n",
              "      <td>15</td>\n",
              "    </tr>\n",
              "    <tr>\n",
              "      <th>store 2</th>\n",
              "      <td>15</td>\n",
              "      <td>5</td>\n",
              "      <td>10</td>\n",
              "      <td>50.0</td>\n",
              "      <td>2</td>\n",
              "    </tr>\n",
              "  </tbody>\n",
              "</table>\n",
              "</div>"
            ],
            "text/plain": [
              "         bikes  pants  watches  glasses  shirts\n",
              "store 1     20     30       35      NaN      15\n",
              "store 2     15      5       10     50.0       2"
            ]
          },
          "metadata": {
            "tags": []
          },
          "execution_count": 26
        }
      ]
    },
    {
      "cell_type": "code",
      "metadata": {
        "id": "T2QjQUDD0vJh",
        "colab_type": "code",
        "colab": {
          "base_uri": "https://localhost:8080/",
          "height": 111
        },
        "outputId": "27a243f9-4699-4a88-ca2a-279cd6aae2a9"
      },
      "source": [
        "# We make a new column called suits by adding the number of shirts and pants\n",
        "store_items['suits'] = store_items['pants'] + store_items['shirts']\n",
        "\n",
        "# We display the modified DataFrame\n",
        "store_items"
      ],
      "execution_count": 27,
      "outputs": [
        {
          "output_type": "execute_result",
          "data": {
            "text/html": [
              "<div>\n",
              "<style scoped>\n",
              "    .dataframe tbody tr th:only-of-type {\n",
              "        vertical-align: middle;\n",
              "    }\n",
              "\n",
              "    .dataframe tbody tr th {\n",
              "        vertical-align: top;\n",
              "    }\n",
              "\n",
              "    .dataframe thead th {\n",
              "        text-align: right;\n",
              "    }\n",
              "</style>\n",
              "<table border=\"1\" class=\"dataframe\">\n",
              "  <thead>\n",
              "    <tr style=\"text-align: right;\">\n",
              "      <th></th>\n",
              "      <th>bikes</th>\n",
              "      <th>pants</th>\n",
              "      <th>watches</th>\n",
              "      <th>glasses</th>\n",
              "      <th>shirts</th>\n",
              "      <th>suits</th>\n",
              "    </tr>\n",
              "  </thead>\n",
              "  <tbody>\n",
              "    <tr>\n",
              "      <th>store 1</th>\n",
              "      <td>20</td>\n",
              "      <td>30</td>\n",
              "      <td>35</td>\n",
              "      <td>NaN</td>\n",
              "      <td>15</td>\n",
              "      <td>45</td>\n",
              "    </tr>\n",
              "    <tr>\n",
              "      <th>store 2</th>\n",
              "      <td>15</td>\n",
              "      <td>5</td>\n",
              "      <td>10</td>\n",
              "      <td>50.0</td>\n",
              "      <td>2</td>\n",
              "      <td>7</td>\n",
              "    </tr>\n",
              "  </tbody>\n",
              "</table>\n",
              "</div>"
            ],
            "text/plain": [
              "         bikes  pants  watches  glasses  shirts  suits\n",
              "store 1     20     30       35      NaN      15     45\n",
              "store 2     15      5       10     50.0       2      7"
            ]
          },
          "metadata": {
            "tags": []
          },
          "execution_count": 27
        }
      ]
    },
    {
      "cell_type": "code",
      "metadata": {
        "id": "WKF_QVtH0ydc",
        "colab_type": "code",
        "colab": {
          "base_uri": "https://localhost:8080/",
          "height": 80
        },
        "outputId": "0e06ca29-fbf2-4ba1-901f-bbe36f96cdb5"
      },
      "source": [
        "# We create a dictionary from a list of Python dictionaries that will number of items at the new store\n",
        "new_items = [{'bikes': 20, 'pants': 30, 'watches': 35, 'glasses': 4}]\n",
        "\n",
        "# We create new DataFrame with the new_items and provide and index labeled store 3\n",
        "new_store = pd.DataFrame(new_items, index = ['store 3'])\n",
        "\n",
        "# We display the items at the new store\n",
        "new_store"
      ],
      "execution_count": 28,
      "outputs": [
        {
          "output_type": "execute_result",
          "data": {
            "text/html": [
              "<div>\n",
              "<style scoped>\n",
              "    .dataframe tbody tr th:only-of-type {\n",
              "        vertical-align: middle;\n",
              "    }\n",
              "\n",
              "    .dataframe tbody tr th {\n",
              "        vertical-align: top;\n",
              "    }\n",
              "\n",
              "    .dataframe thead th {\n",
              "        text-align: right;\n",
              "    }\n",
              "</style>\n",
              "<table border=\"1\" class=\"dataframe\">\n",
              "  <thead>\n",
              "    <tr style=\"text-align: right;\">\n",
              "      <th></th>\n",
              "      <th>bikes</th>\n",
              "      <th>pants</th>\n",
              "      <th>watches</th>\n",
              "      <th>glasses</th>\n",
              "    </tr>\n",
              "  </thead>\n",
              "  <tbody>\n",
              "    <tr>\n",
              "      <th>store 3</th>\n",
              "      <td>20</td>\n",
              "      <td>30</td>\n",
              "      <td>35</td>\n",
              "      <td>4</td>\n",
              "    </tr>\n",
              "  </tbody>\n",
              "</table>\n",
              "</div>"
            ],
            "text/plain": [
              "         bikes  pants  watches  glasses\n",
              "store 3     20     30       35        4"
            ]
          },
          "metadata": {
            "tags": []
          },
          "execution_count": 28
        }
      ]
    },
    {
      "cell_type": "code",
      "metadata": {
        "id": "C_WJLQAf1HgH",
        "colab_type": "code",
        "colab": {
          "base_uri": "https://localhost:8080/",
          "height": 142
        },
        "outputId": "d2c5b7a9-cfd4-4c0a-de9a-938aae1e8075"
      },
      "source": [
        "# We append store 3 to our store_items DataFrame\n",
        "store_items = store_items.append(new_store)\n",
        "\n",
        "# We display the modified DataFrame\n",
        "store_items"
      ],
      "execution_count": 29,
      "outputs": [
        {
          "output_type": "execute_result",
          "data": {
            "text/html": [
              "<div>\n",
              "<style scoped>\n",
              "    .dataframe tbody tr th:only-of-type {\n",
              "        vertical-align: middle;\n",
              "    }\n",
              "\n",
              "    .dataframe tbody tr th {\n",
              "        vertical-align: top;\n",
              "    }\n",
              "\n",
              "    .dataframe thead th {\n",
              "        text-align: right;\n",
              "    }\n",
              "</style>\n",
              "<table border=\"1\" class=\"dataframe\">\n",
              "  <thead>\n",
              "    <tr style=\"text-align: right;\">\n",
              "      <th></th>\n",
              "      <th>bikes</th>\n",
              "      <th>pants</th>\n",
              "      <th>watches</th>\n",
              "      <th>glasses</th>\n",
              "      <th>shirts</th>\n",
              "      <th>suits</th>\n",
              "    </tr>\n",
              "  </thead>\n",
              "  <tbody>\n",
              "    <tr>\n",
              "      <th>store 1</th>\n",
              "      <td>20</td>\n",
              "      <td>30</td>\n",
              "      <td>35</td>\n",
              "      <td>NaN</td>\n",
              "      <td>15.0</td>\n",
              "      <td>45.0</td>\n",
              "    </tr>\n",
              "    <tr>\n",
              "      <th>store 2</th>\n",
              "      <td>15</td>\n",
              "      <td>5</td>\n",
              "      <td>10</td>\n",
              "      <td>50.0</td>\n",
              "      <td>2.0</td>\n",
              "      <td>7.0</td>\n",
              "    </tr>\n",
              "    <tr>\n",
              "      <th>store 3</th>\n",
              "      <td>20</td>\n",
              "      <td>30</td>\n",
              "      <td>35</td>\n",
              "      <td>4.0</td>\n",
              "      <td>NaN</td>\n",
              "      <td>NaN</td>\n",
              "    </tr>\n",
              "  </tbody>\n",
              "</table>\n",
              "</div>"
            ],
            "text/plain": [
              "         bikes  pants  watches  glasses  shirts  suits\n",
              "store 1     20     30       35      NaN    15.0   45.0\n",
              "store 2     15      5       10     50.0     2.0    7.0\n",
              "store 3     20     30       35      4.0     NaN    NaN"
            ]
          },
          "metadata": {
            "tags": []
          },
          "execution_count": 29
        }
      ]
    },
    {
      "cell_type": "code",
      "metadata": {
        "id": "iu9Pl7Ur1NN9",
        "colab_type": "code",
        "colab": {
          "base_uri": "https://localhost:8080/",
          "height": 142
        },
        "outputId": "f2a07cea-7a13-487c-ef68-7dd1bb919a3a"
      },
      "source": [
        "# We add a new column using data from particular rows in the watches column\n",
        "store_items['new watches'] = store_items['watches'][1:]\n",
        "\n",
        "# We display the modified DataFrame\n",
        "store_items"
      ],
      "execution_count": 30,
      "outputs": [
        {
          "output_type": "execute_result",
          "data": {
            "text/html": [
              "<div>\n",
              "<style scoped>\n",
              "    .dataframe tbody tr th:only-of-type {\n",
              "        vertical-align: middle;\n",
              "    }\n",
              "\n",
              "    .dataframe tbody tr th {\n",
              "        vertical-align: top;\n",
              "    }\n",
              "\n",
              "    .dataframe thead th {\n",
              "        text-align: right;\n",
              "    }\n",
              "</style>\n",
              "<table border=\"1\" class=\"dataframe\">\n",
              "  <thead>\n",
              "    <tr style=\"text-align: right;\">\n",
              "      <th></th>\n",
              "      <th>bikes</th>\n",
              "      <th>pants</th>\n",
              "      <th>watches</th>\n",
              "      <th>glasses</th>\n",
              "      <th>shirts</th>\n",
              "      <th>suits</th>\n",
              "      <th>new watches</th>\n",
              "    </tr>\n",
              "  </thead>\n",
              "  <tbody>\n",
              "    <tr>\n",
              "      <th>store 1</th>\n",
              "      <td>20</td>\n",
              "      <td>30</td>\n",
              "      <td>35</td>\n",
              "      <td>NaN</td>\n",
              "      <td>15.0</td>\n",
              "      <td>45.0</td>\n",
              "      <td>NaN</td>\n",
              "    </tr>\n",
              "    <tr>\n",
              "      <th>store 2</th>\n",
              "      <td>15</td>\n",
              "      <td>5</td>\n",
              "      <td>10</td>\n",
              "      <td>50.0</td>\n",
              "      <td>2.0</td>\n",
              "      <td>7.0</td>\n",
              "      <td>10.0</td>\n",
              "    </tr>\n",
              "    <tr>\n",
              "      <th>store 3</th>\n",
              "      <td>20</td>\n",
              "      <td>30</td>\n",
              "      <td>35</td>\n",
              "      <td>4.0</td>\n",
              "      <td>NaN</td>\n",
              "      <td>NaN</td>\n",
              "      <td>35.0</td>\n",
              "    </tr>\n",
              "  </tbody>\n",
              "</table>\n",
              "</div>"
            ],
            "text/plain": [
              "         bikes  pants  watches  glasses  shirts  suits  new watches\n",
              "store 1     20     30       35      NaN    15.0   45.0          NaN\n",
              "store 2     15      5       10     50.0     2.0    7.0         10.0\n",
              "store 3     20     30       35      4.0     NaN    NaN         35.0"
            ]
          },
          "metadata": {
            "tags": []
          },
          "execution_count": 30
        }
      ]
    },
    {
      "cell_type": "code",
      "metadata": {
        "id": "lvdV5mUn1Qmm",
        "colab_type": "code",
        "colab": {
          "base_uri": "https://localhost:8080/",
          "height": 142
        },
        "outputId": "2a8d5007-8908-46ad-8307-0f362843dac9"
      },
      "source": [
        "# We insert a new column with label shoes right before the column with numerical index 4\n",
        "store_items.insert(4, 'shoes', [8,5,0])\n",
        "\n",
        "# we display the modified DataFrame\n",
        "store_items"
      ],
      "execution_count": 31,
      "outputs": [
        {
          "output_type": "execute_result",
          "data": {
            "text/html": [
              "<div>\n",
              "<style scoped>\n",
              "    .dataframe tbody tr th:only-of-type {\n",
              "        vertical-align: middle;\n",
              "    }\n",
              "\n",
              "    .dataframe tbody tr th {\n",
              "        vertical-align: top;\n",
              "    }\n",
              "\n",
              "    .dataframe thead th {\n",
              "        text-align: right;\n",
              "    }\n",
              "</style>\n",
              "<table border=\"1\" class=\"dataframe\">\n",
              "  <thead>\n",
              "    <tr style=\"text-align: right;\">\n",
              "      <th></th>\n",
              "      <th>bikes</th>\n",
              "      <th>pants</th>\n",
              "      <th>watches</th>\n",
              "      <th>glasses</th>\n",
              "      <th>shoes</th>\n",
              "      <th>shirts</th>\n",
              "      <th>suits</th>\n",
              "      <th>new watches</th>\n",
              "    </tr>\n",
              "  </thead>\n",
              "  <tbody>\n",
              "    <tr>\n",
              "      <th>store 1</th>\n",
              "      <td>20</td>\n",
              "      <td>30</td>\n",
              "      <td>35</td>\n",
              "      <td>NaN</td>\n",
              "      <td>8</td>\n",
              "      <td>15.0</td>\n",
              "      <td>45.0</td>\n",
              "      <td>NaN</td>\n",
              "    </tr>\n",
              "    <tr>\n",
              "      <th>store 2</th>\n",
              "      <td>15</td>\n",
              "      <td>5</td>\n",
              "      <td>10</td>\n",
              "      <td>50.0</td>\n",
              "      <td>5</td>\n",
              "      <td>2.0</td>\n",
              "      <td>7.0</td>\n",
              "      <td>10.0</td>\n",
              "    </tr>\n",
              "    <tr>\n",
              "      <th>store 3</th>\n",
              "      <td>20</td>\n",
              "      <td>30</td>\n",
              "      <td>35</td>\n",
              "      <td>4.0</td>\n",
              "      <td>0</td>\n",
              "      <td>NaN</td>\n",
              "      <td>NaN</td>\n",
              "      <td>35.0</td>\n",
              "    </tr>\n",
              "  </tbody>\n",
              "</table>\n",
              "</div>"
            ],
            "text/plain": [
              "         bikes  pants  watches  glasses  shoes  shirts  suits  new watches\n",
              "store 1     20     30       35      NaN      8    15.0   45.0          NaN\n",
              "store 2     15      5       10     50.0      5     2.0    7.0         10.0\n",
              "store 3     20     30       35      4.0      0     NaN    NaN         35.0"
            ]
          },
          "metadata": {
            "tags": []
          },
          "execution_count": 31
        }
      ]
    },
    {
      "cell_type": "code",
      "metadata": {
        "id": "YWQNePZD1WdJ",
        "colab_type": "code",
        "colab": {
          "base_uri": "https://localhost:8080/",
          "height": 142
        },
        "outputId": "48210636-78dd-4243-f1e0-0aa737a1e358"
      },
      "source": [
        "# We remove the new watches column\n",
        "store_items.pop('new watches')\n",
        "\n",
        "# we display the modified DataFrame\n",
        "store_items"
      ],
      "execution_count": 32,
      "outputs": [
        {
          "output_type": "execute_result",
          "data": {
            "text/html": [
              "<div>\n",
              "<style scoped>\n",
              "    .dataframe tbody tr th:only-of-type {\n",
              "        vertical-align: middle;\n",
              "    }\n",
              "\n",
              "    .dataframe tbody tr th {\n",
              "        vertical-align: top;\n",
              "    }\n",
              "\n",
              "    .dataframe thead th {\n",
              "        text-align: right;\n",
              "    }\n",
              "</style>\n",
              "<table border=\"1\" class=\"dataframe\">\n",
              "  <thead>\n",
              "    <tr style=\"text-align: right;\">\n",
              "      <th></th>\n",
              "      <th>bikes</th>\n",
              "      <th>pants</th>\n",
              "      <th>watches</th>\n",
              "      <th>glasses</th>\n",
              "      <th>shoes</th>\n",
              "      <th>shirts</th>\n",
              "      <th>suits</th>\n",
              "    </tr>\n",
              "  </thead>\n",
              "  <tbody>\n",
              "    <tr>\n",
              "      <th>store 1</th>\n",
              "      <td>20</td>\n",
              "      <td>30</td>\n",
              "      <td>35</td>\n",
              "      <td>NaN</td>\n",
              "      <td>8</td>\n",
              "      <td>15.0</td>\n",
              "      <td>45.0</td>\n",
              "    </tr>\n",
              "    <tr>\n",
              "      <th>store 2</th>\n",
              "      <td>15</td>\n",
              "      <td>5</td>\n",
              "      <td>10</td>\n",
              "      <td>50.0</td>\n",
              "      <td>5</td>\n",
              "      <td>2.0</td>\n",
              "      <td>7.0</td>\n",
              "    </tr>\n",
              "    <tr>\n",
              "      <th>store 3</th>\n",
              "      <td>20</td>\n",
              "      <td>30</td>\n",
              "      <td>35</td>\n",
              "      <td>4.0</td>\n",
              "      <td>0</td>\n",
              "      <td>NaN</td>\n",
              "      <td>NaN</td>\n",
              "    </tr>\n",
              "  </tbody>\n",
              "</table>\n",
              "</div>"
            ],
            "text/plain": [
              "         bikes  pants  watches  glasses  shoes  shirts  suits\n",
              "store 1     20     30       35      NaN      8    15.0   45.0\n",
              "store 2     15      5       10     50.0      5     2.0    7.0\n",
              "store 3     20     30       35      4.0      0     NaN    NaN"
            ]
          },
          "metadata": {
            "tags": []
          },
          "execution_count": 32
        }
      ]
    },
    {
      "cell_type": "code",
      "metadata": {
        "id": "GHobssma1cet",
        "colab_type": "code",
        "colab": {
          "base_uri": "https://localhost:8080/",
          "height": 142
        },
        "outputId": "17c15fd7-46d3-42ad-c317-f83f6b9bbafb"
      },
      "source": [
        "# We remove the watches and shoes columns\n",
        "store_items = store_items.drop(['watches', 'shoes'], axis = 1)\n",
        "\n",
        "# we display the modified DataFrame\n",
        "store_items\n"
      ],
      "execution_count": 33,
      "outputs": [
        {
          "output_type": "execute_result",
          "data": {
            "text/html": [
              "<div>\n",
              "<style scoped>\n",
              "    .dataframe tbody tr th:only-of-type {\n",
              "        vertical-align: middle;\n",
              "    }\n",
              "\n",
              "    .dataframe tbody tr th {\n",
              "        vertical-align: top;\n",
              "    }\n",
              "\n",
              "    .dataframe thead th {\n",
              "        text-align: right;\n",
              "    }\n",
              "</style>\n",
              "<table border=\"1\" class=\"dataframe\">\n",
              "  <thead>\n",
              "    <tr style=\"text-align: right;\">\n",
              "      <th></th>\n",
              "      <th>bikes</th>\n",
              "      <th>pants</th>\n",
              "      <th>glasses</th>\n",
              "      <th>shirts</th>\n",
              "      <th>suits</th>\n",
              "    </tr>\n",
              "  </thead>\n",
              "  <tbody>\n",
              "    <tr>\n",
              "      <th>store 1</th>\n",
              "      <td>20</td>\n",
              "      <td>30</td>\n",
              "      <td>NaN</td>\n",
              "      <td>15.0</td>\n",
              "      <td>45.0</td>\n",
              "    </tr>\n",
              "    <tr>\n",
              "      <th>store 2</th>\n",
              "      <td>15</td>\n",
              "      <td>5</td>\n",
              "      <td>50.0</td>\n",
              "      <td>2.0</td>\n",
              "      <td>7.0</td>\n",
              "    </tr>\n",
              "    <tr>\n",
              "      <th>store 3</th>\n",
              "      <td>20</td>\n",
              "      <td>30</td>\n",
              "      <td>4.0</td>\n",
              "      <td>NaN</td>\n",
              "      <td>NaN</td>\n",
              "    </tr>\n",
              "  </tbody>\n",
              "</table>\n",
              "</div>"
            ],
            "text/plain": [
              "         bikes  pants  glasses  shirts  suits\n",
              "store 1     20     30      NaN    15.0   45.0\n",
              "store 2     15      5     50.0     2.0    7.0\n",
              "store 3     20     30      4.0     NaN    NaN"
            ]
          },
          "metadata": {
            "tags": []
          },
          "execution_count": 33
        }
      ]
    },
    {
      "cell_type": "code",
      "metadata": {
        "id": "SLq1MPii1fx0",
        "colab_type": "code",
        "colab": {
          "base_uri": "https://localhost:8080/",
          "height": 80
        },
        "outputId": "c4bba378-135e-44cc-9a9e-f4ba3474605b"
      },
      "source": [
        "# We remove the store 2 and store 1 rows\n",
        "store_items = store_items.drop(['store 2', 'store 1'], axis = 0)\n",
        "\n",
        "# we display the modified DataFrame\n",
        "store_items"
      ],
      "execution_count": 34,
      "outputs": [
        {
          "output_type": "execute_result",
          "data": {
            "text/html": [
              "<div>\n",
              "<style scoped>\n",
              "    .dataframe tbody tr th:only-of-type {\n",
              "        vertical-align: middle;\n",
              "    }\n",
              "\n",
              "    .dataframe tbody tr th {\n",
              "        vertical-align: top;\n",
              "    }\n",
              "\n",
              "    .dataframe thead th {\n",
              "        text-align: right;\n",
              "    }\n",
              "</style>\n",
              "<table border=\"1\" class=\"dataframe\">\n",
              "  <thead>\n",
              "    <tr style=\"text-align: right;\">\n",
              "      <th></th>\n",
              "      <th>bikes</th>\n",
              "      <th>pants</th>\n",
              "      <th>glasses</th>\n",
              "      <th>shirts</th>\n",
              "      <th>suits</th>\n",
              "    </tr>\n",
              "  </thead>\n",
              "  <tbody>\n",
              "    <tr>\n",
              "      <th>store 3</th>\n",
              "      <td>20</td>\n",
              "      <td>30</td>\n",
              "      <td>4.0</td>\n",
              "      <td>NaN</td>\n",
              "      <td>NaN</td>\n",
              "    </tr>\n",
              "  </tbody>\n",
              "</table>\n",
              "</div>"
            ],
            "text/plain": [
              "         bikes  pants  glasses  shirts  suits\n",
              "store 3     20     30      4.0     NaN    NaN"
            ]
          },
          "metadata": {
            "tags": []
          },
          "execution_count": 34
        }
      ]
    },
    {
      "cell_type": "code",
      "metadata": {
        "id": "xMzx5yfV1j91",
        "colab_type": "code",
        "colab": {
          "base_uri": "https://localhost:8080/",
          "height": 80
        },
        "outputId": "11a5ccca-5d84-4011-b339-10ec128d77e1"
      },
      "source": [
        "# We change the column label bikes to hats\n",
        "store_items = store_items.rename(columns = {'bikes': 'hats'})\n",
        "\n",
        "# we display the modified DataFrame\n",
        "store_items"
      ],
      "execution_count": 35,
      "outputs": [
        {
          "output_type": "execute_result",
          "data": {
            "text/html": [
              "<div>\n",
              "<style scoped>\n",
              "    .dataframe tbody tr th:only-of-type {\n",
              "        vertical-align: middle;\n",
              "    }\n",
              "\n",
              "    .dataframe tbody tr th {\n",
              "        vertical-align: top;\n",
              "    }\n",
              "\n",
              "    .dataframe thead th {\n",
              "        text-align: right;\n",
              "    }\n",
              "</style>\n",
              "<table border=\"1\" class=\"dataframe\">\n",
              "  <thead>\n",
              "    <tr style=\"text-align: right;\">\n",
              "      <th></th>\n",
              "      <th>hats</th>\n",
              "      <th>pants</th>\n",
              "      <th>glasses</th>\n",
              "      <th>shirts</th>\n",
              "      <th>suits</th>\n",
              "    </tr>\n",
              "  </thead>\n",
              "  <tbody>\n",
              "    <tr>\n",
              "      <th>store 3</th>\n",
              "      <td>20</td>\n",
              "      <td>30</td>\n",
              "      <td>4.0</td>\n",
              "      <td>NaN</td>\n",
              "      <td>NaN</td>\n",
              "    </tr>\n",
              "  </tbody>\n",
              "</table>\n",
              "</div>"
            ],
            "text/plain": [
              "         hats  pants  glasses  shirts  suits\n",
              "store 3    20     30      4.0     NaN    NaN"
            ]
          },
          "metadata": {
            "tags": []
          },
          "execution_count": 35
        }
      ]
    },
    {
      "cell_type": "code",
      "metadata": {
        "id": "iXezf8x41nYt",
        "colab_type": "code",
        "colab": {
          "base_uri": "https://localhost:8080/",
          "height": 80
        },
        "outputId": "b23217fd-dfb7-470d-b117-6b603f0a8582"
      },
      "source": [
        "# We change the row label from store 3 to last store\n",
        "store_items = store_items.rename(index = {'store 3': 'last store'})\n",
        "\n",
        "# we display the modified DataFrame\n",
        "store_items"
      ],
      "execution_count": 36,
      "outputs": [
        {
          "output_type": "execute_result",
          "data": {
            "text/html": [
              "<div>\n",
              "<style scoped>\n",
              "    .dataframe tbody tr th:only-of-type {\n",
              "        vertical-align: middle;\n",
              "    }\n",
              "\n",
              "    .dataframe tbody tr th {\n",
              "        vertical-align: top;\n",
              "    }\n",
              "\n",
              "    .dataframe thead th {\n",
              "        text-align: right;\n",
              "    }\n",
              "</style>\n",
              "<table border=\"1\" class=\"dataframe\">\n",
              "  <thead>\n",
              "    <tr style=\"text-align: right;\">\n",
              "      <th></th>\n",
              "      <th>hats</th>\n",
              "      <th>pants</th>\n",
              "      <th>glasses</th>\n",
              "      <th>shirts</th>\n",
              "      <th>suits</th>\n",
              "    </tr>\n",
              "  </thead>\n",
              "  <tbody>\n",
              "    <tr>\n",
              "      <th>last store</th>\n",
              "      <td>20</td>\n",
              "      <td>30</td>\n",
              "      <td>4.0</td>\n",
              "      <td>NaN</td>\n",
              "      <td>NaN</td>\n",
              "    </tr>\n",
              "  </tbody>\n",
              "</table>\n",
              "</div>"
            ],
            "text/plain": [
              "            hats  pants  glasses  shirts  suits\n",
              "last store    20     30      4.0     NaN    NaN"
            ]
          },
          "metadata": {
            "tags": []
          },
          "execution_count": 36
        }
      ]
    },
    {
      "cell_type": "code",
      "metadata": {
        "id": "Voh93KxR1qT9",
        "colab_type": "code",
        "colab": {
          "base_uri": "https://localhost:8080/",
          "height": 111
        },
        "outputId": "bb72b2b9-4e28-44ac-c1e4-c022f90ab307"
      },
      "source": [
        "# We change the row index to be the data in the pants column\n",
        "store_items = store_items.set_index('pants')\n",
        "\n",
        "# we display the modified DataFrame\n",
        "store_items"
      ],
      "execution_count": 37,
      "outputs": [
        {
          "output_type": "execute_result",
          "data": {
            "text/html": [
              "<div>\n",
              "<style scoped>\n",
              "    .dataframe tbody tr th:only-of-type {\n",
              "        vertical-align: middle;\n",
              "    }\n",
              "\n",
              "    .dataframe tbody tr th {\n",
              "        vertical-align: top;\n",
              "    }\n",
              "\n",
              "    .dataframe thead th {\n",
              "        text-align: right;\n",
              "    }\n",
              "</style>\n",
              "<table border=\"1\" class=\"dataframe\">\n",
              "  <thead>\n",
              "    <tr style=\"text-align: right;\">\n",
              "      <th></th>\n",
              "      <th>hats</th>\n",
              "      <th>glasses</th>\n",
              "      <th>shirts</th>\n",
              "      <th>suits</th>\n",
              "    </tr>\n",
              "    <tr>\n",
              "      <th>pants</th>\n",
              "      <th></th>\n",
              "      <th></th>\n",
              "      <th></th>\n",
              "      <th></th>\n",
              "    </tr>\n",
              "  </thead>\n",
              "  <tbody>\n",
              "    <tr>\n",
              "      <th>30</th>\n",
              "      <td>20</td>\n",
              "      <td>4.0</td>\n",
              "      <td>NaN</td>\n",
              "      <td>NaN</td>\n",
              "    </tr>\n",
              "  </tbody>\n",
              "</table>\n",
              "</div>"
            ],
            "text/plain": [
              "       hats  glasses  shirts  suits\n",
              "pants                              \n",
              "30       20      4.0     NaN    NaN"
            ]
          },
          "metadata": {
            "tags": []
          },
          "execution_count": 37
        }
      ]
    },
    {
      "cell_type": "code",
      "metadata": {
        "id": "2BNlpT5k1tjh",
        "colab_type": "code",
        "colab": {
          "base_uri": "https://localhost:8080/",
          "height": 142
        },
        "outputId": "7ee96c2b-eab7-42a7-ce00-cafce5f56e07"
      },
      "source": [
        "# We create a list of Python dictionaries\n",
        "items2 = [{'bikes': 20, 'pants': 30, 'watches': 35, 'shirts': 15, 'shoes':8, 'suits':45},\n",
        "{'watches': 10, 'glasses': 50, 'bikes': 15, 'pants':5, 'shirts': 2, 'shoes':5, 'suits':7},\n",
        "{'bikes': 20, 'pants': 30, 'watches': 35, 'glasses': 4, 'shoes':10}]\n",
        "\n",
        "# We create a DataFrame  and provide the row index\n",
        "store_items = pd.DataFrame(items2, index = ['store 1', 'store 2', 'store 3'])\n",
        "\n",
        "# We display the DataFrame\n",
        "store_items"
      ],
      "execution_count": 38,
      "outputs": [
        {
          "output_type": "execute_result",
          "data": {
            "text/html": [
              "<div>\n",
              "<style scoped>\n",
              "    .dataframe tbody tr th:only-of-type {\n",
              "        vertical-align: middle;\n",
              "    }\n",
              "\n",
              "    .dataframe tbody tr th {\n",
              "        vertical-align: top;\n",
              "    }\n",
              "\n",
              "    .dataframe thead th {\n",
              "        text-align: right;\n",
              "    }\n",
              "</style>\n",
              "<table border=\"1\" class=\"dataframe\">\n",
              "  <thead>\n",
              "    <tr style=\"text-align: right;\">\n",
              "      <th></th>\n",
              "      <th>bikes</th>\n",
              "      <th>pants</th>\n",
              "      <th>watches</th>\n",
              "      <th>shirts</th>\n",
              "      <th>shoes</th>\n",
              "      <th>suits</th>\n",
              "      <th>glasses</th>\n",
              "    </tr>\n",
              "  </thead>\n",
              "  <tbody>\n",
              "    <tr>\n",
              "      <th>store 1</th>\n",
              "      <td>20</td>\n",
              "      <td>30</td>\n",
              "      <td>35</td>\n",
              "      <td>15.0</td>\n",
              "      <td>8</td>\n",
              "      <td>45.0</td>\n",
              "      <td>NaN</td>\n",
              "    </tr>\n",
              "    <tr>\n",
              "      <th>store 2</th>\n",
              "      <td>15</td>\n",
              "      <td>5</td>\n",
              "      <td>10</td>\n",
              "      <td>2.0</td>\n",
              "      <td>5</td>\n",
              "      <td>7.0</td>\n",
              "      <td>50.0</td>\n",
              "    </tr>\n",
              "    <tr>\n",
              "      <th>store 3</th>\n",
              "      <td>20</td>\n",
              "      <td>30</td>\n",
              "      <td>35</td>\n",
              "      <td>NaN</td>\n",
              "      <td>10</td>\n",
              "      <td>NaN</td>\n",
              "      <td>4.0</td>\n",
              "    </tr>\n",
              "  </tbody>\n",
              "</table>\n",
              "</div>"
            ],
            "text/plain": [
              "         bikes  pants  watches  shirts  shoes  suits  glasses\n",
              "store 1     20     30       35    15.0      8   45.0      NaN\n",
              "store 2     15      5       10     2.0      5    7.0     50.0\n",
              "store 3     20     30       35     NaN     10    NaN      4.0"
            ]
          },
          "metadata": {
            "tags": []
          },
          "execution_count": 38
        }
      ]
    },
    {
      "cell_type": "code",
      "metadata": {
        "id": "pwCAPLRZ2JKi",
        "colab_type": "code",
        "colab": {
          "base_uri": "https://localhost:8080/",
          "height": 34
        },
        "outputId": "60f67be0-250f-4992-83f5-0a9fb7b16061"
      },
      "source": [
        "# We count the number of NaN values in store_items\n",
        "x =  store_items.isnull().sum().sum()\n",
        "\n",
        "# We print x\n",
        "print('Number of NaN values in our DataFrame:', x)"
      ],
      "execution_count": 39,
      "outputs": [
        {
          "output_type": "stream",
          "text": [
            "Number of NaN values in our DataFrame: 3\n"
          ],
          "name": "stdout"
        }
      ]
    },
    {
      "cell_type": "code",
      "metadata": {
        "id": "K2tUVhMA3G1P",
        "colab_type": "code",
        "colab": {
          "base_uri": "https://localhost:8080/",
          "height": 142
        },
        "outputId": "8b3f6da1-b812-40a7-9ac8-20d104265e4d"
      },
      "source": [
        "store_items.isnull()\n"
      ],
      "execution_count": 40,
      "outputs": [
        {
          "output_type": "execute_result",
          "data": {
            "text/html": [
              "<div>\n",
              "<style scoped>\n",
              "    .dataframe tbody tr th:only-of-type {\n",
              "        vertical-align: middle;\n",
              "    }\n",
              "\n",
              "    .dataframe tbody tr th {\n",
              "        vertical-align: top;\n",
              "    }\n",
              "\n",
              "    .dataframe thead th {\n",
              "        text-align: right;\n",
              "    }\n",
              "</style>\n",
              "<table border=\"1\" class=\"dataframe\">\n",
              "  <thead>\n",
              "    <tr style=\"text-align: right;\">\n",
              "      <th></th>\n",
              "      <th>bikes</th>\n",
              "      <th>pants</th>\n",
              "      <th>watches</th>\n",
              "      <th>shirts</th>\n",
              "      <th>shoes</th>\n",
              "      <th>suits</th>\n",
              "      <th>glasses</th>\n",
              "    </tr>\n",
              "  </thead>\n",
              "  <tbody>\n",
              "    <tr>\n",
              "      <th>store 1</th>\n",
              "      <td>False</td>\n",
              "      <td>False</td>\n",
              "      <td>False</td>\n",
              "      <td>False</td>\n",
              "      <td>False</td>\n",
              "      <td>False</td>\n",
              "      <td>True</td>\n",
              "    </tr>\n",
              "    <tr>\n",
              "      <th>store 2</th>\n",
              "      <td>False</td>\n",
              "      <td>False</td>\n",
              "      <td>False</td>\n",
              "      <td>False</td>\n",
              "      <td>False</td>\n",
              "      <td>False</td>\n",
              "      <td>False</td>\n",
              "    </tr>\n",
              "    <tr>\n",
              "      <th>store 3</th>\n",
              "      <td>False</td>\n",
              "      <td>False</td>\n",
              "      <td>False</td>\n",
              "      <td>True</td>\n",
              "      <td>False</td>\n",
              "      <td>True</td>\n",
              "      <td>False</td>\n",
              "    </tr>\n",
              "  </tbody>\n",
              "</table>\n",
              "</div>"
            ],
            "text/plain": [
              "         bikes  pants  watches  shirts  shoes  suits  glasses\n",
              "store 1  False  False    False   False  False  False     True\n",
              "store 2  False  False    False   False  False  False    False\n",
              "store 3  False  False    False    True  False   True    False"
            ]
          },
          "metadata": {
            "tags": []
          },
          "execution_count": 40
        }
      ]
    },
    {
      "cell_type": "code",
      "metadata": {
        "id": "0KE-Y_MZ3J58",
        "colab_type": "code",
        "colab": {
          "base_uri": "https://localhost:8080/",
          "height": 153
        },
        "outputId": "ea21db32-9659-4b55-b74b-5bde70715f78"
      },
      "source": [
        "store_items.isnull().sum()\n"
      ],
      "execution_count": 41,
      "outputs": [
        {
          "output_type": "execute_result",
          "data": {
            "text/plain": [
              "bikes      0\n",
              "pants      0\n",
              "watches    0\n",
              "shirts     1\n",
              "shoes      0\n",
              "suits      1\n",
              "glasses    1\n",
              "dtype: int64"
            ]
          },
          "metadata": {
            "tags": []
          },
          "execution_count": 41
        }
      ]
    },
    {
      "cell_type": "code",
      "metadata": {
        "id": "g7iCpkmP3ORL",
        "colab_type": "code",
        "colab": {
          "base_uri": "https://localhost:8080/",
          "height": 80
        },
        "outputId": "f86e8474-2ad5-458b-ad33-c60c33ce92f6"
      },
      "source": [
        "# We drop any rows with NaN values\n",
        "store_items.dropna(axis = 0)"
      ],
      "execution_count": 42,
      "outputs": [
        {
          "output_type": "execute_result",
          "data": {
            "text/html": [
              "<div>\n",
              "<style scoped>\n",
              "    .dataframe tbody tr th:only-of-type {\n",
              "        vertical-align: middle;\n",
              "    }\n",
              "\n",
              "    .dataframe tbody tr th {\n",
              "        vertical-align: top;\n",
              "    }\n",
              "\n",
              "    .dataframe thead th {\n",
              "        text-align: right;\n",
              "    }\n",
              "</style>\n",
              "<table border=\"1\" class=\"dataframe\">\n",
              "  <thead>\n",
              "    <tr style=\"text-align: right;\">\n",
              "      <th></th>\n",
              "      <th>bikes</th>\n",
              "      <th>pants</th>\n",
              "      <th>watches</th>\n",
              "      <th>shirts</th>\n",
              "      <th>shoes</th>\n",
              "      <th>suits</th>\n",
              "      <th>glasses</th>\n",
              "    </tr>\n",
              "  </thead>\n",
              "  <tbody>\n",
              "    <tr>\n",
              "      <th>store 2</th>\n",
              "      <td>15</td>\n",
              "      <td>5</td>\n",
              "      <td>10</td>\n",
              "      <td>2.0</td>\n",
              "      <td>5</td>\n",
              "      <td>7.0</td>\n",
              "      <td>50.0</td>\n",
              "    </tr>\n",
              "  </tbody>\n",
              "</table>\n",
              "</div>"
            ],
            "text/plain": [
              "         bikes  pants  watches  shirts  shoes  suits  glasses\n",
              "store 2     15      5       10     2.0      5    7.0     50.0"
            ]
          },
          "metadata": {
            "tags": []
          },
          "execution_count": 42
        }
      ]
    },
    {
      "cell_type": "code",
      "metadata": {
        "id": "9l9ty9CR3UgJ",
        "colab_type": "code",
        "colab": {
          "base_uri": "https://localhost:8080/",
          "height": 142
        },
        "outputId": "ca7c1257-3742-4bc6-b39b-da389fbdde37"
      },
      "source": [
        "# We drop any columns with NaN values\n",
        "store_items.dropna(axis = 1)"
      ],
      "execution_count": 43,
      "outputs": [
        {
          "output_type": "execute_result",
          "data": {
            "text/html": [
              "<div>\n",
              "<style scoped>\n",
              "    .dataframe tbody tr th:only-of-type {\n",
              "        vertical-align: middle;\n",
              "    }\n",
              "\n",
              "    .dataframe tbody tr th {\n",
              "        vertical-align: top;\n",
              "    }\n",
              "\n",
              "    .dataframe thead th {\n",
              "        text-align: right;\n",
              "    }\n",
              "</style>\n",
              "<table border=\"1\" class=\"dataframe\">\n",
              "  <thead>\n",
              "    <tr style=\"text-align: right;\">\n",
              "      <th></th>\n",
              "      <th>bikes</th>\n",
              "      <th>pants</th>\n",
              "      <th>watches</th>\n",
              "      <th>shoes</th>\n",
              "    </tr>\n",
              "  </thead>\n",
              "  <tbody>\n",
              "    <tr>\n",
              "      <th>store 1</th>\n",
              "      <td>20</td>\n",
              "      <td>30</td>\n",
              "      <td>35</td>\n",
              "      <td>8</td>\n",
              "    </tr>\n",
              "    <tr>\n",
              "      <th>store 2</th>\n",
              "      <td>15</td>\n",
              "      <td>5</td>\n",
              "      <td>10</td>\n",
              "      <td>5</td>\n",
              "    </tr>\n",
              "    <tr>\n",
              "      <th>store 3</th>\n",
              "      <td>20</td>\n",
              "      <td>30</td>\n",
              "      <td>35</td>\n",
              "      <td>10</td>\n",
              "    </tr>\n",
              "  </tbody>\n",
              "</table>\n",
              "</div>"
            ],
            "text/plain": [
              "         bikes  pants  watches  shoes\n",
              "store 1     20     30       35      8\n",
              "store 2     15      5       10      5\n",
              "store 3     20     30       35     10"
            ]
          },
          "metadata": {
            "tags": []
          },
          "execution_count": 43
        }
      ]
    },
    {
      "cell_type": "code",
      "metadata": {
        "id": "WVprrT_z3ejg",
        "colab_type": "code",
        "colab": {
          "base_uri": "https://localhost:8080/",
          "height": 142
        },
        "outputId": "218d748f-932f-4f47-869a-c608dfae527f"
      },
      "source": [
        "# We replace all NaN values with 0\n",
        "store_items.fillna(0)"
      ],
      "execution_count": 44,
      "outputs": [
        {
          "output_type": "execute_result",
          "data": {
            "text/html": [
              "<div>\n",
              "<style scoped>\n",
              "    .dataframe tbody tr th:only-of-type {\n",
              "        vertical-align: middle;\n",
              "    }\n",
              "\n",
              "    .dataframe tbody tr th {\n",
              "        vertical-align: top;\n",
              "    }\n",
              "\n",
              "    .dataframe thead th {\n",
              "        text-align: right;\n",
              "    }\n",
              "</style>\n",
              "<table border=\"1\" class=\"dataframe\">\n",
              "  <thead>\n",
              "    <tr style=\"text-align: right;\">\n",
              "      <th></th>\n",
              "      <th>bikes</th>\n",
              "      <th>pants</th>\n",
              "      <th>watches</th>\n",
              "      <th>shirts</th>\n",
              "      <th>shoes</th>\n",
              "      <th>suits</th>\n",
              "      <th>glasses</th>\n",
              "    </tr>\n",
              "  </thead>\n",
              "  <tbody>\n",
              "    <tr>\n",
              "      <th>store 1</th>\n",
              "      <td>20</td>\n",
              "      <td>30</td>\n",
              "      <td>35</td>\n",
              "      <td>15.0</td>\n",
              "      <td>8</td>\n",
              "      <td>45.0</td>\n",
              "      <td>0.0</td>\n",
              "    </tr>\n",
              "    <tr>\n",
              "      <th>store 2</th>\n",
              "      <td>15</td>\n",
              "      <td>5</td>\n",
              "      <td>10</td>\n",
              "      <td>2.0</td>\n",
              "      <td>5</td>\n",
              "      <td>7.0</td>\n",
              "      <td>50.0</td>\n",
              "    </tr>\n",
              "    <tr>\n",
              "      <th>store 3</th>\n",
              "      <td>20</td>\n",
              "      <td>30</td>\n",
              "      <td>35</td>\n",
              "      <td>0.0</td>\n",
              "      <td>10</td>\n",
              "      <td>0.0</td>\n",
              "      <td>4.0</td>\n",
              "    </tr>\n",
              "  </tbody>\n",
              "</table>\n",
              "</div>"
            ],
            "text/plain": [
              "         bikes  pants  watches  shirts  shoes  suits  glasses\n",
              "store 1     20     30       35    15.0      8   45.0      0.0\n",
              "store 2     15      5       10     2.0      5    7.0     50.0\n",
              "store 3     20     30       35     0.0     10    0.0      4.0"
            ]
          },
          "metadata": {
            "tags": []
          },
          "execution_count": 44
        }
      ]
    },
    {
      "cell_type": "code",
      "metadata": {
        "id": "h-Qa3oV23kYH",
        "colab_type": "code",
        "colab": {
          "base_uri": "https://localhost:8080/",
          "height": 142
        },
        "outputId": "98cf6a82-2577-4fad-aec5-772979d06d9c"
      },
      "source": [
        "# We replace NaN values with the previous value in the column\n",
        "store_items.fillna(method = 'ffill', axis = 0)"
      ],
      "execution_count": 45,
      "outputs": [
        {
          "output_type": "execute_result",
          "data": {
            "text/html": [
              "<div>\n",
              "<style scoped>\n",
              "    .dataframe tbody tr th:only-of-type {\n",
              "        vertical-align: middle;\n",
              "    }\n",
              "\n",
              "    .dataframe tbody tr th {\n",
              "        vertical-align: top;\n",
              "    }\n",
              "\n",
              "    .dataframe thead th {\n",
              "        text-align: right;\n",
              "    }\n",
              "</style>\n",
              "<table border=\"1\" class=\"dataframe\">\n",
              "  <thead>\n",
              "    <tr style=\"text-align: right;\">\n",
              "      <th></th>\n",
              "      <th>bikes</th>\n",
              "      <th>pants</th>\n",
              "      <th>watches</th>\n",
              "      <th>shirts</th>\n",
              "      <th>shoes</th>\n",
              "      <th>suits</th>\n",
              "      <th>glasses</th>\n",
              "    </tr>\n",
              "  </thead>\n",
              "  <tbody>\n",
              "    <tr>\n",
              "      <th>store 1</th>\n",
              "      <td>20</td>\n",
              "      <td>30</td>\n",
              "      <td>35</td>\n",
              "      <td>15.0</td>\n",
              "      <td>8</td>\n",
              "      <td>45.0</td>\n",
              "      <td>NaN</td>\n",
              "    </tr>\n",
              "    <tr>\n",
              "      <th>store 2</th>\n",
              "      <td>15</td>\n",
              "      <td>5</td>\n",
              "      <td>10</td>\n",
              "      <td>2.0</td>\n",
              "      <td>5</td>\n",
              "      <td>7.0</td>\n",
              "      <td>50.0</td>\n",
              "    </tr>\n",
              "    <tr>\n",
              "      <th>store 3</th>\n",
              "      <td>20</td>\n",
              "      <td>30</td>\n",
              "      <td>35</td>\n",
              "      <td>2.0</td>\n",
              "      <td>10</td>\n",
              "      <td>7.0</td>\n",
              "      <td>4.0</td>\n",
              "    </tr>\n",
              "  </tbody>\n",
              "</table>\n",
              "</div>"
            ],
            "text/plain": [
              "         bikes  pants  watches  shirts  shoes  suits  glasses\n",
              "store 1     20     30       35    15.0      8   45.0      NaN\n",
              "store 2     15      5       10     2.0      5    7.0     50.0\n",
              "store 3     20     30       35     2.0     10    7.0      4.0"
            ]
          },
          "metadata": {
            "tags": []
          },
          "execution_count": 45
        }
      ]
    },
    {
      "cell_type": "code",
      "metadata": {
        "id": "jw2Zr4Gz3q0N",
        "colab_type": "code",
        "colab": {
          "base_uri": "https://localhost:8080/",
          "height": 142
        },
        "outputId": "a32a6889-de56-40c3-ea93-8cbc50ec42c1"
      },
      "source": [
        "# We replace NaN values with the previous value in the row\n",
        "store_items.fillna(method = 'ffill', axis = 1)"
      ],
      "execution_count": 46,
      "outputs": [
        {
          "output_type": "execute_result",
          "data": {
            "text/html": [
              "<div>\n",
              "<style scoped>\n",
              "    .dataframe tbody tr th:only-of-type {\n",
              "        vertical-align: middle;\n",
              "    }\n",
              "\n",
              "    .dataframe tbody tr th {\n",
              "        vertical-align: top;\n",
              "    }\n",
              "\n",
              "    .dataframe thead th {\n",
              "        text-align: right;\n",
              "    }\n",
              "</style>\n",
              "<table border=\"1\" class=\"dataframe\">\n",
              "  <thead>\n",
              "    <tr style=\"text-align: right;\">\n",
              "      <th></th>\n",
              "      <th>bikes</th>\n",
              "      <th>pants</th>\n",
              "      <th>watches</th>\n",
              "      <th>shirts</th>\n",
              "      <th>shoes</th>\n",
              "      <th>suits</th>\n",
              "      <th>glasses</th>\n",
              "    </tr>\n",
              "  </thead>\n",
              "  <tbody>\n",
              "    <tr>\n",
              "      <th>store 1</th>\n",
              "      <td>20.0</td>\n",
              "      <td>30.0</td>\n",
              "      <td>35.0</td>\n",
              "      <td>15.0</td>\n",
              "      <td>8.0</td>\n",
              "      <td>45.0</td>\n",
              "      <td>45.0</td>\n",
              "    </tr>\n",
              "    <tr>\n",
              "      <th>store 2</th>\n",
              "      <td>15.0</td>\n",
              "      <td>5.0</td>\n",
              "      <td>10.0</td>\n",
              "      <td>2.0</td>\n",
              "      <td>5.0</td>\n",
              "      <td>7.0</td>\n",
              "      <td>50.0</td>\n",
              "    </tr>\n",
              "    <tr>\n",
              "      <th>store 3</th>\n",
              "      <td>20.0</td>\n",
              "      <td>30.0</td>\n",
              "      <td>35.0</td>\n",
              "      <td>35.0</td>\n",
              "      <td>10.0</td>\n",
              "      <td>10.0</td>\n",
              "      <td>4.0</td>\n",
              "    </tr>\n",
              "  </tbody>\n",
              "</table>\n",
              "</div>"
            ],
            "text/plain": [
              "         bikes  pants  watches  shirts  shoes  suits  glasses\n",
              "store 1   20.0   30.0     35.0    15.0    8.0   45.0     45.0\n",
              "store 2   15.0    5.0     10.0     2.0    5.0    7.0     50.0\n",
              "store 3   20.0   30.0     35.0    35.0   10.0   10.0      4.0"
            ]
          },
          "metadata": {
            "tags": []
          },
          "execution_count": 46
        }
      ]
    },
    {
      "cell_type": "code",
      "metadata": {
        "id": "LfjlycOg3vxG",
        "colab_type": "code",
        "colab": {
          "base_uri": "https://localhost:8080/",
          "height": 142
        },
        "outputId": "4afa5182-95bb-4cc4-e83c-ec85b06a7e32"
      },
      "source": [
        "# We replace NaN values with the next value in the column\n",
        "store_items.fillna(method = 'backfill', axis = 0)"
      ],
      "execution_count": 47,
      "outputs": [
        {
          "output_type": "execute_result",
          "data": {
            "text/html": [
              "<div>\n",
              "<style scoped>\n",
              "    .dataframe tbody tr th:only-of-type {\n",
              "        vertical-align: middle;\n",
              "    }\n",
              "\n",
              "    .dataframe tbody tr th {\n",
              "        vertical-align: top;\n",
              "    }\n",
              "\n",
              "    .dataframe thead th {\n",
              "        text-align: right;\n",
              "    }\n",
              "</style>\n",
              "<table border=\"1\" class=\"dataframe\">\n",
              "  <thead>\n",
              "    <tr style=\"text-align: right;\">\n",
              "      <th></th>\n",
              "      <th>bikes</th>\n",
              "      <th>pants</th>\n",
              "      <th>watches</th>\n",
              "      <th>shirts</th>\n",
              "      <th>shoes</th>\n",
              "      <th>suits</th>\n",
              "      <th>glasses</th>\n",
              "    </tr>\n",
              "  </thead>\n",
              "  <tbody>\n",
              "    <tr>\n",
              "      <th>store 1</th>\n",
              "      <td>20</td>\n",
              "      <td>30</td>\n",
              "      <td>35</td>\n",
              "      <td>15.0</td>\n",
              "      <td>8</td>\n",
              "      <td>45.0</td>\n",
              "      <td>50.0</td>\n",
              "    </tr>\n",
              "    <tr>\n",
              "      <th>store 2</th>\n",
              "      <td>15</td>\n",
              "      <td>5</td>\n",
              "      <td>10</td>\n",
              "      <td>2.0</td>\n",
              "      <td>5</td>\n",
              "      <td>7.0</td>\n",
              "      <td>50.0</td>\n",
              "    </tr>\n",
              "    <tr>\n",
              "      <th>store 3</th>\n",
              "      <td>20</td>\n",
              "      <td>30</td>\n",
              "      <td>35</td>\n",
              "      <td>NaN</td>\n",
              "      <td>10</td>\n",
              "      <td>NaN</td>\n",
              "      <td>4.0</td>\n",
              "    </tr>\n",
              "  </tbody>\n",
              "</table>\n",
              "</div>"
            ],
            "text/plain": [
              "         bikes  pants  watches  shirts  shoes  suits  glasses\n",
              "store 1     20     30       35    15.0      8   45.0     50.0\n",
              "store 2     15      5       10     2.0      5    7.0     50.0\n",
              "store 3     20     30       35     NaN     10    NaN      4.0"
            ]
          },
          "metadata": {
            "tags": []
          },
          "execution_count": 47
        }
      ]
    },
    {
      "cell_type": "code",
      "metadata": {
        "id": "bHCwV4_S33Lr",
        "colab_type": "code",
        "colab": {
          "base_uri": "https://localhost:8080/",
          "height": 142
        },
        "outputId": "361de929-522c-4235-f2c9-a8053b7dc5b2"
      },
      "source": [
        "# We replace NaN values with the next value in the row\n",
        "store_items.fillna(method = 'backfill', axis = 1)"
      ],
      "execution_count": 48,
      "outputs": [
        {
          "output_type": "execute_result",
          "data": {
            "text/html": [
              "<div>\n",
              "<style scoped>\n",
              "    .dataframe tbody tr th:only-of-type {\n",
              "        vertical-align: middle;\n",
              "    }\n",
              "\n",
              "    .dataframe tbody tr th {\n",
              "        vertical-align: top;\n",
              "    }\n",
              "\n",
              "    .dataframe thead th {\n",
              "        text-align: right;\n",
              "    }\n",
              "</style>\n",
              "<table border=\"1\" class=\"dataframe\">\n",
              "  <thead>\n",
              "    <tr style=\"text-align: right;\">\n",
              "      <th></th>\n",
              "      <th>bikes</th>\n",
              "      <th>pants</th>\n",
              "      <th>watches</th>\n",
              "      <th>shirts</th>\n",
              "      <th>shoes</th>\n",
              "      <th>suits</th>\n",
              "      <th>glasses</th>\n",
              "    </tr>\n",
              "  </thead>\n",
              "  <tbody>\n",
              "    <tr>\n",
              "      <th>store 1</th>\n",
              "      <td>20.0</td>\n",
              "      <td>30.0</td>\n",
              "      <td>35.0</td>\n",
              "      <td>15.0</td>\n",
              "      <td>8.0</td>\n",
              "      <td>45.0</td>\n",
              "      <td>NaN</td>\n",
              "    </tr>\n",
              "    <tr>\n",
              "      <th>store 2</th>\n",
              "      <td>15.0</td>\n",
              "      <td>5.0</td>\n",
              "      <td>10.0</td>\n",
              "      <td>2.0</td>\n",
              "      <td>5.0</td>\n",
              "      <td>7.0</td>\n",
              "      <td>50.0</td>\n",
              "    </tr>\n",
              "    <tr>\n",
              "      <th>store 3</th>\n",
              "      <td>20.0</td>\n",
              "      <td>30.0</td>\n",
              "      <td>35.0</td>\n",
              "      <td>10.0</td>\n",
              "      <td>10.0</td>\n",
              "      <td>4.0</td>\n",
              "      <td>4.0</td>\n",
              "    </tr>\n",
              "  </tbody>\n",
              "</table>\n",
              "</div>"
            ],
            "text/plain": [
              "         bikes  pants  watches  shirts  shoes  suits  glasses\n",
              "store 1   20.0   30.0     35.0    15.0    8.0   45.0      NaN\n",
              "store 2   15.0    5.0     10.0     2.0    5.0    7.0     50.0\n",
              "store 3   20.0   30.0     35.0    10.0   10.0    4.0      4.0"
            ]
          },
          "metadata": {
            "tags": []
          },
          "execution_count": 48
        }
      ]
    },
    {
      "cell_type": "code",
      "metadata": {
        "id": "WhTEsj1C38PT",
        "colab_type": "code",
        "colab": {
          "base_uri": "https://localhost:8080/",
          "height": 51
        },
        "outputId": "361067fe-1a08-49b4-bea9-0728cbac33c9"
      },
      "source": [
        "# We load Google stock data in a DataFrame\n",
        "Google_stock = pd.read_csv('goog-1.csv')\n",
        "\n",
        "# We print some information about Google_stock\n",
        "print('Google_stock is of type:', type(Google_stock))\n",
        "print('Google_stock has shape:', Google_stock.shape)"
      ],
      "execution_count": 52,
      "outputs": [
        {
          "output_type": "stream",
          "text": [
            "Google_stock is of type: <class 'pandas.core.frame.DataFrame'>\n",
            "Google_stock has shape: (3313, 7)\n"
          ],
          "name": "stdout"
        }
      ]
    },
    {
      "cell_type": "code",
      "metadata": {
        "id": "-mvE2mz04eXZ",
        "colab_type": "code",
        "colab": {
          "base_uri": "https://localhost:8080/",
          "height": 419
        },
        "outputId": "d879e6ee-9e2d-446c-b5e0-5cf38179f687"
      },
      "source": [
        "Google_stock"
      ],
      "execution_count": 53,
      "outputs": [
        {
          "output_type": "execute_result",
          "data": {
            "text/html": [
              "<div>\n",
              "<style scoped>\n",
              "    .dataframe tbody tr th:only-of-type {\n",
              "        vertical-align: middle;\n",
              "    }\n",
              "\n",
              "    .dataframe tbody tr th {\n",
              "        vertical-align: top;\n",
              "    }\n",
              "\n",
              "    .dataframe thead th {\n",
              "        text-align: right;\n",
              "    }\n",
              "</style>\n",
              "<table border=\"1\" class=\"dataframe\">\n",
              "  <thead>\n",
              "    <tr style=\"text-align: right;\">\n",
              "      <th></th>\n",
              "      <th>Date</th>\n",
              "      <th>Open</th>\n",
              "      <th>High</th>\n",
              "      <th>Low</th>\n",
              "      <th>Close</th>\n",
              "      <th>Adj Close</th>\n",
              "      <th>Volume</th>\n",
              "    </tr>\n",
              "  </thead>\n",
              "  <tbody>\n",
              "    <tr>\n",
              "      <th>0</th>\n",
              "      <td>2004-08-19</td>\n",
              "      <td>49.676899</td>\n",
              "      <td>51.693783</td>\n",
              "      <td>47.669952</td>\n",
              "      <td>49.845802</td>\n",
              "      <td>49.845802</td>\n",
              "      <td>44994500</td>\n",
              "    </tr>\n",
              "    <tr>\n",
              "      <th>1</th>\n",
              "      <td>2004-08-20</td>\n",
              "      <td>50.178635</td>\n",
              "      <td>54.187561</td>\n",
              "      <td>49.925285</td>\n",
              "      <td>53.805050</td>\n",
              "      <td>53.805050</td>\n",
              "      <td>23005800</td>\n",
              "    </tr>\n",
              "    <tr>\n",
              "      <th>2</th>\n",
              "      <td>2004-08-23</td>\n",
              "      <td>55.017166</td>\n",
              "      <td>56.373344</td>\n",
              "      <td>54.172661</td>\n",
              "      <td>54.346527</td>\n",
              "      <td>54.346527</td>\n",
              "      <td>18393200</td>\n",
              "    </tr>\n",
              "    <tr>\n",
              "      <th>3</th>\n",
              "      <td>2004-08-24</td>\n",
              "      <td>55.260582</td>\n",
              "      <td>55.439419</td>\n",
              "      <td>51.450363</td>\n",
              "      <td>52.096165</td>\n",
              "      <td>52.096165</td>\n",
              "      <td>15361800</td>\n",
              "    </tr>\n",
              "    <tr>\n",
              "      <th>4</th>\n",
              "      <td>2004-08-25</td>\n",
              "      <td>52.140873</td>\n",
              "      <td>53.651051</td>\n",
              "      <td>51.604362</td>\n",
              "      <td>52.657513</td>\n",
              "      <td>52.657513</td>\n",
              "      <td>9257400</td>\n",
              "    </tr>\n",
              "    <tr>\n",
              "      <th>...</th>\n",
              "      <td>...</td>\n",
              "      <td>...</td>\n",
              "      <td>...</td>\n",
              "      <td>...</td>\n",
              "      <td>...</td>\n",
              "      <td>...</td>\n",
              "      <td>...</td>\n",
              "    </tr>\n",
              "    <tr>\n",
              "      <th>3308</th>\n",
              "      <td>2017-10-09</td>\n",
              "      <td>980.000000</td>\n",
              "      <td>985.424988</td>\n",
              "      <td>976.109985</td>\n",
              "      <td>977.000000</td>\n",
              "      <td>977.000000</td>\n",
              "      <td>891400</td>\n",
              "    </tr>\n",
              "    <tr>\n",
              "      <th>3309</th>\n",
              "      <td>2017-10-10</td>\n",
              "      <td>980.000000</td>\n",
              "      <td>981.570007</td>\n",
              "      <td>966.080017</td>\n",
              "      <td>972.599976</td>\n",
              "      <td>972.599976</td>\n",
              "      <td>968400</td>\n",
              "    </tr>\n",
              "    <tr>\n",
              "      <th>3310</th>\n",
              "      <td>2017-10-11</td>\n",
              "      <td>973.719971</td>\n",
              "      <td>990.710022</td>\n",
              "      <td>972.250000</td>\n",
              "      <td>989.250000</td>\n",
              "      <td>989.250000</td>\n",
              "      <td>1693300</td>\n",
              "    </tr>\n",
              "    <tr>\n",
              "      <th>3311</th>\n",
              "      <td>2017-10-12</td>\n",
              "      <td>987.450012</td>\n",
              "      <td>994.119995</td>\n",
              "      <td>985.000000</td>\n",
              "      <td>987.830017</td>\n",
              "      <td>987.830017</td>\n",
              "      <td>1262400</td>\n",
              "    </tr>\n",
              "    <tr>\n",
              "      <th>3312</th>\n",
              "      <td>2017-10-13</td>\n",
              "      <td>992.000000</td>\n",
              "      <td>997.210022</td>\n",
              "      <td>989.000000</td>\n",
              "      <td>989.679993</td>\n",
              "      <td>989.679993</td>\n",
              "      <td>1157700</td>\n",
              "    </tr>\n",
              "  </tbody>\n",
              "</table>\n",
              "<p>3313 rows × 7 columns</p>\n",
              "</div>"
            ],
            "text/plain": [
              "            Date        Open        High  ...       Close   Adj Close    Volume\n",
              "0     2004-08-19   49.676899   51.693783  ...   49.845802   49.845802  44994500\n",
              "1     2004-08-20   50.178635   54.187561  ...   53.805050   53.805050  23005800\n",
              "2     2004-08-23   55.017166   56.373344  ...   54.346527   54.346527  18393200\n",
              "3     2004-08-24   55.260582   55.439419  ...   52.096165   52.096165  15361800\n",
              "4     2004-08-25   52.140873   53.651051  ...   52.657513   52.657513   9257400\n",
              "...          ...         ...         ...  ...         ...         ...       ...\n",
              "3308  2017-10-09  980.000000  985.424988  ...  977.000000  977.000000    891400\n",
              "3309  2017-10-10  980.000000  981.570007  ...  972.599976  972.599976    968400\n",
              "3310  2017-10-11  973.719971  990.710022  ...  989.250000  989.250000   1693300\n",
              "3311  2017-10-12  987.450012  994.119995  ...  987.830017  987.830017   1262400\n",
              "3312  2017-10-13  992.000000  997.210022  ...  989.679993  989.679993   1157700\n",
              "\n",
              "[3313 rows x 7 columns]"
            ]
          },
          "metadata": {
            "tags": []
          },
          "execution_count": 53
        }
      ]
    },
    {
      "cell_type": "code",
      "metadata": {
        "id": "S1BFX7nS4wSJ",
        "colab_type": "code",
        "colab": {
          "base_uri": "https://localhost:8080/",
          "height": 204
        },
        "outputId": "05f1488a-ae5a-4898-e654-1aedf7bfb02f"
      },
      "source": [
        "Google_stock.head()\n"
      ],
      "execution_count": 54,
      "outputs": [
        {
          "output_type": "execute_result",
          "data": {
            "text/html": [
              "<div>\n",
              "<style scoped>\n",
              "    .dataframe tbody tr th:only-of-type {\n",
              "        vertical-align: middle;\n",
              "    }\n",
              "\n",
              "    .dataframe tbody tr th {\n",
              "        vertical-align: top;\n",
              "    }\n",
              "\n",
              "    .dataframe thead th {\n",
              "        text-align: right;\n",
              "    }\n",
              "</style>\n",
              "<table border=\"1\" class=\"dataframe\">\n",
              "  <thead>\n",
              "    <tr style=\"text-align: right;\">\n",
              "      <th></th>\n",
              "      <th>Date</th>\n",
              "      <th>Open</th>\n",
              "      <th>High</th>\n",
              "      <th>Low</th>\n",
              "      <th>Close</th>\n",
              "      <th>Adj Close</th>\n",
              "      <th>Volume</th>\n",
              "    </tr>\n",
              "  </thead>\n",
              "  <tbody>\n",
              "    <tr>\n",
              "      <th>0</th>\n",
              "      <td>2004-08-19</td>\n",
              "      <td>49.676899</td>\n",
              "      <td>51.693783</td>\n",
              "      <td>47.669952</td>\n",
              "      <td>49.845802</td>\n",
              "      <td>49.845802</td>\n",
              "      <td>44994500</td>\n",
              "    </tr>\n",
              "    <tr>\n",
              "      <th>1</th>\n",
              "      <td>2004-08-20</td>\n",
              "      <td>50.178635</td>\n",
              "      <td>54.187561</td>\n",
              "      <td>49.925285</td>\n",
              "      <td>53.805050</td>\n",
              "      <td>53.805050</td>\n",
              "      <td>23005800</td>\n",
              "    </tr>\n",
              "    <tr>\n",
              "      <th>2</th>\n",
              "      <td>2004-08-23</td>\n",
              "      <td>55.017166</td>\n",
              "      <td>56.373344</td>\n",
              "      <td>54.172661</td>\n",
              "      <td>54.346527</td>\n",
              "      <td>54.346527</td>\n",
              "      <td>18393200</td>\n",
              "    </tr>\n",
              "    <tr>\n",
              "      <th>3</th>\n",
              "      <td>2004-08-24</td>\n",
              "      <td>55.260582</td>\n",
              "      <td>55.439419</td>\n",
              "      <td>51.450363</td>\n",
              "      <td>52.096165</td>\n",
              "      <td>52.096165</td>\n",
              "      <td>15361800</td>\n",
              "    </tr>\n",
              "    <tr>\n",
              "      <th>4</th>\n",
              "      <td>2004-08-25</td>\n",
              "      <td>52.140873</td>\n",
              "      <td>53.651051</td>\n",
              "      <td>51.604362</td>\n",
              "      <td>52.657513</td>\n",
              "      <td>52.657513</td>\n",
              "      <td>9257400</td>\n",
              "    </tr>\n",
              "  </tbody>\n",
              "</table>\n",
              "</div>"
            ],
            "text/plain": [
              "         Date       Open       High        Low      Close  Adj Close    Volume\n",
              "0  2004-08-19  49.676899  51.693783  47.669952  49.845802  49.845802  44994500\n",
              "1  2004-08-20  50.178635  54.187561  49.925285  53.805050  53.805050  23005800\n",
              "2  2004-08-23  55.017166  56.373344  54.172661  54.346527  54.346527  18393200\n",
              "3  2004-08-24  55.260582  55.439419  51.450363  52.096165  52.096165  15361800\n",
              "4  2004-08-25  52.140873  53.651051  51.604362  52.657513  52.657513   9257400"
            ]
          },
          "metadata": {
            "tags": []
          },
          "execution_count": 54
        }
      ]
    },
    {
      "cell_type": "code",
      "metadata": {
        "id": "vCKtq01F400E",
        "colab_type": "code",
        "colab": {
          "base_uri": "https://localhost:8080/",
          "height": 204
        },
        "outputId": "ee82ccd9-9401-4ccd-edde-135a930d30ca"
      },
      "source": [
        "Google_stock.tail()\n"
      ],
      "execution_count": 55,
      "outputs": [
        {
          "output_type": "execute_result",
          "data": {
            "text/html": [
              "<div>\n",
              "<style scoped>\n",
              "    .dataframe tbody tr th:only-of-type {\n",
              "        vertical-align: middle;\n",
              "    }\n",
              "\n",
              "    .dataframe tbody tr th {\n",
              "        vertical-align: top;\n",
              "    }\n",
              "\n",
              "    .dataframe thead th {\n",
              "        text-align: right;\n",
              "    }\n",
              "</style>\n",
              "<table border=\"1\" class=\"dataframe\">\n",
              "  <thead>\n",
              "    <tr style=\"text-align: right;\">\n",
              "      <th></th>\n",
              "      <th>Date</th>\n",
              "      <th>Open</th>\n",
              "      <th>High</th>\n",
              "      <th>Low</th>\n",
              "      <th>Close</th>\n",
              "      <th>Adj Close</th>\n",
              "      <th>Volume</th>\n",
              "    </tr>\n",
              "  </thead>\n",
              "  <tbody>\n",
              "    <tr>\n",
              "      <th>3308</th>\n",
              "      <td>2017-10-09</td>\n",
              "      <td>980.000000</td>\n",
              "      <td>985.424988</td>\n",
              "      <td>976.109985</td>\n",
              "      <td>977.000000</td>\n",
              "      <td>977.000000</td>\n",
              "      <td>891400</td>\n",
              "    </tr>\n",
              "    <tr>\n",
              "      <th>3309</th>\n",
              "      <td>2017-10-10</td>\n",
              "      <td>980.000000</td>\n",
              "      <td>981.570007</td>\n",
              "      <td>966.080017</td>\n",
              "      <td>972.599976</td>\n",
              "      <td>972.599976</td>\n",
              "      <td>968400</td>\n",
              "    </tr>\n",
              "    <tr>\n",
              "      <th>3310</th>\n",
              "      <td>2017-10-11</td>\n",
              "      <td>973.719971</td>\n",
              "      <td>990.710022</td>\n",
              "      <td>972.250000</td>\n",
              "      <td>989.250000</td>\n",
              "      <td>989.250000</td>\n",
              "      <td>1693300</td>\n",
              "    </tr>\n",
              "    <tr>\n",
              "      <th>3311</th>\n",
              "      <td>2017-10-12</td>\n",
              "      <td>987.450012</td>\n",
              "      <td>994.119995</td>\n",
              "      <td>985.000000</td>\n",
              "      <td>987.830017</td>\n",
              "      <td>987.830017</td>\n",
              "      <td>1262400</td>\n",
              "    </tr>\n",
              "    <tr>\n",
              "      <th>3312</th>\n",
              "      <td>2017-10-13</td>\n",
              "      <td>992.000000</td>\n",
              "      <td>997.210022</td>\n",
              "      <td>989.000000</td>\n",
              "      <td>989.679993</td>\n",
              "      <td>989.679993</td>\n",
              "      <td>1157700</td>\n",
              "    </tr>\n",
              "  </tbody>\n",
              "</table>\n",
              "</div>"
            ],
            "text/plain": [
              "            Date        Open        High  ...       Close   Adj Close   Volume\n",
              "3308  2017-10-09  980.000000  985.424988  ...  977.000000  977.000000   891400\n",
              "3309  2017-10-10  980.000000  981.570007  ...  972.599976  972.599976   968400\n",
              "3310  2017-10-11  973.719971  990.710022  ...  989.250000  989.250000  1693300\n",
              "3311  2017-10-12  987.450012  994.119995  ...  987.830017  987.830017  1262400\n",
              "3312  2017-10-13  992.000000  997.210022  ...  989.679993  989.679993  1157700\n",
              "\n",
              "[5 rows x 7 columns]"
            ]
          },
          "metadata": {
            "tags": []
          },
          "execution_count": 55
        }
      ]
    },
    {
      "cell_type": "code",
      "metadata": {
        "id": "cWaAcchv43_M",
        "colab_type": "code",
        "colab": {
          "base_uri": "https://localhost:8080/",
          "height": 153
        },
        "outputId": "b1f57d17-0424-4b44-d20c-b4cb26568f27"
      },
      "source": [
        "Google_stock.isnull().any()\n"
      ],
      "execution_count": 56,
      "outputs": [
        {
          "output_type": "execute_result",
          "data": {
            "text/plain": [
              "Date         False\n",
              "Open         False\n",
              "High         False\n",
              "Low          False\n",
              "Close        False\n",
              "Adj Close    False\n",
              "Volume       False\n",
              "dtype: bool"
            ]
          },
          "metadata": {
            "tags": []
          },
          "execution_count": 56
        }
      ]
    },
    {
      "cell_type": "code",
      "metadata": {
        "id": "AolB0wYl47dC",
        "colab_type": "code",
        "colab": {
          "base_uri": "https://localhost:8080/",
          "height": 297
        },
        "outputId": "7bae81dd-ade2-45cd-b752-21b5ef731b91"
      },
      "source": [
        "# We get descriptive statistics on our stock data\n",
        "Google_stock.describe()"
      ],
      "execution_count": 57,
      "outputs": [
        {
          "output_type": "execute_result",
          "data": {
            "text/html": [
              "<div>\n",
              "<style scoped>\n",
              "    .dataframe tbody tr th:only-of-type {\n",
              "        vertical-align: middle;\n",
              "    }\n",
              "\n",
              "    .dataframe tbody tr th {\n",
              "        vertical-align: top;\n",
              "    }\n",
              "\n",
              "    .dataframe thead th {\n",
              "        text-align: right;\n",
              "    }\n",
              "</style>\n",
              "<table border=\"1\" class=\"dataframe\">\n",
              "  <thead>\n",
              "    <tr style=\"text-align: right;\">\n",
              "      <th></th>\n",
              "      <th>Open</th>\n",
              "      <th>High</th>\n",
              "      <th>Low</th>\n",
              "      <th>Close</th>\n",
              "      <th>Adj Close</th>\n",
              "      <th>Volume</th>\n",
              "    </tr>\n",
              "  </thead>\n",
              "  <tbody>\n",
              "    <tr>\n",
              "      <th>count</th>\n",
              "      <td>3313.000000</td>\n",
              "      <td>3313.000000</td>\n",
              "      <td>3313.000000</td>\n",
              "      <td>3313.000000</td>\n",
              "      <td>3313.000000</td>\n",
              "      <td>3.313000e+03</td>\n",
              "    </tr>\n",
              "    <tr>\n",
              "      <th>mean</th>\n",
              "      <td>380.186092</td>\n",
              "      <td>383.493740</td>\n",
              "      <td>376.519309</td>\n",
              "      <td>380.072458</td>\n",
              "      <td>380.072458</td>\n",
              "      <td>8.038476e+06</td>\n",
              "    </tr>\n",
              "    <tr>\n",
              "      <th>std</th>\n",
              "      <td>223.818650</td>\n",
              "      <td>224.974534</td>\n",
              "      <td>222.473232</td>\n",
              "      <td>223.853780</td>\n",
              "      <td>223.853780</td>\n",
              "      <td>8.399521e+06</td>\n",
              "    </tr>\n",
              "    <tr>\n",
              "      <th>min</th>\n",
              "      <td>49.274517</td>\n",
              "      <td>50.541279</td>\n",
              "      <td>47.669952</td>\n",
              "      <td>49.681866</td>\n",
              "      <td>49.681866</td>\n",
              "      <td>7.900000e+03</td>\n",
              "    </tr>\n",
              "    <tr>\n",
              "      <th>25%</th>\n",
              "      <td>226.556473</td>\n",
              "      <td>228.394516</td>\n",
              "      <td>224.003082</td>\n",
              "      <td>226.407440</td>\n",
              "      <td>226.407440</td>\n",
              "      <td>2.584900e+06</td>\n",
              "    </tr>\n",
              "    <tr>\n",
              "      <th>50%</th>\n",
              "      <td>293.312286</td>\n",
              "      <td>295.433502</td>\n",
              "      <td>289.929291</td>\n",
              "      <td>293.029114</td>\n",
              "      <td>293.029114</td>\n",
              "      <td>5.281300e+06</td>\n",
              "    </tr>\n",
              "    <tr>\n",
              "      <th>75%</th>\n",
              "      <td>536.650024</td>\n",
              "      <td>540.000000</td>\n",
              "      <td>532.409973</td>\n",
              "      <td>536.690002</td>\n",
              "      <td>536.690002</td>\n",
              "      <td>1.065370e+07</td>\n",
              "    </tr>\n",
              "    <tr>\n",
              "      <th>max</th>\n",
              "      <td>992.000000</td>\n",
              "      <td>997.210022</td>\n",
              "      <td>989.000000</td>\n",
              "      <td>989.679993</td>\n",
              "      <td>989.679993</td>\n",
              "      <td>8.276810e+07</td>\n",
              "    </tr>\n",
              "  </tbody>\n",
              "</table>\n",
              "</div>"
            ],
            "text/plain": [
              "              Open         High  ...    Adj Close        Volume\n",
              "count  3313.000000  3313.000000  ...  3313.000000  3.313000e+03\n",
              "mean    380.186092   383.493740  ...   380.072458  8.038476e+06\n",
              "std     223.818650   224.974534  ...   223.853780  8.399521e+06\n",
              "min      49.274517    50.541279  ...    49.681866  7.900000e+03\n",
              "25%     226.556473   228.394516  ...   226.407440  2.584900e+06\n",
              "50%     293.312286   295.433502  ...   293.029114  5.281300e+06\n",
              "75%     536.650024   540.000000  ...   536.690002  1.065370e+07\n",
              "max     992.000000   997.210022  ...   989.679993  8.276810e+07\n",
              "\n",
              "[8 rows x 6 columns]"
            ]
          },
          "metadata": {
            "tags": []
          },
          "execution_count": 57
        }
      ]
    },
    {
      "cell_type": "code",
      "metadata": {
        "id": "lqvRt2BC5EVi",
        "colab_type": "code",
        "colab": {
          "base_uri": "https://localhost:8080/",
          "height": 170
        },
        "outputId": "810756fc-b500-4186-a294-17e3c19d782c"
      },
      "source": [
        "# We get descriptive statistics on a single column of our DataFrame\n",
        "Google_stock['Adj Close'].describe()"
      ],
      "execution_count": 58,
      "outputs": [
        {
          "output_type": "execute_result",
          "data": {
            "text/plain": [
              "count    3313.000000\n",
              "mean      380.072458\n",
              "std       223.853780\n",
              "min        49.681866\n",
              "25%       226.407440\n",
              "50%       293.029114\n",
              "75%       536.690002\n",
              "max       989.679993\n",
              "Name: Adj Close, dtype: float64"
            ]
          },
          "metadata": {
            "tags": []
          },
          "execution_count": 58
        }
      ]
    },
    {
      "cell_type": "code",
      "metadata": {
        "id": "vL4wfufv5KQd",
        "colab_type": "code",
        "colab": {
          "base_uri": "https://localhost:8080/",
          "height": 374
        },
        "outputId": "d927afdc-6b7e-4de3-e7bf-abcf68ab1513"
      },
      "source": [
        "# We print information about our DataFrame  \n",
        "print()\n",
        "print('Maximum values of each column:\\n', Google_stock.max())\n",
        "print()\n",
        "print('Minimum Close value:', Google_stock['Close'].min())\n",
        "print()\n",
        "print('Average value of each column:\\n', Google_stock.mean())"
      ],
      "execution_count": 59,
      "outputs": [
        {
          "output_type": "stream",
          "text": [
            "\n",
            "Maximum values of each column:\n",
            " Date         2017-10-13\n",
            "Open                992\n",
            "High             997.21\n",
            "Low                 989\n",
            "Close            989.68\n",
            "Adj Close        989.68\n",
            "Volume         82768100\n",
            "dtype: object\n",
            "\n",
            "Minimum Close value: 49.681866\n",
            "\n",
            "Average value of each column:\n",
            " Open         3.801861e+02\n",
            "High         3.834937e+02\n",
            "Low          3.765193e+02\n",
            "Close        3.800725e+02\n",
            "Adj Close    3.800725e+02\n",
            "Volume       8.038476e+06\n",
            "dtype: float64\n"
          ],
          "name": "stdout"
        }
      ]
    },
    {
      "cell_type": "code",
      "metadata": {
        "id": "XoB5NaFd5NvD",
        "colab_type": "code",
        "colab": {
          "base_uri": "https://localhost:8080/",
          "height": 235
        },
        "outputId": "b280868c-18b6-4930-ed23-65d7aac9afbf"
      },
      "source": [
        "# We display the correlation between columns\n",
        "Google_stock.corr()"
      ],
      "execution_count": 60,
      "outputs": [
        {
          "output_type": "execute_result",
          "data": {
            "text/html": [
              "<div>\n",
              "<style scoped>\n",
              "    .dataframe tbody tr th:only-of-type {\n",
              "        vertical-align: middle;\n",
              "    }\n",
              "\n",
              "    .dataframe tbody tr th {\n",
              "        vertical-align: top;\n",
              "    }\n",
              "\n",
              "    .dataframe thead th {\n",
              "        text-align: right;\n",
              "    }\n",
              "</style>\n",
              "<table border=\"1\" class=\"dataframe\">\n",
              "  <thead>\n",
              "    <tr style=\"text-align: right;\">\n",
              "      <th></th>\n",
              "      <th>Open</th>\n",
              "      <th>High</th>\n",
              "      <th>Low</th>\n",
              "      <th>Close</th>\n",
              "      <th>Adj Close</th>\n",
              "      <th>Volume</th>\n",
              "    </tr>\n",
              "  </thead>\n",
              "  <tbody>\n",
              "    <tr>\n",
              "      <th>Open</th>\n",
              "      <td>1.000000</td>\n",
              "      <td>0.999904</td>\n",
              "      <td>0.999845</td>\n",
              "      <td>0.999745</td>\n",
              "      <td>0.999745</td>\n",
              "      <td>-0.564258</td>\n",
              "    </tr>\n",
              "    <tr>\n",
              "      <th>High</th>\n",
              "      <td>0.999904</td>\n",
              "      <td>1.000000</td>\n",
              "      <td>0.999834</td>\n",
              "      <td>0.999868</td>\n",
              "      <td>0.999868</td>\n",
              "      <td>-0.562749</td>\n",
              "    </tr>\n",
              "    <tr>\n",
              "      <th>Low</th>\n",
              "      <td>0.999845</td>\n",
              "      <td>0.999834</td>\n",
              "      <td>1.000000</td>\n",
              "      <td>0.999899</td>\n",
              "      <td>0.999899</td>\n",
              "      <td>-0.567007</td>\n",
              "    </tr>\n",
              "    <tr>\n",
              "      <th>Close</th>\n",
              "      <td>0.999745</td>\n",
              "      <td>0.999868</td>\n",
              "      <td>0.999899</td>\n",
              "      <td>1.000000</td>\n",
              "      <td>1.000000</td>\n",
              "      <td>-0.564967</td>\n",
              "    </tr>\n",
              "    <tr>\n",
              "      <th>Adj Close</th>\n",
              "      <td>0.999745</td>\n",
              "      <td>0.999868</td>\n",
              "      <td>0.999899</td>\n",
              "      <td>1.000000</td>\n",
              "      <td>1.000000</td>\n",
              "      <td>-0.564967</td>\n",
              "    </tr>\n",
              "    <tr>\n",
              "      <th>Volume</th>\n",
              "      <td>-0.564258</td>\n",
              "      <td>-0.562749</td>\n",
              "      <td>-0.567007</td>\n",
              "      <td>-0.564967</td>\n",
              "      <td>-0.564967</td>\n",
              "      <td>1.000000</td>\n",
              "    </tr>\n",
              "  </tbody>\n",
              "</table>\n",
              "</div>"
            ],
            "text/plain": [
              "               Open      High       Low     Close  Adj Close    Volume\n",
              "Open       1.000000  0.999904  0.999845  0.999745   0.999745 -0.564258\n",
              "High       0.999904  1.000000  0.999834  0.999868   0.999868 -0.562749\n",
              "Low        0.999845  0.999834  1.000000  0.999899   0.999899 -0.567007\n",
              "Close      0.999745  0.999868  0.999899  1.000000   1.000000 -0.564967\n",
              "Adj Close  0.999745  0.999868  0.999899  1.000000   1.000000 -0.564967\n",
              "Volume    -0.564258 -0.562749 -0.567007 -0.564967  -0.564967  1.000000"
            ]
          },
          "metadata": {
            "tags": []
          },
          "execution_count": 60
        }
      ]
    },
    {
      "cell_type": "code",
      "metadata": {
        "id": "IsLr9X-l5Rur",
        "colab_type": "code",
        "colab": {}
      },
      "source": [
        ""
      ],
      "execution_count": 0,
      "outputs": []
    }
  ]
}