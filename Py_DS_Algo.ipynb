{
  "nbformat": 4,
  "nbformat_minor": 0,
  "metadata": {
    "colab": {
      "name": "Py_DS_Algo.ipynb",
      "provenance": [],
      "collapsed_sections": []
    },
    "kernelspec": {
      "name": "python3",
      "display_name": "Python 3"
    }
  },
  "cells": [
    {
      "cell_type": "markdown",
      "metadata": {
        "id": "NOgh1-agh1MM",
        "colab_type": "text"
      },
      "source": [
        "# data structures & algorithms"
      ]
    },
    {
      "cell_type": "markdown",
      "metadata": {
        "id": "RcK5yP2_iAzd",
        "colab_type": "text"
      },
      "source": [
        "\n",
        "\n",
        "1.   Unpacking a Sequence into Separate Variables\n",
        "\n"
      ]
    },
    {
      "cell_type": "code",
      "metadata": {
        "id": "LARXL6OfiHZa",
        "colab_type": "code",
        "colab": {}
      },
      "source": [
        "p = (4, 5)\n",
        "x, y = p"
      ],
      "execution_count": 0,
      "outputs": []
    },
    {
      "cell_type": "code",
      "metadata": {
        "id": "R2LEn6GHiVQM",
        "colab_type": "code",
        "colab": {
          "base_uri": "https://localhost:8080/",
          "height": 51
        },
        "outputId": "2e5c6b03-8f2d-458c-c0c3-a5980d900da1"
      },
      "source": [
        "print(x, y,sep=\"\\n\")"
      ],
      "execution_count": 6,
      "outputs": [
        {
          "output_type": "stream",
          "text": [
            "4\n",
            "5\n"
          ],
          "name": "stdout"
        }
      ]
    },
    {
      "cell_type": "code",
      "metadata": {
        "id": "aDvQwQxoik2z",
        "colab_type": "code",
        "colab": {}
      },
      "source": [
        "data = [ 'ACME', 50, 91.1, (2012, 12, 21) ]\n",
        "name, shares, price, date = data"
      ],
      "execution_count": 0,
      "outputs": []
    },
    {
      "cell_type": "code",
      "metadata": {
        "id": "bAAst7DiirQW",
        "colab_type": "code",
        "colab": {
          "base_uri": "https://localhost:8080/",
          "height": 51
        },
        "outputId": "27f41fa0-f76d-4625-cc82-73ee20e9652f"
      },
      "source": [
        "print(name,date,sep=\"\\n\")"
      ],
      "execution_count": 7,
      "outputs": [
        {
          "output_type": "stream",
          "text": [
            "ACME\n",
            "(2012, 12, 21)\n"
          ],
          "name": "stdout"
        }
      ]
    },
    {
      "cell_type": "code",
      "metadata": {
        "id": "maGiDOg9iwv9",
        "colab_type": "code",
        "colab": {}
      },
      "source": [
        "name, shares, price, (year, mon, day) = data"
      ],
      "execution_count": 0,
      "outputs": []
    },
    {
      "cell_type": "code",
      "metadata": {
        "id": "8xI2X7XGjR4-",
        "colab_type": "code",
        "colab": {
          "base_uri": "https://localhost:8080/",
          "height": 85
        },
        "outputId": "ebaa2ffe-75c6-48e6-ad2f-e3c171624290"
      },
      "source": [
        "print(name,year, mon, day, sep=\"\\n\")"
      ],
      "execution_count": 9,
      "outputs": [
        {
          "output_type": "stream",
          "text": [
            "ACME\n",
            "2012\n",
            "12\n",
            "21\n"
          ],
          "name": "stdout"
        }
      ]
    },
    {
      "cell_type": "code",
      "metadata": {
        "id": "ApwkKHY3jjPb",
        "colab_type": "code",
        "colab": {}
      },
      "source": [
        "def drop_first_last(grades):\n",
        "    first, *middle, last = grades\n",
        "    return avg(middle)"
      ],
      "execution_count": 0,
      "outputs": []
    },
    {
      "cell_type": "code",
      "metadata": {
        "id": "bxwVgPJwjtwp",
        "colab_type": "code",
        "colab": {
          "base_uri": "https://localhost:8080/",
          "height": 68
        },
        "outputId": "520f00a6-6301-4f2f-f632-eb3d7fdb12e1"
      },
      "source": [
        "record = ('Dave', 'dave@example.com', '773-555-1212', '847-555-1212')\n",
        "name, email, *phone_numbers = record\n",
        "\n",
        "print(name, email, phone_numbers,sep=\"\\n\")"
      ],
      "execution_count": 11,
      "outputs": [
        {
          "output_type": "stream",
          "text": [
            "Dave\n",
            "dave@example.com\n",
            "['773-555-1212', '847-555-1212']\n"
          ],
          "name": "stdout"
        }
      ]
    },
    {
      "cell_type": "code",
      "metadata": {
        "id": "B1n8wlz_kHx0",
        "colab_type": "code",
        "colab": {
          "base_uri": "https://localhost:8080/",
          "height": 68
        },
        "outputId": "4e77f97c-08c5-4048-eb30-e1a7d56e1d40"
      },
      "source": [
        "records = [\n",
        "     ('foo', 1, 2),\n",
        "     ('bar', 'hello'),\n",
        "     ('foo', 3, 4),\n",
        "]\n",
        "\n",
        "def do_foo(x, y):\n",
        "    print('foo', x, y)\n",
        "\n",
        "def do_bar(s):\n",
        "    print('bar', s)\n",
        "\n",
        "for tag, *args in records:\n",
        "    if tag == 'foo':\n",
        "        do_foo(*args)\n",
        "    elif tag == 'bar':\n",
        "        do_bar(*args)"
      ],
      "execution_count": 12,
      "outputs": [
        {
          "output_type": "stream",
          "text": [
            "foo 1 2\n",
            "bar hello\n",
            "foo 3 4\n"
          ],
          "name": "stdout"
        }
      ]
    },
    {
      "cell_type": "code",
      "metadata": {
        "id": "7cU09EBBkWyi",
        "colab_type": "code",
        "colab": {}
      },
      "source": [
        "items = [1, 10, 7, 4, 5, 9]\n",
        "head, *tail = items"
      ],
      "execution_count": 0,
      "outputs": []
    },
    {
      "cell_type": "code",
      "metadata": {
        "id": "yCG1_KeFkuME",
        "colab_type": "code",
        "colab": {
          "base_uri": "https://localhost:8080/",
          "height": 51
        },
        "outputId": "70b389dd-349e-4a2f-b59e-1b2793d55356"
      },
      "source": [
        "print(head, tail, sep=\"\\n\")"
      ],
      "execution_count": 14,
      "outputs": [
        {
          "output_type": "stream",
          "text": [
            "1\n",
            "[10, 7, 4, 5, 9]\n"
          ],
          "name": "stdout"
        }
      ]
    },
    {
      "cell_type": "code",
      "metadata": {
        "id": "0iCOx0rmk0y0",
        "colab_type": "code",
        "colab": {
          "base_uri": "https://localhost:8080/",
          "height": 34
        },
        "outputId": "f735c865-05d6-4e94-cdc5-7689334dc764"
      },
      "source": [
        "def sum(items):\n",
        "     head, *tail = items\n",
        "     return head + sum(tail) if tail else head\n",
        "\n",
        "sum(items)"
      ],
      "execution_count": 15,
      "outputs": [
        {
          "output_type": "execute_result",
          "data": {
            "text/plain": [
              "36"
            ]
          },
          "metadata": {
            "tags": []
          },
          "execution_count": 15
        }
      ]
    },
    {
      "cell_type": "code",
      "metadata": {
        "id": "EipQ3Npkk5sb",
        "colab_type": "code",
        "colab": {}
      },
      "source": [
        ""
      ],
      "execution_count": 0,
      "outputs": []
    },
    {
      "cell_type": "markdown",
      "metadata": {
        "id": "CQ9ARS1-k_ZA",
        "colab_type": "text"
      },
      "source": [
        "\n",
        "\n",
        "2.   collections.deque\n",
        "\n",
        "\n"
      ]
    },
    {
      "cell_type": "markdown",
      "metadata": {
        "id": "54BWq1rClXRV",
        "colab_type": "text"
      },
      "source": [
        "Using deque(maxlen=N) creates a fixed-sized queue. When new items are added and the queue is full, the oldest item is automatically removed. For example:"
      ]
    },
    {
      "cell_type": "code",
      "metadata": {
        "id": "5MQ4kraalczx",
        "colab_type": "code",
        "colab": {}
      },
      "source": [
        "from collections import deque\n",
        "\n",
        "q = deque(maxlen=3)\n",
        "q.append(1)\n",
        "q.append(2)\n",
        "q.append(3)"
      ],
      "execution_count": 0,
      "outputs": []
    },
    {
      "cell_type": "code",
      "metadata": {
        "id": "lO1HQgyVlgnB",
        "colab_type": "code",
        "colab": {
          "base_uri": "https://localhost:8080/",
          "height": 34
        },
        "outputId": "3fe283da-51ec-47fe-d786-bdc6614b70fe"
      },
      "source": [
        "q"
      ],
      "execution_count": 17,
      "outputs": [
        {
          "output_type": "execute_result",
          "data": {
            "text/plain": [
              "deque([1, 2, 3])"
            ]
          },
          "metadata": {
            "tags": []
          },
          "execution_count": 17
        }
      ]
    },
    {
      "cell_type": "code",
      "metadata": {
        "id": "oz0EK-Q-ljoM",
        "colab_type": "code",
        "colab": {}
      },
      "source": [
        "q.append(4)"
      ],
      "execution_count": 0,
      "outputs": []
    },
    {
      "cell_type": "code",
      "metadata": {
        "id": "s0eHzSfJlkXx",
        "colab_type": "code",
        "colab": {
          "base_uri": "https://localhost:8080/",
          "height": 34
        },
        "outputId": "c214f1f0-e439-4868-de73-2775f65c47a4"
      },
      "source": [
        "q"
      ],
      "execution_count": 19,
      "outputs": [
        {
          "output_type": "execute_result",
          "data": {
            "text/plain": [
              "deque([2, 3, 4])"
            ]
          },
          "metadata": {
            "tags": []
          },
          "execution_count": 19
        }
      ]
    },
    {
      "cell_type": "code",
      "metadata": {
        "id": "KmS0VqOOlkwV",
        "colab_type": "code",
        "colab": {
          "base_uri": "https://localhost:8080/",
          "height": 34
        },
        "outputId": "404dcf21-2a8a-467f-fa60-af8312b8ca3a"
      },
      "source": [
        "q.append(5)\n",
        "q"
      ],
      "execution_count": 20,
      "outputs": [
        {
          "output_type": "execute_result",
          "data": {
            "text/plain": [
              "deque([3, 4, 5])"
            ]
          },
          "metadata": {
            "tags": []
          },
          "execution_count": 20
        }
      ]
    },
    {
      "cell_type": "code",
      "metadata": {
        "id": "0HbzjhsFlpMF",
        "colab_type": "code",
        "colab": {
          "base_uri": "https://localhost:8080/",
          "height": 34
        },
        "outputId": "f5ea6762-bab6-47cc-c50e-b6c502be1fda"
      },
      "source": [
        "#operations\n",
        "q = deque()\n",
        "q.append(1)\n",
        "q.append(2)\n",
        "q.append(3)\n",
        "q"
      ],
      "execution_count": 22,
      "outputs": [
        {
          "output_type": "execute_result",
          "data": {
            "text/plain": [
              "deque([1, 2, 3])"
            ]
          },
          "metadata": {
            "tags": []
          },
          "execution_count": 22
        }
      ]
    },
    {
      "cell_type": "code",
      "metadata": {
        "id": "a4YnWgsclz_F",
        "colab_type": "code",
        "colab": {
          "base_uri": "https://localhost:8080/",
          "height": 34
        },
        "outputId": "7cdc75c3-41bd-41a4-d4f4-1cf8bcdd833b"
      },
      "source": [
        "q.appendleft(4)\n",
        "q"
      ],
      "execution_count": 23,
      "outputs": [
        {
          "output_type": "execute_result",
          "data": {
            "text/plain": [
              "deque([4, 1, 2, 3])"
            ]
          },
          "metadata": {
            "tags": []
          },
          "execution_count": 23
        }
      ]
    },
    {
      "cell_type": "code",
      "metadata": {
        "id": "i9BvOvYyl3y1",
        "colab_type": "code",
        "colab": {
          "base_uri": "https://localhost:8080/",
          "height": 34
        },
        "outputId": "523f3616-5b64-4c46-b733-1c495d7f5a39"
      },
      "source": [
        "q.pop()\n",
        "q"
      ],
      "execution_count": 24,
      "outputs": [
        {
          "output_type": "execute_result",
          "data": {
            "text/plain": [
              "deque([4, 1, 2])"
            ]
          },
          "metadata": {
            "tags": []
          },
          "execution_count": 24
        }
      ]
    },
    {
      "cell_type": "code",
      "metadata": {
        "id": "eE7qDu5gl7KJ",
        "colab_type": "code",
        "colab": {
          "base_uri": "https://localhost:8080/",
          "height": 34
        },
        "outputId": "5e17d144-ec5c-4cc5-9baa-b9a0a1899b34"
      },
      "source": [
        "q.popleft()\n",
        "q"
      ],
      "execution_count": 25,
      "outputs": [
        {
          "output_type": "execute_result",
          "data": {
            "text/plain": [
              "deque([1, 2])"
            ]
          },
          "metadata": {
            "tags": []
          },
          "execution_count": 25
        }
      ]
    },
    {
      "cell_type": "markdown",
      "metadata": {
        "id": "cJF__r3WmFwy",
        "colab_type": "text"
      },
      "source": [
        "\n",
        "\n",
        "3.   heapq module\n",
        "\n"
      ]
    },
    {
      "cell_type": "code",
      "metadata": {
        "id": "KOJqAM2cmLCT",
        "colab_type": "code",
        "colab": {
          "base_uri": "https://localhost:8080/",
          "height": 51
        },
        "outputId": "fcdb6422-d5f4-487b-8450-8609793f7d9c"
      },
      "source": [
        "import heapq\n",
        "\n",
        "nums = [1, 8, 2, 23, 7, -4, 18, 23, 42, 37, 2]\n",
        "\n",
        "print(heapq.nlargest(3, nums))\n",
        "print(heapq.nsmallest(3, nums))"
      ],
      "execution_count": 26,
      "outputs": [
        {
          "output_type": "stream",
          "text": [
            "[42, 37, 23]\n",
            "[-4, 1, 2]\n"
          ],
          "name": "stdout"
        }
      ]
    },
    {
      "cell_type": "code",
      "metadata": {
        "id": "w0SQsMuYmP5U",
        "colab_type": "code",
        "colab": {}
      },
      "source": [
        "portfolio = [\n",
        "   {'name': 'IBM', 'shares': 100, 'price': 91.1},\n",
        "   {'name': 'AAPL', 'shares': 50, 'price': 543.22},\n",
        "   {'name': 'FB', 'shares': 200, 'price': 21.09},\n",
        "   {'name': 'HPQ', 'shares': 35, 'price': 31.75},\n",
        "   {'name': 'YHOO', 'shares': 45, 'price': 16.35},\n",
        "   {'name': 'ACME', 'shares': 75, 'price': 115.65}\n",
        "]\n",
        "\n",
        "cheap = heapq.nsmallest(3, portfolio, key=lambda s: s['price'])\n",
        "expensive = heapq.nlargest(3, portfolio, key=lambda s: s['price'])"
      ],
      "execution_count": 0,
      "outputs": []
    },
    {
      "cell_type": "code",
      "metadata": {
        "id": "YPUyrLJCq3iJ",
        "colab_type": "code",
        "colab": {
          "base_uri": "https://localhost:8080/",
          "height": 51
        },
        "outputId": "85861f46-9790-472a-ef38-72b807fbfde8"
      },
      "source": [
        "print(cheap)\n",
        "print(expensive)"
      ],
      "execution_count": 28,
      "outputs": [
        {
          "output_type": "stream",
          "text": [
            "[{'name': 'YHOO', 'shares': 45, 'price': 16.35}, {'name': 'FB', 'shares': 200, 'price': 21.09}, {'name': 'HPQ', 'shares': 35, 'price': 31.75}]\n",
            "[{'name': 'AAPL', 'shares': 50, 'price': 543.22}, {'name': 'ACME', 'shares': 75, 'price': 115.65}, {'name': 'IBM', 'shares': 100, 'price': 91.1}]\n"
          ],
          "name": "stdout"
        }
      ]
    },
    {
      "cell_type": "code",
      "metadata": {
        "id": "MnUFy5bOrSe2",
        "colab_type": "code",
        "colab": {
          "base_uri": "https://localhost:8080/",
          "height": 34
        },
        "outputId": "512dfd06-cec5-4b05-eb95-5c864cf5d624"
      },
      "source": [
        "nums = [1, 8, 2, 23, 7, -4, 18, 23, 42, 37, 2]\n",
        "\n",
        "import heapq\n",
        "\n",
        "heap = list(nums)\n",
        "heapq.heapify(heap)\n",
        "heap"
      ],
      "execution_count": 29,
      "outputs": [
        {
          "output_type": "execute_result",
          "data": {
            "text/plain": [
              "[-4, 2, 1, 23, 7, 2, 18, 23, 42, 37, 8]"
            ]
          },
          "metadata": {
            "tags": []
          },
          "execution_count": 29
        }
      ]
    },
    {
      "cell_type": "code",
      "metadata": {
        "id": "y6sNgB20rUCG",
        "colab_type": "code",
        "colab": {
          "base_uri": "https://localhost:8080/",
          "height": 34
        },
        "outputId": "2223eeba-84ba-459b-91bf-c38cba028893"
      },
      "source": [
        "\"\"\"heapq.heappop() method, which pops off the first item and \n",
        "replaces it with the next smallest item (an operation that requires O(log N) \n",
        "operations where N is the size of the heap).\"\"\"\n",
        "heapq.heappop(heap)"
      ],
      "execution_count": 30,
      "outputs": [
        {
          "output_type": "execute_result",
          "data": {
            "text/plain": [
              "-4"
            ]
          },
          "metadata": {
            "tags": []
          },
          "execution_count": 30
        }
      ]
    },
    {
      "cell_type": "code",
      "metadata": {
        "id": "nyvFXOUcrrGc",
        "colab_type": "code",
        "colab": {
          "base_uri": "https://localhost:8080/",
          "height": 34
        },
        "outputId": "20e6610a-2fd3-4c3d-e9e4-3d2bade165ca"
      },
      "source": [
        "heapq.heappop(heap)"
      ],
      "execution_count": 31,
      "outputs": [
        {
          "output_type": "execute_result",
          "data": {
            "text/plain": [
              "1"
            ]
          },
          "metadata": {
            "tags": []
          },
          "execution_count": 31
        }
      ]
    },
    {
      "cell_type": "markdown",
      "metadata": {
        "id": "fjign2oyu_q5",
        "colab_type": "text"
      },
      "source": [
        "**Mapping Keys to Multiple Values in a Dictionary**\n",
        "`defaultdict in the collections module. A feature of defaultdict is that it automatically initializes the first value so you can simply focus on adding items.`\n",
        "\n",
        "\n"
      ]
    },
    {
      "cell_type": "code",
      "metadata": {
        "id": "szvwoSEFvCH_",
        "colab_type": "code",
        "colab": {
          "base_uri": "https://localhost:8080/",
          "height": 34
        },
        "outputId": "deff4e1f-b6d4-423a-8793-54bdd41aecf9"
      },
      "source": [
        "from collections import defaultdict\n",
        "\n",
        "d = defaultdict(list)\n",
        "d['a'].append(1)\n",
        "d['a'].append(2)\n",
        "d['b'].append(4)\n",
        "d"
      ],
      "execution_count": 2,
      "outputs": [
        {
          "output_type": "execute_result",
          "data": {
            "text/plain": [
              "defaultdict(list, {'a': [1, 2], 'b': [4]})"
            ]
          },
          "metadata": {
            "tags": []
          },
          "execution_count": 2
        }
      ]
    },
    {
      "cell_type": "code",
      "metadata": {
        "id": "NKCXVz3GwDD5",
        "colab_type": "code",
        "colab": {
          "base_uri": "https://localhost:8080/",
          "height": 34
        },
        "outputId": "dbe399a2-c821-4507-a974-60852f18cce4"
      },
      "source": [
        "d['a'][0]"
      ],
      "execution_count": 4,
      "outputs": [
        {
          "output_type": "execute_result",
          "data": {
            "text/plain": [
              "1"
            ]
          },
          "metadata": {
            "tags": []
          },
          "execution_count": 4
        }
      ]
    },
    {
      "cell_type": "code",
      "metadata": {
        "id": "wun85jY1xoWa",
        "colab_type": "code",
        "colab": {
          "base_uri": "https://localhost:8080/",
          "height": 34
        },
        "outputId": "b0f8b73c-a211-416d-f076-882aba6e65ea"
      },
      "source": [
        "d = defaultdict(set)\n",
        "d['a'].add(1)\n",
        "d['a'].add(2)\n",
        "d['a'].add(2)\n",
        "d['b'].add(4)\n",
        "d"
      ],
      "execution_count": 6,
      "outputs": [
        {
          "output_type": "execute_result",
          "data": {
            "text/plain": [
              "defaultdict(set, {'a': {1, 2}, 'b': {4}})"
            ]
          },
          "metadata": {
            "tags": []
          },
          "execution_count": 6
        }
      ]
    },
    {
      "cell_type": "code",
      "metadata": {
        "id": "XCVTNSEwySrF",
        "colab_type": "code",
        "colab": {}
      },
      "source": [
        ""
      ],
      "execution_count": 0,
      "outputs": []
    },
    {
      "cell_type": "markdown",
      "metadata": {
        "id": "3C0AB7fcyrqT",
        "colab_type": "text"
      },
      "source": [
        "**OrderedDict** from the collections module. It exactly preserves the original insertion order of data when iterating. "
      ]
    },
    {
      "cell_type": "code",
      "metadata": {
        "id": "5VjFvWo3ywLR",
        "colab_type": "code",
        "colab": {
          "base_uri": "https://localhost:8080/",
          "height": 85
        },
        "outputId": "35042d7e-6e66-4cde-d4a0-8c09102ccb71"
      },
      "source": [
        "from collections import OrderedDict\n",
        "\n",
        "d = OrderedDict()\n",
        "d['foo'] = 1\n",
        "d['bar'] = 2\n",
        "d['spam'] = 3\n",
        "d['grok'] = 4\n",
        "\n",
        "# Outputs \"foo 1\", \"bar 2\", \"spam 3\", \"grok 4\"\n",
        "for key in d:\n",
        "    print(key, d[key])\n"
      ],
      "execution_count": 7,
      "outputs": [
        {
          "output_type": "stream",
          "text": [
            "foo 1\n",
            "bar 2\n",
            "spam 3\n",
            "grok 4\n"
          ],
          "name": "stdout"
        }
      ]
    },
    {
      "cell_type": "code",
      "metadata": {
        "id": "vJ29SJuEy5ka",
        "colab_type": "code",
        "colab": {
          "base_uri": "https://localhost:8080/",
          "height": 34
        },
        "outputId": "b0e5c639-ca7c-4919-f9b8-ddaa16576c0d"
      },
      "source": [
        "import json\n",
        "\n",
        "json.dumps(d)"
      ],
      "execution_count": 10,
      "outputs": [
        {
          "output_type": "execute_result",
          "data": {
            "text/plain": [
              "'{\"foo\": 1, \"bar\": 2, \"spam\": 3, \"grok\": 4}'"
            ]
          },
          "metadata": {
            "tags": []
          },
          "execution_count": 10
        }
      ]
    },
    {
      "cell_type": "code",
      "metadata": {
        "id": "iwZT59FVzYS_",
        "colab_type": "code",
        "colab": {}
      },
      "source": [
        ""
      ],
      "execution_count": 0,
      "outputs": []
    },
    {
      "cell_type": "markdown",
      "metadata": {
        "id": "HkGYo3Fy0YBE",
        "colab_type": "text"
      },
      "source": [
        "**Determining the Most Frequently Occurring Items in a Sequence**\n",
        "collections.Counter"
      ]
    },
    {
      "cell_type": "code",
      "metadata": {
        "id": "yEIt37UB0foV",
        "colab_type": "code",
        "colab": {
          "base_uri": "https://localhost:8080/",
          "height": 34
        },
        "outputId": "26336459-843f-428c-bc44-de10c728407e"
      },
      "source": [
        "words = [\n",
        "   'look', 'into', 'my', 'eyes', 'look', 'into', 'my', 'eyes',\n",
        "   'the', 'eyes', 'the', 'eyes', 'the', 'eyes', 'not', 'around', 'the',\n",
        "   'eyes', \"don't\", 'look', 'around', 'the', 'eyes', 'look', 'into',\n",
        "   'my', 'eyes', \"you're\", 'under'\n",
        "]\n",
        "\n",
        "from collections import Counter\n",
        "word_counts = Counter(words)\n",
        "top_three = word_counts.most_common(3)\n",
        "print(top_three)\n",
        "# Outputs [('eyes', 8), ('the', 5), ('look', 4)]"
      ],
      "execution_count": 12,
      "outputs": [
        {
          "output_type": "stream",
          "text": [
            "[('eyes', 8), ('the', 5), ('look', 4)]\n"
          ],
          "name": "stdout"
        }
      ]
    },
    {
      "cell_type": "code",
      "metadata": {
        "id": "MSTXXj-P0paJ",
        "colab_type": "code",
        "colab": {
          "base_uri": "https://localhost:8080/",
          "height": 272
        },
        "outputId": "95c99eee-2960-4cc8-df4d-efc74954d805"
      },
      "source": [
        "morewords = ['why','are','you','not','looking','in','my','eyes']\n",
        "a = Counter(words)\n",
        "b = Counter(morewords)\n",
        "a+b"
      ],
      "execution_count": 13,
      "outputs": [
        {
          "output_type": "execute_result",
          "data": {
            "text/plain": [
              "Counter({'are': 1,\n",
              "         'around': 2,\n",
              "         \"don't\": 1,\n",
              "         'eyes': 9,\n",
              "         'in': 1,\n",
              "         'into': 3,\n",
              "         'look': 4,\n",
              "         'looking': 1,\n",
              "         'my': 4,\n",
              "         'not': 2,\n",
              "         'the': 5,\n",
              "         'under': 1,\n",
              "         'why': 1,\n",
              "         'you': 1,\n",
              "         \"you're\": 1})"
            ]
          },
          "metadata": {
            "tags": []
          },
          "execution_count": 13
        }
      ]
    },
    {
      "cell_type": "code",
      "metadata": {
        "id": "nkZmHBNF1Fgp",
        "colab_type": "code",
        "colab": {}
      },
      "source": [
        ""
      ],
      "execution_count": 0,
      "outputs": []
    },
    {
      "cell_type": "markdown",
      "metadata": {
        "id": "pcf9mYp21f0v",
        "colab_type": "text"
      },
      "source": [
        "**Grouping Records Together Based on a Field**\n",
        "itertools.groupby()"
      ]
    },
    {
      "cell_type": "code",
      "metadata": {
        "id": "CFpFzrYf1mV2",
        "colab_type": "code",
        "colab": {}
      },
      "source": [
        "rows = [\n",
        "    {'address': '5412 N CLARK', 'date': '07/01/2012'},\n",
        "    {'address': '5148 N CLARK', 'date': '07/04/2012'},\n",
        "    {'address': '5800 E 58TH', 'date': '07/02/2012'},\n",
        "    {'address': '2122 N CLARK', 'date': '07/03/2012'},\n",
        "    {'address': '5645 N RAVENSWOOD', 'date': '07/02/2012'},\n",
        "    {'address': '1060 W ADDISON', 'date': '07/02/2012'},\n",
        "    {'address': '4801 N BROADWAY', 'date': '07/01/2012'},\n",
        "    {'address': '1039 W GRANVILLE', 'date': '07/04/2012'},\n",
        "]"
      ],
      "execution_count": 0,
      "outputs": []
    },
    {
      "cell_type": "code",
      "metadata": {
        "id": "LZnChFz51smT",
        "colab_type": "code",
        "colab": {
          "base_uri": "https://localhost:8080/",
          "height": 221
        },
        "outputId": "10276f95-7945-4140-84f7-e7535b956ffe"
      },
      "source": [
        "from operator import itemgetter\n",
        "from itertools import groupby\n",
        "\n",
        "# Sort by the desired field first\n",
        "rows.sort(key=itemgetter('date'))\n",
        "\n",
        "# Iterate in groups\n",
        "for date, items in groupby(rows, key=itemgetter('date')):\n",
        "    print(date)\n",
        "    for i in items:\n",
        "        print('    ', i)"
      ],
      "execution_count": 15,
      "outputs": [
        {
          "output_type": "stream",
          "text": [
            "07/01/2012\n",
            "     {'address': '5412 N CLARK', 'date': '07/01/2012'}\n",
            "     {'address': '4801 N BROADWAY', 'date': '07/01/2012'}\n",
            "07/02/2012\n",
            "     {'address': '5800 E 58TH', 'date': '07/02/2012'}\n",
            "     {'address': '5645 N RAVENSWOOD', 'date': '07/02/2012'}\n",
            "     {'address': '1060 W ADDISON', 'date': '07/02/2012'}\n",
            "07/03/2012\n",
            "     {'address': '2122 N CLARK', 'date': '07/03/2012'}\n",
            "07/04/2012\n",
            "     {'address': '5148 N CLARK', 'date': '07/04/2012'}\n",
            "     {'address': '1039 W GRANVILLE', 'date': '07/04/2012'}\n"
          ],
          "name": "stdout"
        }
      ]
    },
    {
      "cell_type": "code",
      "metadata": {
        "id": "HKjsuGeY1xqP",
        "colab_type": "code",
        "colab": {
          "base_uri": "https://localhost:8080/",
          "height": 34
        },
        "outputId": "4a1d08fb-abc1-43e4-995f-eee3d25c852f"
      },
      "source": [
        "addresses = [\n",
        "    '5412 N CLARK',\n",
        "    '5148 N CLARK',\n",
        "    '5800 E 58TH',\n",
        "    '2122 N CLARK',\n",
        "    '5645 N RAVENSWOOD',\n",
        "    '1060 W ADDISON',\n",
        "    '4801 N BROADWAY',\n",
        "    '1039 W GRANVILLE',\n",
        "]\n",
        "\n",
        "counts = [ 0, 3, 10, 4, 1, 7, 6, 1]\n",
        "from itertools import compress\n",
        "more5 = [n > 5 for n in counts]\n",
        "more5   # [False, False, True, False, False, True, True, False]\n",
        "\n",
        "list(compress(addresses, more5))"
      ],
      "execution_count": 16,
      "outputs": [
        {
          "output_type": "execute_result",
          "data": {
            "text/plain": [
              "['5800 E 58TH', '1060 W ADDISON', '4801 N BROADWAY']"
            ]
          },
          "metadata": {
            "tags": []
          },
          "execution_count": 16
        }
      ]
    },
    {
      "cell_type": "code",
      "metadata": {
        "id": "41jB-sGm2Y0s",
        "colab_type": "code",
        "colab": {}
      },
      "source": [
        ""
      ],
      "execution_count": 0,
      "outputs": []
    },
    {
      "cell_type": "markdown",
      "metadata": {
        "id": "A5TXREbX2rx-",
        "colab_type": "text"
      },
      "source": [
        "collections.namedtuple() provides these benefits, while adding minimal overhead over using a normal tuple object. collections.namedtuple() is actually a factory method that returns a subclass of the standard Python tuple type."
      ]
    },
    {
      "cell_type": "code",
      "metadata": {
        "id": "MiDvRabm2tGU",
        "colab_type": "code",
        "colab": {
          "base_uri": "https://localhost:8080/",
          "height": 34
        },
        "outputId": "d76d1a9f-ed2b-4c15-9063-a9c81aed5e86"
      },
      "source": [
        "from collections import namedtuple\n",
        "Subscriber = namedtuple('Subscriber', ['addr', 'joined'])\n",
        "sub = Subscriber('jonesy@example.com', '2012-10-19')\n",
        "sub  # Subscriber(addr='jonesy@example.com', joined='2012-10-19')"
      ],
      "execution_count": 18,
      "outputs": [
        {
          "output_type": "execute_result",
          "data": {
            "text/plain": [
              "Subscriber(addr='jonesy@example.com', joined='2012-10-19')"
            ]
          },
          "metadata": {
            "tags": []
          },
          "execution_count": 18
        }
      ]
    },
    {
      "cell_type": "code",
      "metadata": {
        "id": "2g1ZUewB2zsH",
        "colab_type": "code",
        "colab": {}
      },
      "source": [
        ""
      ],
      "execution_count": 0,
      "outputs": []
    },
    {
      "cell_type": "markdown",
      "metadata": {
        "id": "eFLtJhyW3NlB",
        "colab_type": "text"
      },
      "source": [
        "Combining Multiple Mappings into a Single Mapping"
      ]
    },
    {
      "cell_type": "code",
      "metadata": {
        "id": "BmLnZgRc3OgH",
        "colab_type": "code",
        "colab": {}
      },
      "source": [
        "a = {'x': 1, 'z': 3 }\n",
        "b = {'y': 2, 'z': 4 }"
      ],
      "execution_count": 0,
      "outputs": []
    },
    {
      "cell_type": "code",
      "metadata": {
        "id": "oJAePvJ_3RU8",
        "colab_type": "code",
        "colab": {
          "base_uri": "https://localhost:8080/",
          "height": 68
        },
        "outputId": "2786b97f-1255-4af2-e98d-1093ebbbb8aa"
      },
      "source": [
        "from collections import ChainMap\n",
        "c = ChainMap(a,b)\n",
        "print(c['x'])      # Outputs 1  (from a)\n",
        "print(c['y'])      # Outputs 2  (from b)\n",
        "print(c['z'])      # Outputs 3  (from a)"
      ],
      "execution_count": 20,
      "outputs": [
        {
          "output_type": "stream",
          "text": [
            "1\n",
            "2\n",
            "3\n"
          ],
          "name": "stdout"
        }
      ]
    },
    {
      "cell_type": "code",
      "metadata": {
        "id": "hKU6x_fB3V6j",
        "colab_type": "code",
        "colab": {
          "base_uri": "https://localhost:8080/",
          "height": 34
        },
        "outputId": "ea27e00a-2bbf-4a9e-ef37-c165b617d107"
      },
      "source": [
        "values = ChainMap()\n",
        "values['x'] = 1\n",
        "\n",
        "# Add a new mapping\n",
        "values = values.new_child()\n",
        "values['x'] = 2\n",
        "\n",
        "# Add a new mapping\n",
        "values = values.new_child()\n",
        "values['x'] = 3\n",
        "values\n",
        "ChainMap({'x': 3}, {'x': 2}, {'x': 1})\n",
        "values['x']  # 3\n",
        "\n",
        "# Discard last mapping\n",
        "values = values.parents\n",
        "values['x']  # 2\n",
        "\n",
        "# Discard last mapping\n",
        "values = values.parents\n",
        "values['x']  # 1\n",
        "\n",
        "values\n",
        "ChainMap({'x': 1})"
      ],
      "execution_count": 21,
      "outputs": [
        {
          "output_type": "execute_result",
          "data": {
            "text/plain": [
              "ChainMap({'x': 1})"
            ]
          },
          "metadata": {
            "tags": []
          },
          "execution_count": 21
        }
      ]
    },
    {
      "cell_type": "code",
      "metadata": {
        "id": "S-VqBmSy3hwB",
        "colab_type": "code",
        "colab": {}
      },
      "source": [
        ""
      ],
      "execution_count": 0,
      "outputs": []
    }
  ]
}