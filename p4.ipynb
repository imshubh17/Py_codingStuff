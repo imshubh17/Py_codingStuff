{
 "cells": [
  {
   "cell_type": "markdown",
   "metadata": {},
   "source": [
    "# file handling"
   ]
  },
  {
   "cell_type": "code",
   "execution_count": 3,
   "metadata": {},
   "outputs": [],
   "source": [
    "f=open(\"root.txt\",\"r\")\n",
    "\n",
    "#f.close()"
   ]
  },
  {
   "cell_type": "code",
   "execution_count": 85,
   "metadata": {},
   "outputs": [],
   "source": [
    "with open(\"n2.txt\",\"w\") as f1:\n",
    "    f1.write(\"14/01/2020 16/01/2020\")\n",
    "    \n",
    "    f1.close()"
   ]
  },
  {
   "cell_type": "code",
   "execution_count": 4,
   "metadata": {},
   "outputs": [],
   "source": [
    "with open(\"n2.txt\",\"r\") as f1:\n",
    "    a=f1.read()\n",
    "    f1.close()\n"
   ]
  },
  {
   "cell_type": "code",
   "execution_count": 7,
   "metadata": {},
   "outputs": [],
   "source": [
    "b=a.split()"
   ]
  },
  {
   "cell_type": "code",
   "execution_count": 8,
   "metadata": {},
   "outputs": [
    {
     "data": {
      "text/plain": [
       "['14/01/2020', '16/01/2020']"
      ]
     },
     "execution_count": 8,
     "metadata": {},
     "output_type": "execute_result"
    }
   ],
   "source": [
    "b"
   ]
  },
  {
   "cell_type": "code",
   "execution_count": 11,
   "metadata": {},
   "outputs": [],
   "source": [
    "s=b[0]\n",
    "e=b[1]"
   ]
  },
  {
   "cell_type": "code",
   "execution_count": 13,
   "metadata": {},
   "outputs": [],
   "source": [
    "sd,sm,sy=s.split(\"/\")"
   ]
  },
  {
   "cell_type": "code",
   "execution_count": 12,
   "metadata": {},
   "outputs": [],
   "source": [
    "ed,em,ey=e.split(\"/\")"
   ]
  },
  {
   "cell_type": "code",
   "execution_count": 62,
   "metadata": {},
   "outputs": [],
   "source": [
    "import numpy as np\n",
    "import datetime as dt\n",
    "\n"
   ]
  },
  {
   "cell_type": "code",
   "execution_count": 63,
   "metadata": {},
   "outputs": [],
   "source": [
    "validcheck=dt.date(2019,12,30)"
   ]
  },
  {
   "cell_type": "code",
   "execution_count": 64,
   "metadata": {},
   "outputs": [],
   "source": [
    "def workdaycount(startdate,enddate):\n",
    "    if startdate <= validcheck:\n",
    "        return \"invalid\"\n",
    "    if startdate == enddate:\n",
    "        return int(startdate.weekday() < 5)\n",
    "    elif (enddate - startdate).days == 1 and enddate.weekday() == 6: # Saturday and Sunday same weekend\n",
    "        return 0\n",
    "    first_week_workdays = min(startdate.weekday(), 4) + 1\n",
    "    last_week_workdays = min(enddate.weekday(), 4) + 1\n",
    "    workweeks = int(enddate.strftime('%W')) - int(startdate.strftime('%W'))\n",
    "    return (5 * workweeks)  + last_week_workdays - first_week_workdays + 1"
   ]
  },
  {
   "cell_type": "code",
   "execution_count": 54,
   "metadata": {},
   "outputs": [
    {
     "data": {
      "text/plain": [
       "3"
      ]
     },
     "execution_count": 54,
     "metadata": {},
     "output_type": "execute_result"
    }
   ],
   "source": [
    "workdaycount(start,end)"
   ]
  },
  {
   "cell_type": "code",
   "execution_count": 83,
   "metadata": {},
   "outputs": [],
   "source": [
    "try:\n",
    "    with open(\"n2.txt\",\"r\") as f1:\n",
    "        a=f1.readlines()\n",
    "        f1.close()\n",
    "    \n",
    "    b=a.split()\n",
    "    s=b[0]\n",
    "    e=b[1]\n",
    "    start = dt.date( int(sy), int(sm), int(sd) )\n",
    "    end = dt.date( int(ey), int(em), int(ed) )\n",
    "\n",
    "    out=workdaycount(start,end)\n",
    "except:\n",
    "    out=\"error\"\n",
    "\n",
    "    "
   ]
  },
  {
   "cell_type": "code",
   "execution_count": 84,
   "metadata": {},
   "outputs": [
    {
     "data": {
      "text/plain": [
       "'error'"
      ]
     },
     "execution_count": 84,
     "metadata": {},
     "output_type": "execute_result"
    }
   ],
   "source": [
    "out"
   ]
  },
  {
   "cell_type": "code",
   "execution_count": 86,
   "metadata": {},
   "outputs": [],
   "source": [
    "import numpy as np\n",
    "import datetime as dt\n",
    "\n",
    "validcheck=dt.date(2019,12,30)\n",
    "\n",
    "def workdaycount(startdate,enddate):\n",
    "    if startdate <= validcheck:\n",
    "        return \"invalid\"\n",
    "    if startdate == enddate:\n",
    "        return int(startdate.weekday() < 5)\n",
    "    elif (enddate - startdate).days == 1 and enddate.weekday() == 6:\n",
    "        return 0\n",
    "    first_week_workdays = min(startdate.weekday(), 4) + 1\n",
    "    last_week_workdays = min(enddate.weekday(), 4) + 1\n",
    "    workweeks = int(enddate.strftime('%W')) - int(startdate.strftime('%W'))\n",
    "    return (5 * workweeks)  + last_week_workdays - first_week_workdays + 1\n",
    "out=[]\n",
    "\n",
    "try:\n",
    "    with open(\"input.txt\",\"r\") as f1:\n",
    "        i=f1.readlines()\n",
    "        \n",
    "    for a in i:\n",
    "        b=a.split()\n",
    "        s=b[0]\n",
    "        e=b[1]\n",
    "        sd,sm,sy=s.split(\"/\")\n",
    "        ed,em,ey=e.split(\"/\")\n",
    "    \n",
    "        start = dt.date( int(sy), int(sm), int(sd) )\n",
    "        end = dt.date( int(ey), int(em), int(ed) )\n",
    "\n",
    "        out.append(workdaycount(start,end))\n",
    "except:\n",
    "    out.append(\"error\")\n",
    "finally:\n",
    "    with open(\"output.txt\",\"w\") as f:\n",
    "        for i in out:\n",
    "            f.write(str(i))\n",
    "            f.write(\"\\n\")\n",
    "        f.close()"
   ]
  },
  {
   "cell_type": "code",
   "execution_count": 1,
   "metadata": {},
   "outputs": [],
   "source": [
    "#word count"
   ]
  },
  {
   "cell_type": "code",
   "execution_count": 3,
   "metadata": {},
   "outputs": [],
   "source": [
    "l=[\"a\",\"a\",\"b\",\"b\",\"d\",\"f\",\"f\",\"g\",\"f\",\"h\",\"a\",\"d\",\"c\",\"s\",\"s\",\"n\",\"n\",\"n\",\"n\",\"n\",\"f\",\"f\",\"n\"]"
   ]
  },
  {
   "cell_type": "code",
   "execution_count": 4,
   "metadata": {},
   "outputs": [],
   "source": [
    "count={}\n",
    "for key in l:\n",
    "    count[key]=count.get(key,0)+1"
   ]
  },
  {
   "cell_type": "code",
   "execution_count": 5,
   "metadata": {},
   "outputs": [
    {
     "data": {
      "text/plain": [
       "{'a': 3, 'b': 2, 'c': 1, 'd': 2, 'f': 5, 'g': 1, 'h': 1, 'n': 6, 's': 2}"
      ]
     },
     "execution_count": 5,
     "metadata": {},
     "output_type": "execute_result"
    }
   ],
   "source": [
    "count"
   ]
  },
  {
   "cell_type": "code",
   "execution_count": 9,
   "metadata": {},
   "outputs": [],
   "source": [
    "a=count.items()"
   ]
  },
  {
   "cell_type": "code",
   "execution_count": 12,
   "metadata": {},
   "outputs": [
    {
     "data": {
      "text/plain": [
       "dict_items([('a', 3), ('b', 2), ('d', 2), ('f', 5), ('g', 1), ('h', 1), ('c', 1), ('s', 2), ('n', 6)])"
      ]
     },
     "execution_count": 12,
     "metadata": {},
     "output_type": "execute_result"
    }
   ],
   "source": [
    "a"
   ]
  },
  {
   "cell_type": "code",
   "execution_count": 13,
   "metadata": {},
   "outputs": [],
   "source": [
    "x= (5, 1, 3)"
   ]
  },
  {
   "cell_type": "code",
   "execution_count": 16,
   "metadata": {},
   "outputs": [
    {
     "data": {
      "text/plain": [
       "True"
      ]
     },
     "execution_count": 16,
     "metadata": {},
     "output_type": "execute_result"
    }
   ],
   "source": [
    "y=(6,0,0)\n",
    "y>x"
   ]
  },
  {
   "cell_type": "code",
   "execution_count": 1,
   "metadata": {},
   "outputs": [],
   "source": [
    "#matrix operation"
   ]
  },
  {
   "cell_type": "code",
   "execution_count": 2,
   "metadata": {},
   "outputs": [
    {
     "name": "stdout",
     "output_type": "stream",
     "text": [
      "no of rows2\n",
      "no of column2\n"
     ]
    }
   ],
   "source": [
    "r=int(input(\"no of rows\"))\n",
    "c=int(input(\"no of column\"))"
   ]
  },
  {
   "cell_type": "code",
   "execution_count": 3,
   "metadata": {},
   "outputs": [
    {
     "name": "stdout",
     "output_type": "stream",
     "text": [
      "1\n",
      "8\n",
      "6\n",
      "7\n"
     ]
    }
   ],
   "source": [
    "matrix1=[ [int(input()) for j in range(c)] for i in range(r)]"
   ]
  },
  {
   "cell_type": "code",
   "execution_count": 6,
   "metadata": {},
   "outputs": [
    {
     "name": "stdout",
     "output_type": "stream",
     "text": [
      "matrix\n",
      "1 8 \n",
      "6 7 \n"
     ]
    }
   ],
   "source": [
    "print(\"matrix\")\n",
    "for i in range(r):\n",
    "    for j in range(c):\n",
    "        print(matrix1[i][j],end=\" \")\n",
    "    print()"
   ]
  },
  {
   "cell_type": "code",
   "execution_count": 7,
   "metadata": {},
   "outputs": [
    {
     "name": "stdout",
     "output_type": "stream",
     "text": [
      "matrix\n",
      "8\n"
     ]
    }
   ],
   "source": [
    "print(\"matrix\")\n",
    "re=0\n",
    "for i in range(r):\n",
    "    for j in range(c):\n",
    "        if i==j:\n",
    "            re+=matrix1[i][j]\n",
    "print(re)\n",
    "            \n",
    "    "
   ]
  },
  {
   "cell_type": "code",
   "execution_count": 12,
   "metadata": {},
   "outputs": [],
   "source": [
    "matrix2=[ [1 for j in range(c)] for i in range(r)]"
   ]
  },
  {
   "cell_type": "code",
   "execution_count": 13,
   "metadata": {},
   "outputs": [],
   "source": [
    "result=[ [matrix1[i][j]+matrix2[i][j] for j in range(c)] for i in range(r)]"
   ]
  },
  {
   "cell_type": "code",
   "execution_count": 14,
   "metadata": {},
   "outputs": [
    {
     "name": "stdout",
     "output_type": "stream",
     "text": [
      "matrix\n",
      "6 7 3 \n",
      "5 7 4 \n",
      "2 3 6 \n"
     ]
    }
   ],
   "source": [
    "print(\"matrix\")\n",
    "for i in range(r):\n",
    "    for j in range(c):\n",
    "        print(result[i][j],end=\" \")\n",
    "    print()"
   ]
  },
  {
   "cell_type": "code",
   "execution_count": 16,
   "metadata": {},
   "outputs": [
    {
     "ename": "SyntaxError",
     "evalue": "invalid syntax (<ipython-input-16-edeaaca7ce8a>, line 2)",
     "output_type": "error",
     "traceback": [
      "\u001b[1;36m  File \u001b[1;32m\"<ipython-input-16-edeaaca7ce8a>\"\u001b[1;36m, line \u001b[1;32m2\u001b[0m\n\u001b[1;33m    result=[ [r+=matrix1[k][j]*matrix2[i][k] for k in range(c) r for j in range(c)] for i in range(r)]\u001b[0m\n\u001b[1;37m                ^\u001b[0m\n\u001b[1;31mSyntaxError\u001b[0m\u001b[1;31m:\u001b[0m invalid syntax\n"
     ]
    }
   ],
   "source": [
    "r=0\n",
    "result=[ [r+=matrix1[k][j]*matrix2[i][k] for k in range(c) r for j in range(c)] for i in range(r)]"
   ]
  },
  {
   "cell_type": "code",
   "execution_count": 17,
   "metadata": {},
   "outputs": [],
   "source": [
    "for i in range(r):\n",
    "    for j in range(c):\n",
    "        r=0\n",
    "        for k in range(c):\n",
    "            r+=matrix1[k][j]*matrix2[i][k]\n",
    "        result[i][j]=r\n",
    "            "
   ]
  },
  {
   "cell_type": "code",
   "execution_count": 20,
   "metadata": {},
   "outputs": [
    {
     "name": "stdout",
     "output_type": "stream",
     "text": [
      "matrix\n",
      "10 14 10 \n",
      "10 14 10 \n",
      "10 14 10 \n"
     ]
    },
    {
     "ename": "IndexError",
     "evalue": "list index out of range",
     "output_type": "error",
     "traceback": [
      "\u001b[1;31m---------------------------------------------------------------------------\u001b[0m",
      "\u001b[1;31mIndexError\u001b[0m                                Traceback (most recent call last)",
      "\u001b[1;32m<ipython-input-20-a79b8c5df812>\u001b[0m in \u001b[0;36m<module>\u001b[1;34m()\u001b[0m\n\u001b[0;32m      2\u001b[0m \u001b[1;32mfor\u001b[0m \u001b[0mi\u001b[0m \u001b[1;32min\u001b[0m \u001b[0mrange\u001b[0m\u001b[1;33m(\u001b[0m\u001b[0mr\u001b[0m\u001b[1;33m)\u001b[0m\u001b[1;33m:\u001b[0m\u001b[1;33m\u001b[0m\u001b[1;33m\u001b[0m\u001b[0m\n\u001b[0;32m      3\u001b[0m     \u001b[1;32mfor\u001b[0m \u001b[0mj\u001b[0m \u001b[1;32min\u001b[0m \u001b[0mrange\u001b[0m\u001b[1;33m(\u001b[0m\u001b[0mc\u001b[0m\u001b[1;33m)\u001b[0m\u001b[1;33m:\u001b[0m\u001b[1;33m\u001b[0m\u001b[1;33m\u001b[0m\u001b[0m\n\u001b[1;32m----> 4\u001b[1;33m         \u001b[0mprint\u001b[0m\u001b[1;33m(\u001b[0m\u001b[0mresult\u001b[0m\u001b[1;33m[\u001b[0m\u001b[0mi\u001b[0m\u001b[1;33m]\u001b[0m\u001b[1;33m[\u001b[0m\u001b[0mj\u001b[0m\u001b[1;33m]\u001b[0m\u001b[1;33m,\u001b[0m\u001b[0mend\u001b[0m\u001b[1;33m=\u001b[0m\u001b[1;34m\" \"\u001b[0m\u001b[1;33m)\u001b[0m\u001b[1;33m\u001b[0m\u001b[1;33m\u001b[0m\u001b[0m\n\u001b[0m\u001b[0;32m      5\u001b[0m     \u001b[0mprint\u001b[0m\u001b[1;33m(\u001b[0m\u001b[1;33m)\u001b[0m\u001b[1;33m\u001b[0m\u001b[1;33m\u001b[0m\u001b[0m\n",
      "\u001b[1;31mIndexError\u001b[0m: list index out of range"
     ]
    }
   ],
   "source": [
    "print(\"matrix\")\n",
    "for i in range(r):\n",
    "    for j in range(c):\n",
    "        print(result[i][j],end=\" \")\n",
    "    print()"
   ]
  },
  {
   "cell_type": "code",
   "execution_count": 21,
   "metadata": {},
   "outputs": [],
   "source": [
    "name=\"shubham\""
   ]
  },
  {
   "cell_type": "code",
   "execution_count": 24,
   "metadata": {},
   "outputs": [],
   "source": [
    "d={\"s\":\"1\",\"m\":2}\n",
    "t=name.maketrans(d)"
   ]
  },
  {
   "cell_type": "code",
   "execution_count": 25,
   "metadata": {},
   "outputs": [],
   "source": [
    "t1=name.maketrans(\"shu\",\"ham\")"
   ]
  },
  {
   "cell_type": "code",
   "execution_count": 26,
   "metadata": {},
   "outputs": [
    {
     "data": {
      "text/plain": [
       "{104: 97, 115: 104, 117: 109}"
      ]
     },
     "execution_count": 26,
     "metadata": {},
     "output_type": "execute_result"
    }
   ],
   "source": [
    "t1"
   ]
  },
  {
   "cell_type": "raw",
   "metadata": {},
   "source": [
    "1st parameter for dict replacement 2nd for replace 1st of same lenth third for put none or delete"
   ]
  },
  {
   "cell_type": "code",
   "execution_count": 28,
   "metadata": {},
   "outputs": [
    {
     "data": {
      "text/plain": [
       "'1hubha\\x02'"
      ]
     },
     "execution_count": 28,
     "metadata": {},
     "output_type": "execute_result"
    }
   ],
   "source": [
    "name.translate(t)"
   ]
  },
  {
   "cell_type": "code",
   "execution_count": 29,
   "metadata": {},
   "outputs": [
    {
     "data": {
      "text/plain": [
       "'hambaam'"
      ]
     },
     "execution_count": 29,
     "metadata": {},
     "output_type": "execute_result"
    }
   ],
   "source": [
    "name.translate(t1)"
   ]
  },
  {
   "cell_type": "code",
   "execution_count": null,
   "metadata": {},
   "outputs": [],
   "source": []
  }
 ],
 "metadata": {
  "kernelspec": {
   "display_name": "Python 3",
   "language": "python",
   "name": "python3"
  },
  "language_info": {
   "codemirror_mode": {
    "name": "ipython",
    "version": 3
   },
   "file_extension": ".py",
   "mimetype": "text/x-python",
   "name": "python",
   "nbconvert_exporter": "python",
   "pygments_lexer": "ipython3",
   "version": "3.6.9"
  }
 },
 "nbformat": 4,
 "nbformat_minor": 2
}
