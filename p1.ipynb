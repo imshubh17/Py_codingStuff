{
 "cells": [
  {
   "cell_type": "markdown",
   "metadata": {},
   "source": [
    "# Program to find area of a circle using functions"
   ]
  },
  {
   "cell_type": "code",
   "execution_count": 1,
   "metadata": {},
   "outputs": [
    {
     "name": "stdout",
     "output_type": "stream",
     "text": [
      "Input the radius of the circle :25\n",
      "The area of the circle is: 1963.4954084936207\n"
     ]
    }
   ],
   "source": [
    "from math import pi\n",
    "def area_of_a_circle(radius):\n",
    "    return str(pi * radius**2)\n",
    "radius = float(input (\"Input the radius of the circle :\"))\n",
    "print (\"The area of the circle is: \" + area_of_a_circle(radius))"
   ]
  },
  {
   "cell_type": "markdown",
   "metadata": {},
   "source": [
    "# Leap year program"
   ]
  },
  {
   "cell_type": "code",
   "execution_count": 3,
   "metadata": {},
   "outputs": [
    {
     "name": "stdout",
     "output_type": "stream",
     "text": [
      "Enter a year :2015\n",
      "not leap year\n"
     ]
    }
   ],
   "source": [
    "year = int(input(\"Enter a year :\" ))\n",
    "if(year%4 == 0):\n",
    "    print(\"lear year\")\n",
    "elif ( year%100 == 0):\n",
    "    print(\"leap year\")\n",
    "elif ( year%400 == 0):\n",
    "    print(\"leap year\")\n",
    "else:\n",
    "    print(\"not leap year\")"
   ]
  },
  {
   "cell_type": "markdown",
   "metadata": {},
   "source": [
    "# palindrom"
   ]
  },
  {
   "cell_type": "code",
   "execution_count": 9,
   "metadata": {},
   "outputs": [
    {
     "name": "stdout",
     "output_type": "stream",
     "text": [
      "number :shubh\n",
      "hbuhs\n"
     ]
    }
   ],
   "source": [
    "def reverse(str):\n",
    "   return str[::-1]\n",
    "\n",
    "n =input(\"number :\" )\n",
    "c=reverse(n)\n",
    "print(c)"
   ]
  },
  {
   "cell_type": "markdown",
   "metadata": {},
   "source": [
    "# prime or not"
   ]
  },
  {
   "cell_type": "code",
   "execution_count": 2,
   "metadata": {},
   "outputs": [
    {
     "name": "stdout",
     "output_type": "stream",
     "text": [
      "Enter number :17\n",
      "Prime number\n"
     ]
    }
   ],
   "source": [
    "n=int(input(\"Enter number :\"))\n",
    "\n",
    "for i in range(2,n):\n",
    "    if n % i == 0:\n",
    "        print(\"Not Prime\")\n",
    "        break\n",
    "else:\n",
    "    print(\"Prime number\")"
   ]
  },
  {
   "cell_type": "markdown",
   "metadata": {},
   "source": [
    "# Factorial"
   ]
  },
  {
   "cell_type": "code",
   "execution_count": 3,
   "metadata": {},
   "outputs": [
    {
     "name": "stdout",
     "output_type": "stream",
     "text": [
      "720\n"
     ]
    }
   ],
   "source": [
    "def fact(n):\n",
    "    if n==0:\n",
    "        return 1\n",
    "    return n*fact(n-1)\n",
    "\n",
    "result=fact(6)\n",
    "print(result)"
   ]
  },
  {
   "cell_type": "code",
   "execution_count": 1,
   "metadata": {},
   "outputs": [],
   "source": [
    "#binary search"
   ]
  },
  {
   "cell_type": "code",
   "execution_count": 3,
   "metadata": {},
   "outputs": [],
   "source": [
    "a=[45,62,555,4,99,6]\n",
    "\n",
    "if 9 in a:\n",
    "    print(\"present\")"
   ]
  },
  {
   "cell_type": "code",
   "execution_count": 4,
   "metadata": {},
   "outputs": [
    {
     "data": {
      "text/plain": [
       "[4, 6, 45, 62, 99, 555]"
      ]
     },
     "execution_count": 4,
     "metadata": {},
     "output_type": "execute_result"
    }
   ],
   "source": [
    "sorted(a)"
   ]
  },
  {
   "cell_type": "code",
   "execution_count": 5,
   "metadata": {},
   "outputs": [
    {
     "data": {
      "text/plain": [
       "[45, 62, 555, 4, 99, 6]"
      ]
     },
     "execution_count": 5,
     "metadata": {},
     "output_type": "execute_result"
    }
   ],
   "source": [
    "a"
   ]
  },
  {
   "cell_type": "code",
   "execution_count": 8,
   "metadata": {},
   "outputs": [
    {
     "name": "stdout",
     "output_type": "stream",
     "text": [
      "hello,mylist 3\n"
     ]
    }
   ],
   "source": [
    "print(\"hello,mylist {0}\".format(a))"
   ]
  },
  {
   "cell_type": "code",
   "execution_count": 63,
   "metadata": {},
   "outputs": [
    {
     "name": "stdout",
     "output_type": "stream",
     "text": [
      "3\n",
      "***\n",
      "\n",
      "**\n",
      "\n",
      "*\n",
      "\n"
     ]
    }
   ],
   "source": [
    "n=int(input())\n",
    "for i in range(n,0,-1):\n",
    "    for j in range(1,i+1,1):\n",
    "        print(\"*\",end=\"\")\n",
    "    print(\"\\n\")"
   ]
  },
  {
   "cell_type": "code",
   "execution_count": 23,
   "metadata": {},
   "outputs": [
    {
     "name": "stdout",
     "output_type": "stream",
     "text": [
      "[1, 2, 3, 4, 5, 6]\n",
      "8\n",
      "6\n"
     ]
    }
   ],
   "source": [
    "a=[1,2,3,4,4,5,6,6]\n",
    "b=[]\n",
    "for i in range(len(a)):\n",
    "    if a[i] in b:\n",
    "        continue\n",
    "    else:\n",
    "        b.append(a[i])\n",
    "print(b)\n",
    "print(len(a))\n",
    "print(len(b))"
   ]
  },
  {
   "cell_type": "code",
   "execution_count": 26,
   "metadata": {},
   "outputs": [
    {
     "name": "stdout",
     "output_type": "stream",
     "text": [
      "<class 'list'>\n"
     ]
    }
   ],
   "source": [
    "print(type(a))"
   ]
  },
  {
   "cell_type": "code",
   "execution_count": 1,
   "metadata": {},
   "outputs": [],
   "source": [
    "#Fibonacci\n",
    "class fibonacci():\n",
    "    def __init__(self,a,b,n):\n",
    "        self.a=a\n",
    "        self.b=b\n",
    "        self.n=n\n",
    "    def result(self):\n",
    "        for i in range(self.n):\n",
    "            result=self.a+self.b\n",
    "            print(\"<{0}><{1}><{2}>\".format(self.a,self.b,result))\n",
    "            self.a=self.b\n",
    "            self.b=result"
   ]
  },
  {
   "cell_type": "code",
   "execution_count": 4,
   "metadata": {},
   "outputs": [
    {
     "name": "stdout",
     "output_type": "stream",
     "text": [
      "enter a :0\n",
      "enter b :1\n",
      "enter number of terms :6\n",
      "<0><1><1>\n",
      "<1><1><2>\n",
      "<1><2><3>\n",
      "<2><3><5>\n",
      "<3><5><8>\n",
      "<5><8><13>\n"
     ]
    }
   ],
   "source": [
    "a=int(input(\"enter a :\"))\n",
    "b=int(input(\"enter b :\"))\n",
    "n=int(input(\"enter number of terms :\"))\n",
    "\n",
    "f=fibonacci(a,b,n)\n",
    "f.result()"
   ]
  },
  {
   "cell_type": "code",
   "execution_count": 5,
   "metadata": {},
   "outputs": [],
   "source": [
    "#Armstrong"
   ]
  },
  {
   "cell_type": "code",
   "execution_count": 18,
   "metadata": {},
   "outputs": [],
   "source": [
    "class amstrong():\n",
    "    def __init__(self,n):\n",
    "        self.n=n\n",
    "    def result(self):\n",
    "        temp=self.n\n",
    "        s=0\n",
    "        while(temp>0):\n",
    "            rem=int(temp%10)\n",
    "            s=int(s+pow(rem,3))\n",
    "            temp=temp/10\n",
    "        if self.n == s :\n",
    "            print(\"{0} is Amstrong Number\".format(self.n))\n",
    "            "
   ]
  },
  {
   "cell_type": "code",
   "execution_count": 21,
   "metadata": {},
   "outputs": [
    {
     "name": "stdout",
     "output_type": "stream",
     "text": [
      "Enter Number :153\n",
      "153 is Amstrong Number\n"
     ]
    }
   ],
   "source": [
    "n=int(input(\"Enter Number :\"))\n",
    "a=amstrong(n)\n",
    "a.result()"
   ]
  },
  {
   "cell_type": "code",
   "execution_count": 26,
   "metadata": {},
   "outputs": [],
   "source": [
    "#sum of n digit number\n",
    "def add(n):\n",
    "    if n<=9 :\n",
    "        return n\n",
    "    else:\n",
    "        return (int(n%10)+add(int(n/10)))"
   ]
  },
  {
   "cell_type": "code",
   "execution_count": 27,
   "metadata": {},
   "outputs": [
    {
     "name": "stdout",
     "output_type": "stream",
     "text": [
      "enter Digit :584\n",
      "Result : 17\n"
     ]
    }
   ],
   "source": [
    "n=int(input(\"enter Digit :\"))\n",
    "result=add(n)\n",
    "print(\"Result :\",result)"
   ]
  },
  {
   "cell_type": "code",
   "execution_count": 29,
   "metadata": {},
   "outputs": [],
   "source": [
    "#multidimension array"
   ]
  },
  {
   "cell_type": "code",
   "execution_count": 52,
   "metadata": {},
   "outputs": [],
   "source": [
    "class matric():\n",
    "    def __init__(self):\n",
    "        r=int(input(\"enter no rows :\"))\n",
    "        c=int(input(\"enter no column :\"))\n",
    "        self.r=r\n",
    "        self.c=c\n",
    "             \n",
    "    def result(self):\n",
    "        r=self.r\n",
    "        c=self.c\n",
    "        mat=[]\n",
    "        for i in range(r):\n",
    "            a=[]\n",
    "            for j in range(c):\n",
    "                a.append(int(input()))\n",
    "            mat.append(a)\n",
    "        print(\"Matric:\")\n",
    "        for i in range(r):\n",
    "            for j in range(c):\n",
    "                print(mat[i][j],end=\" \")\n",
    "            print()\n",
    "        print(\"Transpose Matric:\")\n",
    "        for j in range(c):\n",
    "            for i in range(r):\n",
    "                print(mat[i][j],end=\" \")\n",
    "            print()\n",
    "    "
   ]
  },
  {
   "cell_type": "code",
   "execution_count": 53,
   "metadata": {},
   "outputs": [
    {
     "name": "stdout",
     "output_type": "stream",
     "text": [
      "enter no rows :2\n",
      "enter no column :2\n",
      "6\n",
      "4\n",
      "8\n",
      "7\n",
      "Matric:\n",
      "\n",
      "6 4 \n",
      "8 7 \n",
      "Transpose Matric:\n",
      "\n",
      "6 8 \n",
      "4 7 \n"
     ]
    }
   ],
   "source": [
    "m=matric()\n",
    "m.result()\n"
   ]
  },
  {
   "cell_type": "code",
   "execution_count": 60,
   "metadata": {},
   "outputs": [
    {
     "name": "stdout",
     "output_type": "stream",
     "text": [
      "enter string :madam\n",
      "palindrome string\n"
     ]
    }
   ],
   "source": [
    "#palindrome\n",
    "str=input(\"enter string :\")\n",
    "for i in range(len(str)):\n",
    "    if str[i]==str[-i-1] :\n",
    "        f=1\n",
    "    else:\n",
    "        f=0\n",
    "if f==1:\n",
    "    print(\"palindrome string\")\n",
    "else:\n",
    "    print(\"Not Palindrome string\")"
   ]
  },
  {
   "cell_type": "code",
   "execution_count": null,
   "metadata": {},
   "outputs": [],
   "source": [
    "#extra"
   ]
  },
  {
   "cell_type": "code",
   "execution_count": 1,
   "metadata": {},
   "outputs": [],
   "source": [
    "import re"
   ]
  },
  {
   "cell_type": "code",
   "execution_count": 2,
   "metadata": {},
   "outputs": [],
   "source": [
    "temp='indiparker@ind.com'"
   ]
  },
  {
   "cell_type": "code",
   "execution_count": 3,
   "metadata": {},
   "outputs": [],
   "source": [
    "temp1=''"
   ]
  },
  {
   "cell_type": "code",
   "execution_count": 4,
   "metadata": {},
   "outputs": [
    {
     "name": "stdout",
     "output_type": "stream",
     "text": [
      "indiparker@edu.com\n"
     ]
    }
   ],
   "source": [
    "if(re.search(r'@ind\\.',temp)):\n",
    "    temp1=re.sub(r'i\\w+(\\.com)',r'edu\\1',temp)\n",
    "print(temp1)"
   ]
  },
  {
   "cell_type": "code",
   "execution_count": 5,
   "metadata": {},
   "outputs": [],
   "source": [
    "#exta"
   ]
  },
  {
   "cell_type": "code",
   "execution_count": 6,
   "metadata": {},
   "outputs": [],
   "source": [
    "c=\"i am shubham\""
   ]
  },
  {
   "cell_type": "code",
   "execution_count": 12,
   "metadata": {},
   "outputs": [
    {
     "name": "stdout",
     "output_type": "stream",
     "text": [
      "count: 2\n"
     ]
    }
   ],
   "source": [
    "for t in c.split():\n",
    "    if(t.endswith('am')):\n",
    "        print(\"count:\",c.count(\"am\"))\n",
    "        break"
   ]
  },
  {
   "cell_type": "code",
   "execution_count": 15,
   "metadata": {},
   "outputs": [
    {
     "data": {
      "text/plain": [
       "'i am nhubham'"
      ]
     },
     "execution_count": 15,
     "metadata": {},
     "output_type": "execute_result"
    }
   ],
   "source": [
    "c=c.replace(\"s\",\"n\")\n",
    "c"
   ]
  },
  {
   "cell_type": "code",
   "execution_count": 1,
   "metadata": {},
   "outputs": [],
   "source": [
    "import sys"
   ]
  },
  {
   "cell_type": "code",
   "execution_count": 2,
   "metadata": {},
   "outputs": [],
   "source": [
    "a=[]"
   ]
  },
  {
   "cell_type": "code",
   "execution_count": 7,
   "metadata": {},
   "outputs": [
    {
     "data": {
      "text/plain": [
       "0"
      ]
     },
     "execution_count": 7,
     "metadata": {},
     "output_type": "execute_result"
    }
   ],
   "source": [
    "sys.getsizeof(a)-64"
   ]
  },
  {
   "cell_type": "code",
   "execution_count": 10,
   "metadata": {},
   "outputs": [
    {
     "data": {
      "text/plain": [
       "1"
      ]
     },
     "execution_count": 10,
     "metadata": {},
     "output_type": "execute_result"
    }
   ],
   "source": [
    "17//11\n"
   ]
  },
  {
   "cell_type": "code",
   "execution_count": 1,
   "metadata": {},
   "outputs": [
    {
     "name": "stdout",
     "output_type": "stream",
     "text": [
      "im shubham singh\n",
      "im-shubham-singh\n"
     ]
    }
   ],
   "source": [
    "def split_and_join(line):\n",
    "    # write your code here\n",
    "    line=line.split(\" \")\n",
    "    line=\"-\".join(line)\n",
    "    return line\n",
    "\n",
    "if __name__ == '__main__':\n",
    "    line = input()\n",
    "    result = split_and_join(line)\n",
    "    print(result)"
   ]
  },
  {
   "cell_type": "code",
   "execution_count": 2,
   "metadata": {},
   "outputs": [
    {
     "name": "stdout",
     "output_type": "stream",
     "text": [
      "1 4\n"
     ]
    },
    {
     "data": {
      "text/plain": [
       "'1'"
      ]
     },
     "execution_count": 2,
     "metadata": {},
     "output_type": "execute_result"
    }
   ],
   "source": [
    "n=input()\n",
    "n.split(\" \")\n",
    "n[0]"
   ]
  },
  {
   "cell_type": "code",
   "execution_count": 1,
   "metadata": {},
   "outputs": [
    {
     "data": {
      "text/plain": [
       "[6, 5, 6, 9, 7, 5]"
      ]
     },
     "execution_count": 1,
     "metadata": {},
     "output_type": "execute_result"
    }
   ],
   "source": [
    "#filter: return true value\n",
    "def gt(n):\n",
    "    if n>2:\n",
    "        return True\n",
    "    else:\n",
    "        return False\n",
    "h1=[6,5,2,6,9,7,2,5,1]\n",
    "g=list(filter(gt,h1))\n",
    "g"
   ]
  },
  {
   "cell_type": "code",
   "execution_count": 2,
   "metadata": {},
   "outputs": [
    {
     "name": "stdout",
     "output_type": "stream",
     "text": [
      "-ad1771997bh\n",
      "-1771997\n"
     ]
    }
   ],
   "source": [
    "#alphnumeric\n",
    "a=str(input())\n",
    "r=''.join(filter(lambda i:i.isdigit(),a))\n",
    "if a[0]==\"-\":\n",
    "    print('-'+str(r))\n",
    "else:\n",
    "    print(str(r))"
   ]
  },
  {
   "cell_type": "code",
   "execution_count": 8,
   "metadata": {},
   "outputs": [],
   "source": [
    "def rv(n):\n",
    "    rev=0\n",
    "    while(n>0):\n",
    "        d=n%10\n",
    "        rev=rev*10+d\n",
    "        n=n//10\n",
    "    return rev"
   ]
  },
  {
   "cell_type": "code",
   "execution_count": 9,
   "metadata": {},
   "outputs": [],
   "source": [
    "def c(n):\n",
    "    r=rv(n)\n",
    "    return (r+n)"
   ]
  },
  {
   "cell_type": "code",
   "execution_count": 10,
   "metadata": {},
   "outputs": [],
   "source": [
    "def p(n):\n",
    "    n=c(n)\n",
    "    rt=rv(n)\n",
    "    if n==rt:\n",
    "        print(n)\n",
    "    else:\n",
    "        p(n)"
   ]
  },
  {
   "cell_type": "code",
   "execution_count": 13,
   "metadata": {},
   "outputs": [
    {
     "name": "stdout",
     "output_type": "stream",
     "text": [
      "4\n",
      "8\n"
     ]
    }
   ],
   "source": [
    "n=int(input())\n",
    "p(n)"
   ]
  },
  {
   "cell_type": "code",
   "execution_count": 19,
   "metadata": {},
   "outputs": [],
   "source": [
    "#next"
   ]
  },
  {
   "cell_type": "code",
   "execution_count": 24,
   "metadata": {},
   "outputs": [
    {
     "name": "stdout",
     "output_type": "stream",
     "text": [
      "30\n",
      "492\n"
     ]
    }
   ],
   "source": [
    "a=123\n",
    "print(a>>2)#riget\n",
    "print(a<<2)#left"
   ]
  },
  {
   "cell_type": "code",
   "execution_count": 27,
   "metadata": {},
   "outputs": [
    {
     "name": "stdout",
     "output_type": "stream",
     "text": [
      "[1, 2, 3]\n",
      "[1, 2, 3, 'ml']\n",
      "[1, 2, 3, 'ml', 'd', 'f']\n",
      "[1, 2, 's', 3, 'ml', 'd', 'f']\n",
      "[1, 2, 's', 3, 'd', 'f']\n"
     ]
    }
   ],
   "source": [
    "list=[1,2,3]\n",
    "print(list)\n",
    "list.append(\"ml\")#add an item at end\n",
    "print(list)\n",
    "list.extend(['d','f'])#add many item at end\n",
    "print(list)\n",
    "list.insert(2,'s')#add at position\n",
    "print(list)\n",
    "list.remove(\"ml\")#remove\n",
    "print(list)"
   ]
  },
  {
   "cell_type": "code",
   "execution_count": 4,
   "metadata": {},
   "outputs": [
    {
     "name": "stdout",
     "output_type": "stream",
     "text": [
      "my name is shubham and age is 22\n"
     ]
    }
   ],
   "source": [
    "name=\"shubham\"\n",
    "age=22\n",
    "print(\"my name is %s and age is %d\"%(name,age))"
   ]
  },
  {
   "cell_type": "code",
   "execution_count": 5,
   "metadata": {},
   "outputs": [
    {
     "name": "stdout",
     "output_type": "stream",
     "text": [
      "Hiddentext\n",
      "2\n"
     ]
    }
   ],
   "source": [
    "str=\"hiddenText\"\n",
    "print(str.capitalize())\n",
    "print(str.count(\"d\",0,len(str)))"
   ]
  },
  {
   "cell_type": "code",
   "execution_count": 15,
   "metadata": {},
   "outputs": [
    {
     "name": "stdout",
     "output_type": "stream",
     "text": [
      "hidd-e-nText\n",
      "HIDDENTEXT\n",
      "hiddentext\n",
      "6\n"
     ]
    }
   ],
   "source": [
    "print(str.replace('e','-e-',1))\n",
    "print(str.upper())\n",
    "print(str.lower())\n",
    "print(str.find('T'))"
   ]
  },
  {
   "cell_type": "code",
   "execution_count": 1,
   "metadata": {},
   "outputs": [
    {
     "name": "stdout",
     "output_type": "stream",
     "text": [
      "{1, 2, 3, 4, 5, 6}\n",
      "{1, 3}\n",
      "{2, 4}\n",
      "False\n",
      "{2, 4, 5, 6}\n"
     ]
    }
   ],
   "source": [
    "#union operator\n",
    "a={1,2,3,4}\n",
    "b={1,5,6,3}\n",
    "print(a|b)#union\n",
    "print(a & b)#intersection common\n",
    "print(a-b)#difference or only present in a\n",
    "print(b.issubset(a))\n",
    "print(a ^ b)"
   ]
  },
  {
   "cell_type": "code",
   "execution_count": 25,
   "metadata": {},
   "outputs": [
    {
     "name": "stdout",
     "output_type": "stream",
     "text": [
      "{1, 2, 3, 'a', 'b'}\n",
      "{1, 2, 3, 'c', 'a', 'b'}\n",
      "{2, 3, 'c', 'b'}\n"
     ]
    },
    {
     "data": {
      "text/plain": [
       "{3, 'b', 'c'}"
      ]
     },
     "execution_count": 25,
     "metadata": {},
     "output_type": "execute_result"
    }
   ],
   "source": [
    "#set\n",
    "s={1,1,2,3,'a','b'}\n",
    "print(s)\n",
    "s.add('c')\n",
    "print(s)\n",
    "s.remove(1)#should present\n",
    "s.discard('a')#if present\n",
    "print(s)\n",
    "s.pop()\n",
    "s"
   ]
  },
  {
   "cell_type": "code",
   "execution_count": 1,
   "metadata": {},
   "outputs": [],
   "source": [
    "#next"
   ]
  },
  {
   "cell_type": "code",
   "execution_count": 5,
   "metadata": {},
   "outputs": [
    {
     "name": "stdout",
     "output_type": "stream",
     "text": [
      "2\n"
     ]
    }
   ],
   "source": [
    "n=2\n",
    "a=[1,2,3,3,4,4]\n",
    "b=a[n+1:]\n",
    "c=set()\n",
    "for i in b:\n",
    "    c.add(i)\n",
    "print(len(c))"
   ]
  },
  {
   "cell_type": "code",
   "execution_count": 6,
   "metadata": {},
   "outputs": [],
   "source": [
    "#numpy"
   ]
  },
  {
   "cell_type": "code",
   "execution_count": 7,
   "metadata": {},
   "outputs": [],
   "source": [
    "import numpy as np"
   ]
  },
  {
   "cell_type": "code",
   "execution_count": 9,
   "metadata": {},
   "outputs": [
    {
     "name": "stdout",
     "output_type": "stream",
     "text": [
      "[[1 2]\n",
      " [4 5]]\n"
     ]
    }
   ],
   "source": [
    "a=np.array([[1,2,3],[4,5,6],[7,8,9]])\n",
    "print(a[0:2,0:2])"
   ]
  },
  {
   "cell_type": "code",
   "execution_count": 11,
   "metadata": {},
   "outputs": [
    {
     "data": {
      "text/plain": [
       "1"
      ]
     },
     "execution_count": 11,
     "metadata": {},
     "output_type": "execute_result"
    }
   ],
   "source": [
    "import random as r\n",
    "a=r.randint(1,10)\n",
    "a"
   ]
  },
  {
   "cell_type": "code",
   "execution_count": 6,
   "metadata": {},
   "outputs": [
    {
     "data": {
      "text/plain": [
       "65"
      ]
     },
     "execution_count": 6,
     "metadata": {},
     "output_type": "execute_result"
    }
   ],
   "source": [
    "ord(\"A\")"
   ]
  },
  {
   "cell_type": "code",
   "execution_count": null,
   "metadata": {},
   "outputs": [],
   "source": []
  }
 ],
 "metadata": {
  "kernelspec": {
   "display_name": "Python 3",
   "language": "python",
   "name": "python3"
  },
  "language_info": {
   "codemirror_mode": {
    "name": "ipython",
    "version": 3
   },
   "file_extension": ".py",
   "mimetype": "text/x-python",
   "name": "python",
   "nbconvert_exporter": "python",
   "pygments_lexer": "ipython3",
   "version": "3.6.9"
  }
 },
 "nbformat": 4,
 "nbformat_minor": 2
}
